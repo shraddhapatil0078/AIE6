{
  "cells": [
    {
      "cell_type": "markdown",
      "metadata": {
        "id": "gJXW_DgiSebM"
      },
      "source": [
        "# LangGraph and LangSmith - Agentic RAG Powered by LangChain\n",
        "\n",
        "In the following notebook we'll complete the following tasks:\n",
        "\n",
        "- 🤝 Breakout Room #1:\n",
        "  1. Install required libraries\n",
        "  2. Set Environment Variables\n",
        "  3. Creating our Tool Belt\n",
        "  4. Creating Our State\n",
        "  5. Creating and Compiling A Graph!\n",
        "\n",
        "- 🤝 Breakout Room #2:\n",
        "  1. Evaluating the LangGraph Application with LangSmith\n",
        "  2. Adding Helpfulness Check and \"Loop\" Limits\n",
        "  3. LangGraph for the \"Patterns\" of GenAI"
      ]
    },
    {
      "cell_type": "markdown",
      "metadata": {
        "id": "djQ3nRAgoF67"
      },
      "source": [
        "# 🤝 Breakout Room #1"
      ]
    },
    {
      "cell_type": "markdown",
      "metadata": {
        "id": "e7pQDUhUnIo8"
      },
      "source": [
        "## Part 1: LangGraph - Building Cyclic Applications with LangChain\n",
        "\n",
        "LangGraph is a tool that leverages LangChain Expression Language to build coordinated multi-actor and stateful applications that includes cyclic behaviour.\n",
        "\n",
        "### Why Cycles?\n",
        "\n",
        "In essence, we can think of a cycle in our graph as a more robust and customizable loop. It allows us to keep our application agent-forward while still giving the powerful functionality of traditional loops.\n",
        "\n",
        "Due to the inclusion of cycles over loops, we can also compose rather complex flows through our graph in a much more readable and natural fashion. Effectively allowing us to recreate application flowcharts in code in an almost 1-to-1 fashion.\n",
        "\n",
        "### Why LangGraph?\n",
        "\n",
        "Beyond the agent-forward approach - we can easily compose and combine traditional \"DAG\" (directed acyclic graph) chains with powerful cyclic behaviour due to the tight integration with LCEL. This means it's a natural extension to LangChain's core offerings!"
      ]
    },
    {
      "cell_type": "markdown",
      "metadata": {
        "id": "3_fLDElOVoop"
      },
      "source": [
        "## Task 1:  Dependencies\n",
        "\n",
        "We'll first install all our required libraries.\n",
        "\n",
        "> NOTE: If you're running this locally - please skip this step."
      ]
    },
    {
      "cell_type": "code",
      "execution_count": 1,
      "metadata": {
        "colab": {
          "base_uri": "https://localhost:8080/"
        },
        "id": "KaVwN269EttM",
        "outputId": "ba50f775-3957-4d88-9a88-43acc6966dda"
      },
      "outputs": [
        {
          "name": "stdout",
          "output_type": "stream",
          "text": [
            "  Preparing metadata (setup.py) ... \u001b[?25l\u001b[?25hdone\n",
            "\u001b[2K   \u001b[90m━━━━━━━━━━━━━━━━━━━━━━━━━━━━━━━━━━━━━━━━\u001b[0m \u001b[32m1.0/1.0 MB\u001b[0m \u001b[31m12.9 MB/s\u001b[0m eta \u001b[36m0:00:00\u001b[0m\n",
            "\u001b[2K   \u001b[90m━━━━━━━━━━━━━━━━━━━━━━━━━━━━━━━━━━━━━━━━\u001b[0m \u001b[32m54.4/54.4 kB\u001b[0m \u001b[31m3.4 MB/s\u001b[0m eta \u001b[36m0:00:00\u001b[0m\n",
            "\u001b[2K   \u001b[90m━━━━━━━━━━━━━━━━━━━━━━━━━━━━━━━━━━━━━━━━\u001b[0m \u001b[32m2.5/2.5 MB\u001b[0m \u001b[31m47.3 MB/s\u001b[0m eta \u001b[36m0:00:00\u001b[0m\n",
            "\u001b[2K   \u001b[90m━━━━━━━━━━━━━━━━━━━━━━━━━━━━━━━━━━━━━━━━\u001b[0m \u001b[32m145.8/145.8 kB\u001b[0m \u001b[31m9.1 MB/s\u001b[0m eta \u001b[36m0:00:00\u001b[0m\n",
            "\u001b[2K   \u001b[90m━━━━━━━━━━━━━━━━━━━━━━━━━━━━━━━━━━━━━━━━\u001b[0m \u001b[32m81.3/81.3 kB\u001b[0m \u001b[31m3.3 MB/s\u001b[0m eta \u001b[36m0:00:00\u001b[0m\n",
            "\u001b[2K   \u001b[90m━━━━━━━━━━━━━━━━━━━━━━━━━━━━━━━━━━━━━━━━\u001b[0m \u001b[32m412.4/412.4 kB\u001b[0m \u001b[31m12.1 MB/s\u001b[0m eta \u001b[36m0:00:00\u001b[0m\n",
            "\u001b[2K   \u001b[90m━━━━━━━━━━━━━━━━━━━━━━━━━━━━━━━━━━━━━━━━\u001b[0m \u001b[32m44.7/44.7 kB\u001b[0m \u001b[31m2.7 MB/s\u001b[0m eta \u001b[36m0:00:00\u001b[0m\n",
            "\u001b[2K   \u001b[90m━━━━━━━━━━━━━━━━━━━━━━━━━━━━━━━━━━━━━━━━\u001b[0m \u001b[32m1.2/1.2 MB\u001b[0m \u001b[31m19.5 MB/s\u001b[0m eta \u001b[36m0:00:00\u001b[0m\n",
            "\u001b[2K   \u001b[90m━━━━━━━━━━━━━━━━━━━━━━━━━━━━━━━━━━━━━━━━\u001b[0m \u001b[32m50.8/50.8 kB\u001b[0m \u001b[31m3.1 MB/s\u001b[0m eta \u001b[36m0:00:00\u001b[0m\n",
            "\u001b[?25h  Building wheel for sgmllib3k (setup.py) ... \u001b[?25l\u001b[?25hdone\n"
          ]
        }
      ],
      "source": [
        "#!pip install -qU langchain langchain_openai langchain-community langgraph arxiv"
      ]
    },
    {
      "cell_type": "markdown",
      "metadata": {
        "id": "wujPjGJuoPwg"
      },
      "source": [
        "## Task 2: Environment Variables\n",
        "\n",
        "We'll want to set both our OpenAI API key and our LangSmith environment variables."
      ]
    },
    {
      "cell_type": "code",
      "execution_count": 1,
      "metadata": {
        "colab": {
          "base_uri": "https://localhost:8080/"
        },
        "id": "Jdh8CoVWHRvs",
        "outputId": "3fa78560-393c-4ee5-b871-9886bf0d70f4"
      },
      "outputs": [],
      "source": [
        "import os\n",
        "import getpass\n",
        "\n",
        "os.environ[\"OPENAI_API_KEY\"] = getpass.getpass(\"OpenAI API Key:\")"
      ]
    },
    {
      "cell_type": "code",
      "execution_count": 2,
      "metadata": {
        "colab": {
          "base_uri": "https://localhost:8080/"
        },
        "id": "Jkla2fpx28QK",
        "outputId": "52d7ad22-fcb1-4abe-853b-216c55a12650"
      },
      "outputs": [],
      "source": [
        "os.environ[\"TAVILY_API_KEY\"] = getpass.getpass(\"TAVILY_API_KEY\")"
      ]
    },
    {
      "cell_type": "code",
      "execution_count": 3,
      "metadata": {
        "colab": {
          "base_uri": "https://localhost:8080/"
        },
        "id": "Nv0glIDyHmRt",
        "outputId": "b69df90a-b4e1-4ddb-9de0-882d98b68ab2"
      },
      "outputs": [],
      "source": [
        "from uuid import uuid4\n",
        "\n",
        "os.environ[\"LANGCHAIN_TRACING_V2\"] = \"true\"\n",
        "os.environ[\"LANGCHAIN_PROJECT\"] = f\"AIE6 - LangGraph - {uuid4().hex[0:8]}\"\n",
        "os.environ[\"LANGCHAIN_API_KEY\"] = getpass.getpass(\"LangSmith API Key: \")"
      ]
    },
    {
      "cell_type": "markdown",
      "metadata": {
        "id": "sBRyQmEAVzua"
      },
      "source": [
        "## Task 3: Creating our Tool Belt\n",
        "\n",
        "As is usually the case, we'll want to equip our agent with a toolbelt to help answer questions and add external knowledge.\n",
        "\n",
        "There's a tonne of tools in the [LangChain Community Repo](https://github.com/langchain-ai/langchain/tree/master/libs/community/langchain_community/tools) but we'll stick to a couple just so we can observe the cyclic nature of LangGraph in action!\n",
        "\n",
        "We'll leverage:\n",
        "\n",
        "- [Tavily Search Results](https://github.com/langchain-ai/langchain/blob/master/libs/community/langchain_community/tools/tavily_search/tool.py)\n",
        "- [Arxiv](https://github.com/langchain-ai/langchain/tree/master/libs/community/langchain_community/tools/arxiv)"
      ]
    },
    {
      "cell_type": "markdown",
      "metadata": {
        "id": "2k6n_Dob2F46"
      },
      "source": [
        "#### 🏗️ Activity #1:\n",
        "\n",
        "Please add the tools to use into our toolbelt.\n",
        "\n",
        "> NOTE: Each tool in our toolbelt should be a method."
      ]
    },
    {
      "cell_type": "code",
      "execution_count": 4,
      "metadata": {
        "id": "lAxaSvlfIeOg"
      },
      "outputs": [],
      "source": [
        "from langchain_community.tools.tavily_search import TavilySearchResults\n",
        "from langchain_community.tools.arxiv.tool import ArxivQueryRun\n",
        "\n",
        "tavily_tool = TavilySearchResults(max_results=5)\n",
        "\n",
        "tool_belt = [\n",
        "    tavily_tool,\n",
        "    ArxivQueryRun(),\n",
        "]"
      ]
    },
    {
      "cell_type": "markdown",
      "metadata": {
        "id": "VI-C669ZYVI5"
      },
      "source": [
        "### Model\n",
        "\n",
        "Now we can set-up our model! We'll leverage the familiar OpenAI model suite for this example - but it's not *necessary* to use with LangGraph. LangGraph supports all models - though you might not find success with smaller models - as such, they recommend you stick with:\n",
        "\n",
        "- OpenAI's GPT-3.5 and GPT-4\n",
        "- Anthropic's Claude\n",
        "- Google's Gemini\n",
        "\n",
        "> NOTE: Because we're leveraging the OpenAI function calling API - we'll need to use OpenAI *for this specific example* (or any other service that exposes an OpenAI-style function calling API."
      ]
    },
    {
      "cell_type": "code",
      "execution_count": 5,
      "metadata": {
        "id": "QkNS8rNZJs4z"
      },
      "outputs": [],
      "source": [
        "from langchain_openai import ChatOpenAI\n",
        "\n",
        "model = ChatOpenAI(model=\"gpt-4o\", temperature=0)"
      ]
    },
    {
      "cell_type": "markdown",
      "metadata": {
        "id": "Ugkj3GzuZpQv"
      },
      "source": [
        "Now that we have our model set-up, let's \"put on the tool belt\", which is to say: We'll bind our LangChain formatted tools to the model in an OpenAI function calling format."
      ]
    },
    {
      "cell_type": "code",
      "execution_count": 6,
      "metadata": {
        "id": "4OdMqFafZ_0V"
      },
      "outputs": [],
      "source": [
        "model = model.bind_tools(tool_belt)"
      ]
    },
    {
      "cell_type": "markdown",
      "metadata": {
        "id": "ERzuGo6W18Lr"
      },
      "source": [
        "#### ❓ Question #1:\n",
        "\n",
        "How does the model determine which tool to use?\n",
        "\n",
        "Ans: The model determines which tool to used based on the analysis of query, by reasoning capability of LLMs it analyzes if the external tools to be needed to complete the request. Like for recent event queries web search tool might be needed."
      ]
    },
    {
      "cell_type": "markdown",
      "metadata": {
        "id": "_296Ub96Z_H8"
      },
      "source": [
        "## Task 4: Putting the State in Stateful\n",
        "\n",
        "Earlier we used this phrasing:\n",
        "\n",
        "`coordinated multi-actor and stateful applications`\n",
        "\n",
        "So what does that \"stateful\" mean?\n",
        "\n",
        "To put it simply - we want to have some kind of object which we can pass around our application that holds information about what the current situation (state) is. Since our system will be constructed of many parts moving in a coordinated fashion - we want to be able to ensure we have some commonly understood idea of that state.\n",
        "\n",
        "LangGraph leverages a `StatefulGraph` which uses an `AgentState` object to pass information between the various nodes of the graph.\n",
        "\n",
        "There are more options than what we'll see below - but this `AgentState` object is one that is stored in a `TypedDict` with the key `messages` and the value is a `Sequence` of `BaseMessages` that will be appended to whenever the state changes.\n",
        "\n",
        "Let's think about a simple example to help understand exactly what this means (we'll simplify a great deal to try and clearly communicate what state is doing):\n",
        "\n",
        "1. We initialize our state object:\n",
        "  - `{\"messages\" : []}`\n",
        "2. Our user submits a query to our application.\n",
        "  - New State: `HumanMessage(#1)`\n",
        "  - `{\"messages\" : [HumanMessage(#1)}`\n",
        "3. We pass our state object to an Agent node which is able to read the current state. It will use the last `HumanMessage` as input. It gets some kind of output which it will add to the state.\n",
        "  - New State: `AgentMessage(#1, additional_kwargs {\"function_call\" : \"WebSearchTool\"})`\n",
        "  - `{\"messages\" : [HumanMessage(#1), AgentMessage(#1, ...)]}`\n",
        "4. We pass our state object to a \"conditional node\" (more on this later) which reads the last state to determine if we need to use a tool - which it can determine properly because of our provided object!"
      ]
    },
    {
      "cell_type": "code",
      "execution_count": 7,
      "metadata": {
        "id": "mxL9b_NZKUdL"
      },
      "outputs": [],
      "source": [
        "from typing import TypedDict, Annotated\n",
        "from langgraph.graph.message import add_messages\n",
        "import operator\n",
        "from langchain_core.messages import BaseMessage\n",
        "\n",
        "class AgentState(TypedDict):\n",
        "  messages: Annotated[list, add_messages]"
      ]
    },
    {
      "cell_type": "markdown",
      "metadata": {
        "id": "vWsMhfO9grLu"
      },
      "source": [
        "## Task 5: It's Graphing Time!\n",
        "\n",
        "Now that we have state, and we have tools, and we have an LLM - we can finally start making our graph!\n",
        "\n",
        "Let's take a second to refresh ourselves about what a graph is in this context.\n",
        "\n",
        "Graphs, also called networks in some circles, are a collection of connected objects.\n",
        "\n",
        "The objects in question are typically called nodes, or vertices, and the connections are called edges.\n",
        "\n",
        "Let's look at a simple graph.\n",
        "\n",
        "![image](https://i.imgur.com/2NFLnIc.png)\n",
        "\n",
        "Here, we're using the coloured circles to represent the nodes and the yellow lines to represent the edges. In this case, we're looking at a fully connected graph - where each node is connected by an edge to each other node.\n",
        "\n",
        "If we were to think about nodes in the context of LangGraph - we would think of a function, or an LCEL runnable.\n",
        "\n",
        "If we were to think about edges in the context of LangGraph - we might think of them as \"paths to take\" or \"where to pass our state object next\".\n",
        "\n",
        "Let's create some nodes and expand on our diagram.\n",
        "\n",
        "> NOTE: Due to the tight integration with LCEL - we can comfortably create our nodes in an async fashion!"
      ]
    },
    {
      "cell_type": "code",
      "execution_count": 8,
      "metadata": {
        "id": "91flJWtZLUrl"
      },
      "outputs": [],
      "source": [
        "from langgraph.prebuilt import ToolNode\n",
        "\n",
        "def call_model(state):\n",
        "  messages = state[\"messages\"]\n",
        "  response = model.invoke(messages)\n",
        "  return {\"messages\" : [response]}\n",
        "\n",
        "tool_node = ToolNode(tool_belt)"
      ]
    },
    {
      "cell_type": "markdown",
      "metadata": {
        "id": "2bwR7MgWj3Wg"
      },
      "source": [
        "Now we have two total nodes. We have:\n",
        "\n",
        "- `call_model` is a node that will...well...call the model\n",
        "- `tool_node` is a node which can call a tool\n",
        "\n",
        "Let's start adding nodes! We'll update our diagram along the way to keep track of what this looks like!\n"
      ]
    },
    {
      "cell_type": "code",
      "execution_count": 9,
      "metadata": {
        "colab": {
          "base_uri": "https://localhost:8080/"
        },
        "id": "_vF4_lgtmQNo",
        "outputId": "a4384377-8f7a-415f-be1b-fee6169cb101"
      },
      "outputs": [
        {
          "data": {
            "text/plain": [
              "<langgraph.graph.state.StateGraph at 0x7ffa2e371d30>"
            ]
          },
          "execution_count": 9,
          "metadata": {},
          "output_type": "execute_result"
        }
      ],
      "source": [
        "from langgraph.graph import StateGraph, END\n",
        "\n",
        "uncompiled_graph = StateGraph(AgentState)\n",
        "\n",
        "uncompiled_graph.add_node(\"agent\", call_model)\n",
        "uncompiled_graph.add_node(\"action\", tool_node)"
      ]
    },
    {
      "cell_type": "markdown",
      "metadata": {
        "id": "b8CjRlbVmRpW"
      },
      "source": [
        "Let's look at what we have so far:\n",
        "\n",
        "![image](https://i.imgur.com/md7inqG.png)"
      ]
    },
    {
      "cell_type": "markdown",
      "metadata": {
        "id": "uaXHpPeSnOWC"
      },
      "source": [
        "Next, we'll add our entrypoint. All our entrypoint does is indicate which node is called first."
      ]
    },
    {
      "cell_type": "code",
      "execution_count": 10,
      "metadata": {
        "colab": {
          "base_uri": "https://localhost:8080/"
        },
        "id": "YGCbaYqRnmiw",
        "outputId": "5351807c-2ac7-4316-a3a3-878abeacd114"
      },
      "outputs": [
        {
          "data": {
            "text/plain": [
              "<langgraph.graph.state.StateGraph at 0x7ffa2e371d30>"
            ]
          },
          "execution_count": 10,
          "metadata": {},
          "output_type": "execute_result"
        }
      ],
      "source": [
        "uncompiled_graph.set_entry_point(\"agent\")"
      ]
    },
    {
      "cell_type": "markdown",
      "metadata": {
        "id": "BUsfGoSpoF9U"
      },
      "source": [
        "![image](https://i.imgur.com/wNixpJe.png)"
      ]
    },
    {
      "cell_type": "markdown",
      "metadata": {
        "id": "0Q_pQgHmoW0M"
      },
      "source": [
        "Now we want to build a \"conditional edge\" which will use the output state of a node to determine which path to follow.\n",
        "\n",
        "We can help conceptualize this by thinking of our conditional edge as a conditional in a flowchart!\n",
        "\n",
        "Notice how our function simply checks if there is a \"function_call\" kwarg present.\n",
        "\n",
        "Then we create an edge where the origin node is our agent node and our destination node is *either* the action node or the END (finish the graph).\n",
        "\n",
        "It's important to highlight that the dictionary passed in as the third parameter (the mapping) should be created with the possible outputs of our conditional function in mind. In this case `should_continue` outputs either `\"end\"` or `\"continue\"` which are subsequently mapped to the action node or the END node."
      ]
    },
    {
      "cell_type": "code",
      "execution_count": 11,
      "metadata": {
        "colab": {
          "base_uri": "https://localhost:8080/"
        },
        "id": "1BZgb81VQf9o",
        "outputId": "73a07c15-5f0b-40f2-b033-38b57d056dd8"
      },
      "outputs": [
        {
          "data": {
            "text/plain": [
              "<langgraph.graph.state.StateGraph at 0x7ffa2e371d30>"
            ]
          },
          "execution_count": 11,
          "metadata": {},
          "output_type": "execute_result"
        }
      ],
      "source": [
        "def should_continue(state):\n",
        "  last_message = state[\"messages\"][-1]\n",
        "\n",
        "  if last_message.tool_calls:\n",
        "    return \"action\"\n",
        "\n",
        "  return END\n",
        "\n",
        "uncompiled_graph.add_conditional_edges(\n",
        "    \"agent\",\n",
        "    should_continue\n",
        ")"
      ]
    },
    {
      "cell_type": "markdown",
      "metadata": {
        "id": "-Cvhcf4jp0Ce"
      },
      "source": [
        "Let's visualize what this looks like.\n",
        "\n",
        "![image](https://i.imgur.com/8ZNwKI5.png)"
      ]
    },
    {
      "cell_type": "markdown",
      "metadata": {
        "id": "yKCjWJCkrJb9"
      },
      "source": [
        "Finally, we can add our last edge which will connect our action node to our agent node. This is because we *always* want our action node (which is used to call our tools) to return its output to our agent!"
      ]
    },
    {
      "cell_type": "code",
      "execution_count": 12,
      "metadata": {
        "colab": {
          "base_uri": "https://localhost:8080/"
        },
        "id": "UvcgbHf1rIXZ",
        "outputId": "45d4bdd6-d6bb-4a1d-bb79-cad43c130bf2"
      },
      "outputs": [
        {
          "data": {
            "text/plain": [
              "<langgraph.graph.state.StateGraph at 0x7ffa2e371d30>"
            ]
          },
          "execution_count": 12,
          "metadata": {},
          "output_type": "execute_result"
        }
      ],
      "source": [
        "uncompiled_graph.add_edge(\"action\", \"agent\")"
      ]
    },
    {
      "cell_type": "markdown",
      "metadata": {
        "id": "EiWDwBQtrw7Z"
      },
      "source": [
        "Let's look at the final visualization.\n",
        "\n",
        "![image](https://i.imgur.com/NWO7usO.png)"
      ]
    },
    {
      "cell_type": "markdown",
      "metadata": {
        "id": "KYqDpErlsCsu"
      },
      "source": [
        "All that's left to do now is to compile our workflow - and we're off!"
      ]
    },
    {
      "cell_type": "code",
      "execution_count": 13,
      "metadata": {
        "id": "zt9-KS8DpzNx"
      },
      "outputs": [],
      "source": [
        "compiled_graph = uncompiled_graph.compile()"
      ]
    },
    {
      "cell_type": "markdown",
      "metadata": {
        "id": "xhNWIwBL1W4Q"
      },
      "source": [
        "#### ❓ Question #2:\n",
        "\n",
        "Is there any specific limit to how many times we can cycle?  \n",
        "If not, how could we impose a limit to the number of cycles?  \n",
        "Ans: There is no specific strict limit how many times the cycle will execute, perhaps to avoid inifinite loop situation or excsive iterations using some ways like  \n",
        "1. Putting counter number of cycles and checking using conditional loop if it reaches the max cycles limit defined in varible and ending or exiting the node\n",
        "2. Using contional egde with state tracking"
      ]
    },
    {
      "cell_type": "markdown",
      "metadata": {
        "id": "VEYcTShCsPaa"
      },
      "source": [
        "## Using Our Graph\n",
        "\n",
        "Now that we've created and compiled our graph - we can call it *just as we'd call any other* `Runnable`!\n",
        "\n",
        "Let's try out a few examples to see how it fairs:"
      ]
    },
    {
      "cell_type": "code",
      "execution_count": 15,
      "metadata": {
        "colab": {
          "base_uri": "https://localhost:8080/"
        },
        "id": "Qn4n37PQRPII",
        "outputId": "5eeedfae-089d-496e-e71f-071939fa5832"
      },
      "outputs": [
        {
          "name": "stdout",
          "output_type": "stream",
          "text": [
            "Receiving update from node: 'agent'\n",
            "[AIMessage(content='', additional_kwargs={'tool_calls': [{'id': 'call_giAz6KhEyigpKonkGdK6ArDJ', 'function': {'arguments': '{\"query\":\"current captain of the Winnipeg Jets 2023\"}', 'name': 'tavily_search_results_json'}, 'type': 'function'}], 'refusal': None}, response_metadata={'token_usage': {'completion_tokens': 27, 'prompt_tokens': 162, 'total_tokens': 189, 'completion_tokens_details': {'accepted_prediction_tokens': 0, 'audio_tokens': 0, 'reasoning_tokens': 0, 'rejected_prediction_tokens': 0}, 'prompt_tokens_details': {'audio_tokens': 0, 'cached_tokens': 0}}, 'model_name': 'gpt-4o-2024-08-06', 'system_fingerprint': 'fp_17316073ab', 'finish_reason': 'tool_calls', 'logprobs': None}, id='run-c714aae9-1e13-462a-af27-afa9c2b3e44a-0', tool_calls=[{'name': 'tavily_search_results_json', 'args': {'query': 'current captain of the Winnipeg Jets 2023'}, 'id': 'call_giAz6KhEyigpKonkGdK6ArDJ', 'type': 'tool_call'}], usage_metadata={'input_tokens': 162, 'output_tokens': 27, 'total_tokens': 189, 'input_token_details': {'audio': 0, 'cache_read': 0}, 'output_token_details': {'audio': 0, 'reasoning': 0}})]\n",
            "\n",
            "\n",
            "\n",
            "Receiving update from node: 'action'\n",
            "[ToolMessage(content='[{\"url\": \"https://globalnews.ca/news/9954570/winnipeg-jets-adam-lowry-captain/\", \"content\": \"For the 2022-23 season, new head coach Rick Bowness opted for no player to wear the “C,” going instead with three alternate captains: Lowry, Josh Morrissey, and Mark Scheifele.\\\\n\\\\nThe team said Morrissey and Scheifele will each continue to wear an “A” for 2023-24.\\\\n\\\\nAllow him to reintroduce himself.\\\\n\\\\nAdam Lowry, Captain of your Winnipeg Jets ✈️ pic.twitter.com/ZweKi36B7z\\\\n\\\\n— Winnipeg Jets (@NHLJets) September 12, 2023 [...] The @NHLJets have appointed Adam Lowry (@ALowsyPlayer17) as their new captain! pic.twitter.com/1zN7xZLrdr\\\\n\\\\n— NHL (@NHL) September 12, 2023\\\\n\\\\n\\\\n\\\\nJets GM Kevin Cheveldayoff said the team has been able to watch Lowry’s career develop since the very beginning. After all, he was the second player (after Scheifele) ever drafted by the team back in 2011. [...] Menu\\\\n\\\\nClose\\\\n\\\\nTopics\\\\n\\\\nTV Programs\\\\n\\\\nRadio - CJOB\\\\n\\\\nConnect\\\\n\\\\nGo Back\\\\n\\\\n\\\\n\\\\n\\\\n\\\\nClose\\\\n\\\\n\\\\n\\\\n\\\\nLocal\\\\n\\\\nyour local region\\\\n\\\\nShare\\\\n\\\\nClose\\\\n\\\\nCalendar\\\\n\\\\nClose\\\\n\\\\nCalendar\\\\n\\\\nClose\\\\n\\\\nSearch\\\\n\\\\nClose\\\\n\\\\nQuick Search\\\\n\\\\nTrending Now\\\\n\\\\nAdd Global News to Home Screen\\\\n\\\\nClose\\\\n\\\\nInstructions:\\\\n\\\\nComments\\\\n\\\\nClose comments menu\\\\n\\\\nWant to discuss? Please read our Commenting Policy first.\\\\n\\\\nWinnipeg Jets announce Adam Lowry as new captain\"}, {\"url\": \"https://thehockeynews.com/nhl/winnipeg-jets/news/jets-name-adam-lowry-as-team-captain\", \"content\": \"The Winnipeg Jets will have a captain for the 2023-24 season. ... The Winnipeg Jets will have a captain for the 2023-24 season. ... as a team captain since his final year with the Swift Current\"}, {\"url\": \"https://www.nhlpa.com/news/2-36227/jets-make-centre-adam-lowry-new-captain-third-to-wear-c-in-winnipeg-history\", \"content\": \"Lowry is the third Jets captain since the team moved from Atlanta in 2011. After going without a captain for the 2022-23 season, Winnipeg chose the rugged centre over alternate captains Josh Morrissey and Mark Scheifele to succeed Blake Wheeler and Andrew Ladd.\\\\n\\\\n“It’s pretty special,” Lowry said at a press conference held at Canada Life Centre. “The FaceTime to my mom and seeing her reaction, and just seeing how proud she was, it was extremely special. [...] “Maybe you don’t have to delegate so many responsibilities, but I think at the same time, my job is to be there in the tough times, be that solid consistent voice and presence — along with those other guys (alternates),” Lowry said.\\\\n\\\\n“It just allows my voice, maybe, to be the most strong in the room.”\\\\n\\\\nThis report by The Canadian Press was first published Sept. 12, 2023.\\\\n\\\\n— With files from Joshua Clipperton in Las Vegas.\\\\n\\\\nJim Bender, The Canadian Press\\\\n\\\\nOther News [...] \\\\\"It’s an important step and an exciting one. I think Adam really embodies a lot of what the city of Winnipeg is all about — hard work, honest, blue collar, and comes to work each and every day.”\\\\n\\\\nCheveldayoff believes that the Jets\\' newest captain will help usher in a new era.\\\\n\\\\n\\\\\"We believe the time is right for Adam Lowry to assume this role and set the standard for the way the Winnipeg Jets will move forward with new leadership and new purpose.”\"}, {\"url\": \"https://www.tsn.ca/nhl/winnipeg-jets-name-adam-lowry-captain-1.2006649\", \"content\": \"Lowry is the third Jets captain since the team moved from Atlanta in 2011. After going without a captain for the 2022-23 season, Winnipeg chose the rugged centre over alternate captains Josh Morrissey and Mark Scheifele to succeed Blake Wheeler and Andrew Ladd.\\\\n\\\\n“It’s pretty special,” Lowry said at a press conference held at Canada Life Centre. “The FaceTime to my mom and seeing her reaction, and just seeing how proud she was, it was extremely special. [...] \\\\\"It’s an important step and an exciting one. I think Adam really embodies a lot of what the city of Winnipeg is all about — hard work, honest, blue collar, and comes to work each and every day.”\\\\n\\\\nCheveldayoff believes that the Jets\\' newest captain will help usher in a new era.\\\\n\\\\n\\\\\"We believe the time is right for Adam Lowry to assume this role and set the standard for the way the Winnipeg Jets will move forward with new leadership and new purpose.” [...] “Maybe you don’t have to delegate so many responsibilities, but I think at the same time, my job is to be there in the tough times, be that solid consistent voice and presence — along with those other guys (alternates),” Lowry said.\\\\n\\\\n“It just allows my voice, maybe, to be the most strong in the room.”\\\\n\\\\nThis report by The Canadian Press was first published Sept. 12, 2023.\\\\n\\\\n— With files from Joshua Clipperton in Las Vegas.\\\\n\\\\n© 2025\\\\n\\\\n All rights reserved.\"}, {\"url\": \"https://www.sportsnet.ca/nhl/article/winnipeg-jets-name-adam-lowry-captain/\", \"content\": \"Adam Lowry has been named the third captain of the relocated Winnipeg Jets franchise, the team announced Tuesday. ... Canadian Press. September 14, 2023 - 3:39pm.\"}]', name='tavily_search_results_json', id='2bc9ecd4-56e4-457d-8a03-9d9330a9f3b1', tool_call_id='call_giAz6KhEyigpKonkGdK6ArDJ', artifact={'query': 'current captain of the Winnipeg Jets 2023', 'follow_up_questions': None, 'answer': None, 'images': [], 'results': [{'title': 'Winnipeg Jets announce Adam Lowry as new captain', 'url': 'https://globalnews.ca/news/9954570/winnipeg-jets-adam-lowry-captain/', 'content': 'For the 2022-23 season, new head coach Rick Bowness opted for no player to wear the “C,” going instead with three alternate captains: Lowry, Josh Morrissey, and Mark Scheifele.\\n\\nThe team said Morrissey and Scheifele will each continue to wear an “A” for 2023-24.\\n\\nAllow him to reintroduce himself.\\n\\nAdam Lowry, Captain of your Winnipeg Jets ✈️ pic.twitter.com/ZweKi36B7z\\n\\n— Winnipeg Jets (@NHLJets) September 12, 2023 [...] The @NHLJets have appointed Adam Lowry (@ALowsyPlayer17) as their new captain! pic.twitter.com/1zN7xZLrdr\\n\\n— NHL (@NHL) September 12, 2023\\n\\n\\n\\nJets GM Kevin Cheveldayoff said the team has been able to watch Lowry’s career develop since the very beginning. After all, he was the second player (after Scheifele) ever drafted by the team back in 2011. [...] Menu\\n\\nClose\\n\\nTopics\\n\\nTV Programs\\n\\nRadio - CJOB\\n\\nConnect\\n\\nGo Back\\n\\n\\n\\n\\n\\nClose\\n\\n\\n\\n\\nLocal\\n\\nyour local region\\n\\nShare\\n\\nClose\\n\\nCalendar\\n\\nClose\\n\\nCalendar\\n\\nClose\\n\\nSearch\\n\\nClose\\n\\nQuick Search\\n\\nTrending Now\\n\\nAdd Global News to Home Screen\\n\\nClose\\n\\nInstructions:\\n\\nComments\\n\\nClose comments menu\\n\\nWant to discuss? Please read our Commenting Policy first.\\n\\nWinnipeg Jets announce Adam Lowry as new captain', 'score': 0.9041187, 'raw_content': None}, {'title': 'Jets Name Adam Lowry as Team Captain Latest News - The Hockey News', 'url': 'https://thehockeynews.com/nhl/winnipeg-jets/news/jets-name-adam-lowry-as-team-captain', 'content': 'The Winnipeg Jets will have a captain for the 2023-24 season. ... The Winnipeg Jets will have a captain for the 2023-24 season. ... as a team captain since his final year with the Swift Current', 'score': 0.9039154, 'raw_content': None}, {'title': \"Jets make centre Adam Lowry new captain, third to wear 'C' in Winnipeg ...\", 'url': 'https://www.nhlpa.com/news/2-36227/jets-make-centre-adam-lowry-new-captain-third-to-wear-c-in-winnipeg-history', 'content': 'Lowry is the third Jets captain since the team moved from Atlanta in 2011. After going without a captain for the 2022-23 season, Winnipeg chose the rugged centre over alternate captains Josh Morrissey and Mark Scheifele to succeed Blake Wheeler and Andrew Ladd.\\n\\n“It’s pretty special,” Lowry said at a press conference held at Canada Life Centre. “The FaceTime to my mom and seeing her reaction, and just seeing how proud she was, it was extremely special. [...] “Maybe you don’t have to delegate so many responsibilities, but I think at the same time, my job is to be there in the tough times, be that solid consistent voice and presence — along with those other guys (alternates),” Lowry said.\\n\\n“It just allows my voice, maybe, to be the most strong in the room.”\\n\\nThis report by The Canadian Press was first published Sept. 12, 2023.\\n\\n— With files from Joshua Clipperton in Las Vegas.\\n\\nJim Bender, The Canadian Press\\n\\nOther News [...] \"It’s an important step and an exciting one. I think Adam really embodies a lot of what the city of Winnipeg is all about — hard work, honest, blue collar, and comes to work each and every day.”\\n\\nCheveldayoff believes that the Jets\\' newest captain will help usher in a new era.\\n\\n\"We believe the time is right for Adam Lowry to assume this role and set the standard for the way the Winnipeg Jets will move forward with new leadership and new purpose.”', 'score': 0.89279664, 'raw_content': None}, {'title': 'Winnipeg Jets name Adam Lowry captain | TSN', 'url': 'https://www.tsn.ca/nhl/winnipeg-jets-name-adam-lowry-captain-1.2006649', 'content': 'Lowry is the third Jets captain since the team moved from Atlanta in 2011. After going without a captain for the 2022-23 season, Winnipeg chose the rugged centre over alternate captains Josh Morrissey and Mark Scheifele to succeed Blake Wheeler and Andrew Ladd.\\n\\n“It’s pretty special,” Lowry said at a press conference held at Canada Life Centre. “The FaceTime to my mom and seeing her reaction, and just seeing how proud she was, it was extremely special. [...] \"It’s an important step and an exciting one. I think Adam really embodies a lot of what the city of Winnipeg is all about — hard work, honest, blue collar, and comes to work each and every day.”\\n\\nCheveldayoff believes that the Jets\\' newest captain will help usher in a new era.\\n\\n\"We believe the time is right for Adam Lowry to assume this role and set the standard for the way the Winnipeg Jets will move forward with new leadership and new purpose.” [...] “Maybe you don’t have to delegate so many responsibilities, but I think at the same time, my job is to be there in the tough times, be that solid consistent voice and presence — along with those other guys (alternates),” Lowry said.\\n\\n“It just allows my voice, maybe, to be the most strong in the room.”\\n\\nThis report by The Canadian Press was first published Sept. 12, 2023.\\n\\n— With files from Joshua Clipperton in Las Vegas.\\n\\n© 2025\\n\\n All rights reserved.', 'score': 0.8925721, 'raw_content': None}, {'title': 'Winnipeg Jets name Adam Lowry captain - Sportsnet.ca', 'url': 'https://www.sportsnet.ca/nhl/article/winnipeg-jets-name-adam-lowry-captain/', 'content': 'Adam Lowry has been named the third captain of the relocated Winnipeg Jets franchise, the team announced Tuesday. ... Canadian Press. September 14, 2023 - 3:39pm.', 'score': 0.8812988, 'raw_content': None}], 'response_time': 0.5})]\n",
            "\n",
            "\n",
            "\n",
            "Receiving update from node: 'agent'\n",
            "[AIMessage(content=\"The current captain of the Winnipeg Jets is Adam Lowry. He was appointed as the team's captain for the 2023-24 season.\", additional_kwargs={'refusal': None}, response_metadata={'token_usage': {'completion_tokens': 30, 'prompt_tokens': 1491, 'total_tokens': 1521, 'completion_tokens_details': {'accepted_prediction_tokens': 0, 'audio_tokens': 0, 'reasoning_tokens': 0, 'rejected_prediction_tokens': 0}, 'prompt_tokens_details': {'audio_tokens': 0, 'cached_tokens': 1408}}, 'model_name': 'gpt-4o-2024-08-06', 'system_fingerprint': 'fp_17316073ab', 'finish_reason': 'stop', 'logprobs': None}, id='run-f515f697-a13c-43ea-92c9-026ed3889504-0', usage_metadata={'input_tokens': 1491, 'output_tokens': 30, 'total_tokens': 1521, 'input_token_details': {'audio': 0, 'cache_read': 1408}, 'output_token_details': {'audio': 0, 'reasoning': 0}})]\n",
            "\n",
            "\n",
            "\n"
          ]
        }
      ],
      "source": [
        "from langchain_core.messages import HumanMessage\n",
        "\n",
        "inputs = {\"messages\" : [HumanMessage(content=\"Who is the current captain of the Winnipeg Jets?\")]}\n",
        "\n",
        "async for chunk in compiled_graph.astream(inputs, stream_mode=\"updates\"):\n",
        "    for node, values in chunk.items():\n",
        "        print(f\"Receiving update from node: '{node}'\")\n",
        "        print(values[\"messages\"])\n",
        "        print(\"\\n\\n\")"
      ]
    },
    {
      "cell_type": "markdown",
      "metadata": {
        "id": "DBHnUtLSscRr"
      },
      "source": [
        "Let's look at what happened:\n",
        "\n",
        "1. Our state object was populated with our request\n",
        "2. The state object was passed into our entry point (agent node) and the agent node added an `AIMessage` to the state object and passed it along the conditional edge\n",
        "3. The conditional edge received the state object, found the \"tool_calls\" `additional_kwarg`, and sent the state object to the action node\n",
        "4. The action node added the response from the OpenAI function calling endpoint to the state object and passed it along the edge to the agent node\n",
        "5. The agent node added a response to the state object and passed it along the conditional edge\n",
        "6. The conditional edge received the state object, could not find the \"tool_calls\" `additional_kwarg` and passed the state object to END where we see it output in the cell above!\n",
        "\n",
        "Now let's look at an example that shows a multiple tool usage - all with the same flow!"
      ]
    },
    {
      "cell_type": "code",
      "execution_count": 16,
      "metadata": {
        "colab": {
          "base_uri": "https://localhost:8080/"
        },
        "id": "afv2BuEsV5JG",
        "outputId": "ff009536-d281-4a56-c126-9cd245352bfe"
      },
      "outputs": [
        {
          "name": "stdout",
          "output_type": "stream",
          "text": [
            "Receiving update from node: 'agent'\n",
            "[AIMessage(content='', additional_kwargs={'tool_calls': [{'id': 'call_NiULdxX9pgWVzLzdKk5RYmBA', 'function': {'arguments': '{\"query\":\"QLoRA\"}', 'name': 'arxiv'}, 'type': 'function'}], 'refusal': None}, response_metadata={'token_usage': {'completion_tokens': 17, 'prompt_tokens': 178, 'total_tokens': 195, 'completion_tokens_details': {'accepted_prediction_tokens': 0, 'audio_tokens': 0, 'reasoning_tokens': 0, 'rejected_prediction_tokens': 0}, 'prompt_tokens_details': {'audio_tokens': 0, 'cached_tokens': 0}}, 'model_name': 'gpt-4o-2024-08-06', 'system_fingerprint': 'fp_17316073ab', 'finish_reason': 'tool_calls', 'logprobs': None}, id='run-063f966b-6d1d-4ed1-ae39-6311a9d3c140-0', tool_calls=[{'name': 'arxiv', 'args': {'query': 'QLoRA'}, 'id': 'call_NiULdxX9pgWVzLzdKk5RYmBA', 'type': 'tool_call'}], usage_metadata={'input_tokens': 178, 'output_tokens': 17, 'total_tokens': 195, 'input_token_details': {'audio': 0, 'cache_read': 0}, 'output_token_details': {'audio': 0, 'reasoning': 0}})]\n",
            "\n",
            "\n",
            "\n",
            "Receiving update from node: 'action'\n",
            "Tool Used: arxiv\n",
            "[ToolMessage(content='Published: 2023-05-23\\nTitle: QLoRA: Efficient Finetuning of Quantized LLMs\\nAuthors: Tim Dettmers, Artidoro Pagnoni, Ari Holtzman, Luke Zettlemoyer\\nSummary: We present QLoRA, an efficient finetuning approach that reduces memory usage\\nenough to finetune a 65B parameter model on a single 48GB GPU while preserving\\nfull 16-bit finetuning task performance. QLoRA backpropagates gradients through\\na frozen, 4-bit quantized pretrained language model into Low Rank\\nAdapters~(LoRA). Our best model family, which we name Guanaco, outperforms all\\nprevious openly released models on the Vicuna benchmark, reaching 99.3% of the\\nperformance level of ChatGPT while only requiring 24 hours of finetuning on a\\nsingle GPU. QLoRA introduces a number of innovations to save memory without\\nsacrificing performance: (a) 4-bit NormalFloat (NF4), a new data type that is\\ninformation theoretically optimal for normally distributed weights (b) double\\nquantization to reduce the average memory footprint by quantizing the\\nquantization constants, and (c) paged optimziers to manage memory spikes. We\\nuse QLoRA to finetune more than 1,000 models, providing a detailed analysis of\\ninstruction following and chatbot performance across 8 instruction datasets,\\nmultiple model types (LLaMA, T5), and model scales that would be infeasible to\\nrun with regular finetuning (e.g. 33B and 65B parameter models). Our results\\nshow that QLoRA finetuning on a small high-quality dataset leads to\\nstate-of-the-art results, even when using smaller models than the previous\\nSoTA. We provide a detailed analysis of chatbot performance based on both human\\nand GPT-4 evaluations showing that GPT-4 evaluations are a cheap and reasonable\\nalternative to human evaluation. Furthermore, we find that current chatbot\\nbenchmarks are not trustworthy to accurately evaluate the performance levels of\\nchatbots. A lemon-picked analysis demonstrates where Guanaco fails compared to\\nChatGPT. We release all of our models and code, including CUDA kernels for\\n4-bit training.\\n\\nPublished: 2024-05-27\\nTitle: Accurate LoRA-Finetuning Quantization of LLMs via Information Retention\\nAuthors: Haotong Qin, Xudong Ma, Xingyu Zheng, Xiaoyang Li, Yang Zhang, Shouda Liu, Jie Luo, Xianglong Liu, Michele Magno\\nSummary: The LoRA-finetuning quantization of LLMs has been extensively studied to\\nobtain accurate yet compact LLMs for deployment on resource-constrained\\nhardware. However, existing methods cause the quantized LLM to severely degrade\\nand even fail to benefit from the finetuning of LoRA. This paper proposes a\\nnovel IR-QLoRA for pushing quantized LLMs with LoRA to be highly accurate\\nthrough information retention. The proposed IR-QLoRA mainly relies on two\\ntechnologies derived from the perspective of unified information: (1)\\nstatistics-based Information Calibration Quantization allows the quantized\\nparameters of LLM to retain original information accurately; (2)\\nfinetuning-based Information Elastic Connection makes LoRA utilizes elastic\\nrepresentation transformation with diverse information. Comprehensive\\nexperiments show that IR-QLoRA can significantly improve accuracy across LLaMA\\nand LLaMA2 families under 2-4 bit-widths, e.g., 4- bit LLaMA-7B achieves 1.4%\\nimprovement on MMLU compared with the state-of-the-art methods. The significant\\nperformance gain requires only a tiny 0.31% additional time consumption,\\nrevealing the satisfactory efficiency of our IR-QLoRA. We highlight that\\nIR-QLoRA enjoys excellent versatility, compatible with various frameworks\\n(e.g., NormalFloat and Integer quantization) and brings general accuracy gains.\\nThe code is available at https://github.com/htqin/ir-qlora.\\n\\nPublished: 2025-02-05\\nTitle: Resource-Efficient & Effective Code Summarization\\nAuthors: Saima Afrin, Joseph Call, Khai-Nguyen Nguyen, Oscar Chaparro, Antonio Mastropaolo\\nSummary: Code Language Models (CLMs) have demonstrated high effectiveness in\\nautomating software engineering tasks such as bug fixing, code generation, and\\ncode documentation. This ', name='arxiv', id='697a5d55-3406-4d6e-a35e-88b49e2be9aa', tool_call_id='call_NiULdxX9pgWVzLzdKk5RYmBA')]\n",
            "\n",
            "\n",
            "\n",
            "Receiving update from node: 'agent'\n",
            "[AIMessage(content='', additional_kwargs={'tool_calls': [{'id': 'call_tSBH6bEW3Upg1c9HGJnG1Ofx', 'function': {'arguments': '{\"query\": \"Tim Dettmers latest tweet\"}', 'name': 'tavily_search_results_json'}, 'type': 'function'}, {'id': 'call_aj5s2ncM57k3aAnd4MkkA7YO', 'function': {'arguments': '{\"query\": \"Artidoro Pagnoni latest tweet\"}', 'name': 'tavily_search_results_json'}, 'type': 'function'}, {'id': 'call_0XuVlhOeu7FpgMyMYuxpDlK8', 'function': {'arguments': '{\"query\": \"Ari Holtzman latest tweet\"}', 'name': 'tavily_search_results_json'}, 'type': 'function'}, {'id': 'call_1YCNf0XIcmzxKh6xxVJhZxpT', 'function': {'arguments': '{\"query\": \"Luke Zettlemoyer latest tweet\"}', 'name': 'tavily_search_results_json'}, 'type': 'function'}], 'refusal': None}, response_metadata={'token_usage': {'completion_tokens': 113, 'prompt_tokens': 1148, 'total_tokens': 1261, 'completion_tokens_details': {'accepted_prediction_tokens': 0, 'audio_tokens': 0, 'reasoning_tokens': 0, 'rejected_prediction_tokens': 0}, 'prompt_tokens_details': {'audio_tokens': 0, 'cached_tokens': 0}}, 'model_name': 'gpt-4o-2024-08-06', 'system_fingerprint': 'fp_17316073ab', 'finish_reason': 'tool_calls', 'logprobs': None}, id='run-fb9ab95d-a806-4c57-af69-9f483684777b-0', tool_calls=[{'name': 'tavily_search_results_json', 'args': {'query': 'Tim Dettmers latest tweet'}, 'id': 'call_tSBH6bEW3Upg1c9HGJnG1Ofx', 'type': 'tool_call'}, {'name': 'tavily_search_results_json', 'args': {'query': 'Artidoro Pagnoni latest tweet'}, 'id': 'call_aj5s2ncM57k3aAnd4MkkA7YO', 'type': 'tool_call'}, {'name': 'tavily_search_results_json', 'args': {'query': 'Ari Holtzman latest tweet'}, 'id': 'call_0XuVlhOeu7FpgMyMYuxpDlK8', 'type': 'tool_call'}, {'name': 'tavily_search_results_json', 'args': {'query': 'Luke Zettlemoyer latest tweet'}, 'id': 'call_1YCNf0XIcmzxKh6xxVJhZxpT', 'type': 'tool_call'}], usage_metadata={'input_tokens': 1148, 'output_tokens': 113, 'total_tokens': 1261, 'input_token_details': {'audio': 0, 'cache_read': 0}, 'output_token_details': {'audio': 0, 'reasoning': 0}})]\n",
            "\n",
            "\n",
            "\n",
            "Receiving update from node: 'action'\n",
            "Tool Used: tavily_search_results_json\n",
            "[ToolMessage(content='[{\"url\": \"https://threadreaderapp.com/user/Tim_Dettmers\", \"content\": \"Oct 8, 2021 • 13 tweets • 5 min read. I am excited to share my latest work: 8-bit optimizers – a replacement for regular optimizers. Faster , 75% less\"}, {\"url\": \"https://timdettmers.com/\", \"content\": \"Filed Under: Academia, PhD Life Tagged With: Advisors, Grad school, PhD\\\\n\\\\nTPUs vs GPUs for Transformers (BERT)\\\\n\\\\n2018-10-17 by Tim Dettmers 26 Comments [...] Filed Under: Deep Learning, Hardware Tagged With: AMD, CPU, High Performance Computing, Matrix Multiplication, Parallel Computing, PCIe Lanes, Sparse Training\\\\n\\\\nLLM.int8() and Emergent Features\\\\n\\\\n2022-08-17 by Tim Dettmers 13 Comments [...] [Read more…] about How to Choose Your Grad School\\\\n\\\\nFiled Under: Academia, PhD Life Tagged With: Advisors, Grad school, PhD\\\\n\\\\nOn Creativity in Academia\\\\n\\\\n2019-09-03 by Tim Dettmers 5 Comments\"}, {\"url\": \"https://twitter.com/Tim_Dettmers\", \"content\": \"Perplexity Deep Research is quite close to OpenAI o3 on the Humanity Last Exam Benchmark despite being an order of magnitude faster and cheaper. This is\"}, {\"url\": \"https://developer.nvidia.com/blog/author/tdettmers/\", \"content\": \"He runs a blog about deep learning and takes part in Kaggle data science competitions where he has reached a world rank of 63. Follow @Tim_Dettmers on Twitter\"}, {\"url\": \"https://threadreaderapp.com/thread/1666076553665744896.html\", \"content\": \"Make a small donation by buying us coffee ($5) or help with server cost ($10)\\\\n\\\\nOr Donate anonymously using crypto!\\\\n\\\\nEthereum\\\\n\\\\n0xfe58350B80634f60Fa6Dc149a72b4DFbc17D341E\\\\ncopy\\\\n\\\\nBitcoin\\\\n\\\\n3ATGMxNzCUFzxpMCHL5sWSt4DVtS8UqXpi\\\\ncopy\\\\n\\\\nThank you for your support!\\\\n\\\\nSend Email!\\\\n\\\\nEmail the whole thread instead of just a link! [...] More from @Tim_Dettmers\\\\n\\\\nTim Dettmers\\\\n\\\\nTim Dettmers\\\\n\\\\nTim Dettmers\\\\n\\\\nTim Dettmers\\\\n\\\\nTim Dettmers\\\\n\\\\nTim Dettmers\\\\n\\\\nDid Thread Reader help you today?\\\\n\\\\nSupport us! We are indie developers!\\\\n\\\\nThis site is made by just two indie developers on a laptop doing marketing, support and development! Read more about the story.\\\\n\\\\nBecome a Premium Member ($3/month or $30/year) and get exclusive features!\\\\n\\\\nBecome Premium\\\\n\\\\nDon\\'t want to be a Premium member but still want to support us?\"}]', name='tavily_search_results_json', id='b1d5b97a-2121-4fe7-9610-7cab82506b40', tool_call_id='call_tSBH6bEW3Upg1c9HGJnG1Ofx', artifact={'query': 'Tim Dettmers latest tweet', 'follow_up_questions': None, 'answer': None, 'images': [], 'results': [{'url': 'https://threadreaderapp.com/user/Tim_Dettmers', 'title': \"Tim Dettmers's Threads - Thread Reader App\", 'content': 'Oct 8, 2021 • 13 tweets • 5 min read. I am excited to share my latest work: 8-bit optimizers – a replacement for regular optimizers. Faster , 75% less', 'score': 0.73138535, 'raw_content': None}, {'url': 'https://timdettmers.com/', 'title': 'Tim Dettmers — Making deep learning accessible.', 'content': 'Filed Under: Academia, PhD Life Tagged With: Advisors, Grad school, PhD\\n\\nTPUs vs GPUs for Transformers (BERT)\\n\\n2018-10-17 by Tim Dettmers 26 Comments [...] Filed Under: Deep Learning, Hardware Tagged With: AMD, CPU, High Performance Computing, Matrix Multiplication, Parallel Computing, PCIe Lanes, Sparse Training\\n\\nLLM.int8() and Emergent Features\\n\\n2022-08-17 by Tim Dettmers 13 Comments [...] [Read more…] about How to Choose Your Grad School\\n\\nFiled Under: Academia, PhD Life Tagged With: Advisors, Grad school, PhD\\n\\nOn Creativity in Academia\\n\\n2019-09-03 by Tim Dettmers 5 Comments', 'score': 0.6649108, 'raw_content': None}, {'url': 'https://twitter.com/Tim_Dettmers', 'title': 'Tim Dettmers (@Tim_Dettmers) / X', 'content': 'Perplexity Deep Research is quite close to OpenAI o3 on the Humanity Last Exam Benchmark despite being an order of magnitude faster and cheaper. This is', 'score': 0.6147415, 'raw_content': None}, {'url': 'https://developer.nvidia.com/blog/author/tdettmers/', 'title': 'Author: Tim Dettmers | NVIDIA Technical Blog', 'content': 'He runs a blog about deep learning and takes part in Kaggle data science competitions where he has reached a world rank of 63. Follow @Tim_Dettmers on Twitter', 'score': 0.58948064, 'raw_content': None}, {'url': 'https://threadreaderapp.com/thread/1666076553665744896.html', 'title': 'Thread by @Tim_Dettmers on Thread Reader App', 'content': \"Make a small donation by buying us coffee ($5) or help with server cost ($10)\\n\\nOr Donate anonymously using crypto!\\n\\nEthereum\\n\\n0xfe58350B80634f60Fa6Dc149a72b4DFbc17D341E\\ncopy\\n\\nBitcoin\\n\\n3ATGMxNzCUFzxpMCHL5sWSt4DVtS8UqXpi\\ncopy\\n\\nThank you for your support!\\n\\nSend Email!\\n\\nEmail the whole thread instead of just a link! [...] More from @Tim_Dettmers\\n\\nTim Dettmers\\n\\nTim Dettmers\\n\\nTim Dettmers\\n\\nTim Dettmers\\n\\nTim Dettmers\\n\\nTim Dettmers\\n\\nDid Thread Reader help you today?\\n\\nSupport us! We are indie developers!\\n\\nThis site is made by just two indie developers on a laptop doing marketing, support and development! Read more about the story.\\n\\nBecome a Premium Member ($3/month or $30/year) and get exclusive features!\\n\\nBecome Premium\\n\\nDon't want to be a Premium member but still want to support us?\", 'score': 0.5492786, 'raw_content': None}], 'response_time': 3.12}), ToolMessage(content='[{\"url\": \"https://artidoro.github.io/\", \"content\": \"I have recently developed the Byte Latent Transformer, a new architecture that efficiently learns from raw byte data unlocking a new scaling dimension and paving the path towards universal byte models. With QLoRA, I reduced finetuning memory requirements by 15x and showed how to approach ChatGPT 3.5 performance in 24h on a single GPU. [...] Previously, I have also worked on sythetic data augmentation for improved controllability of generation systems, investigated language models’ reasoning and world modeling abilities, and evaluated their factual errors, as well as societal challenge associated with their use. [...] Artidoro Pagnoni\\\\n\\\\nPhD student in NLP at the University of Washington\\\\n\\\\nCiao!\\\\n\\\\nI am a final-year PhD student in Computer Science at the University of Washington, advised by Luke Zettlemoyer, and a visiting researcher at Meta. My research focuses on resource efficiency and improving LLM scaling trends.\"}, {\"url\": \"https://twitter.com/ArtidoroPagnoni/highlights\", \"content\": \"Artidoro Pagnoni\\'s Highlights ... Introducing the Byte Latent Transformer (BLT) – An LLM architecture that scales better than Llama 3 using byte-patches instead\"}, {\"url\": \"https://twitter.com/apagnonipagnoni?lang=ms\", \"content\": \"Don\\'t let climate change deniers derail progress in the global effort to #ActOnClimate: http://ofa.bo/e5FW. Imej. 204. 565. 1K. Artidoro Pagnoni menyiarkan\"}, {\"url\": \"https://x.com/artidoropagnoni?lang=en\", \"content\": \"Artidoro Pagnoni\\'s posts ... Introducing the Byte Latent Transformer (BLT) – An LLM architecture that scales better than Llama 3 using byte-patches instead of\"}, {\"url\": \"https://x.com/ArtidoroPagnoni/status/1867601413741981804\", \"content\": \"Artidoro Pagnoni · @ArtidoroPagnoni. Introducing the Byte Latent Transformer (BLT) – An LLM architecture that scales better than Llama 3\"}]', name='tavily_search_results_json', id='bbf9aa0a-4513-4b71-9f46-f2ebb2fdd2fd', tool_call_id='call_aj5s2ncM57k3aAnd4MkkA7YO', artifact={'query': 'Artidoro Pagnoni latest tweet', 'follow_up_questions': None, 'answer': None, 'images': [], 'results': [{'url': 'https://artidoro.github.io/', 'title': 'Artidoro Pagnoni: Ciao!', 'content': 'I have recently developed the Byte Latent Transformer, a new architecture that efficiently learns from raw byte data unlocking a new scaling dimension and paving the path towards universal byte models. With QLoRA, I reduced finetuning memory requirements by 15x and showed how to approach ChatGPT 3.5 performance in 24h on a single GPU. [...] Previously, I have also worked on sythetic data augmentation for improved controllability of generation systems, investigated language models’ reasoning and world modeling abilities, and evaluated their factual errors, as well as societal challenge associated with their use. [...] Artidoro Pagnoni\\n\\nPhD student in NLP at the University of Washington\\n\\nCiao!\\n\\nI am a final-year PhD student in Computer Science at the University of Washington, advised by Luke Zettlemoyer, and a visiting researcher at Meta. My research focuses on resource efficiency and improving LLM scaling trends.', 'score': 0.64746445, 'raw_content': None}, {'url': 'https://twitter.com/ArtidoroPagnoni/highlights', 'title': 'Highlights by Artidoro Pagnoni (@ArtidoroPagnoni) / X', 'content': \"Artidoro Pagnoni's Highlights ... Introducing the Byte Latent Transformer (BLT) – An LLM architecture that scales better than Llama 3 using byte-patches instead\", 'score': 0.64719695, 'raw_content': None}, {'url': 'https://twitter.com/apagnonipagnoni?lang=ms', 'title': 'Artidoro Pagnoni (@ApagnoniPagnoni) / X', 'content': \"Don't let climate change deniers derail progress in the global effort to #ActOnClimate: http://ofa.bo/e5FW. Imej. 204. 565. 1K. Artidoro Pagnoni menyiarkan\", 'score': 0.61168414, 'raw_content': None}, {'url': 'https://x.com/artidoropagnoni?lang=en', 'title': 'Artidoro Pagnoni (@ArtidoroPagnoni) / X', 'content': \"Artidoro Pagnoni's posts ... Introducing the Byte Latent Transformer (BLT) – An LLM architecture that scales better than Llama 3 using byte-patches instead of\", 'score': 0.6100127, 'raw_content': None}, {'url': 'https://x.com/ArtidoroPagnoni/status/1867601413741981804', 'title': 'Artidoro Pagnoni - X', 'content': 'Artidoro Pagnoni · @ArtidoroPagnoni. Introducing the Byte Latent Transformer (BLT) – An LLM architecture that scales better than Llama 3', 'score': 0.60274047, 'raw_content': None}], 'response_time': 1.73}), ToolMessage(content='[{\"url\": \"https://x.com/aaholtzman?lang=en\", \"content\": \"In other news, I\\'ll be joining @UChicagoCS and @DSI_UChicago in 2024 as an assistant professor and doing a postdoc @Meta in the meantime! I\\'m at\"}, {\"url\": \"https://twitter.com/universeinanegg/status/1677787350586228738\", \"content\": \"Last but not least, thank you to all folks who we had fantastic discussions with and who gave super insightful feedback!\"}, {\"url\": \"https://openreview.net/pdf/4acd113560a311d91da11c5d522c8646641888ba.pdf\", \"content\": \"660 Ari Holtzman, Jan Buys, Li Du, Maxwell Forbes, and 661 Yejin Choi. 2020. The curious case of neural text de-662 generation. In International Conference on Learning 663 Representations.\\\\n664 9 Edward J Hu, Yelong Shen, Phillip Wallis, Zeyuan 665 Allen-Zhu, Yuanzhi Li, Shean Wang, Lu Wang, and 666 Weizhu Chen. 2022. LoRA: Low-rank adaptation of 667 large language models. In International Conference 668 on Learning Representations. [...] 279 Concretely, we first prompt the LLM and employ 280 top-p sampling (Holtzman et al., 2020) to sample 281 varying responses (to form the readers’ view from 282 diverse angles). Then, we compute their semantic 283 similarity to measure the responses’ consistency to 284 the source message. Lastly, we rank the responses 285 based on similarity to select the most relevant ones 286 as the auto-response for the remaining learning 287 4 process. The prompt is shown in Appendix D. [...] 14.18 14.57 0.66 83.55 11.59 8.52 8.66 0.37 81.27 LLaMA2-Response 17.21 11.81 12.30 0.56 83.12 11.37 8.03 8.46 0.37 80.43 LLaMA2-FT 18.37 12.13 13.11 0.61 82.01 11.21 8.11 8.27 0.31 80.81 RePALM 23.26 15.98 16.33 0.74 84.71 14.18 10.69 11.98 0.51 83.32 -w/o Response Augmentation 20.79 14.78 15.03 0.63 83.12 12.01 9.11 9.34 0.33 82.07 -w/o Dual-Reward Modeling 21.37 14.34 16.21 0.72 83.78 14.01 10.12 11.67 0.53 81.79 -w/o Reward Sampling 22.65 15.67 16.51 0.72 84.59 13.93 10.61 11.77 0.43 81.84\"}, {\"url\": \"https://x.com/universeinanegg?lang=en\", \"content\": \"Ari Holtzman\\'s posts ... If you want a respite from OpenAI drama, how about joining academia? I\\'m starting Conceptualization Lab, recruiting PhDs & Postdocs! We\"}, {\"url\": \"https://twitter.com/universeinanegg/status/1764113353113321929\", \"content\": \"My biggest challenge in life has consistently been: what skills that I don\\'t have a natural talent for are worth honing?\"}]', name='tavily_search_results_json', id='7615a178-9f9e-4a23-8168-94aba3d9ae05', tool_call_id='call_0XuVlhOeu7FpgMyMYuxpDlK8', artifact={'query': 'Ari Holtzman latest tweet', 'follow_up_questions': None, 'answer': None, 'images': [], 'results': [{'url': 'https://x.com/aaholtzman?lang=en', 'title': 'Ari Holtzman (@aaholtzman) / X', 'content': \"In other news, I'll be joining @UChicagoCS and @DSI_UChicago in 2024 as an assistant professor and doing a postdoc @Meta in the meantime! I'm at\", 'score': 0.64478505, 'raw_content': None}, {'url': 'https://twitter.com/universeinanegg/status/1677787350586228738', 'title': 'Ari Holtzman on X: \"Last but not least, thank you to all folks who we ...', 'content': 'Last but not least, thank you to all folks who we had fantastic discussions with and who gave super insightful feedback!', 'score': 0.5923135, 'raw_content': None}, {'url': 'https://openreview.net/pdf/4acd113560a311d91da11c5d522c8646641888ba.pdf', 'title': '[PDF] RePALM: Popular Quote Tweet Generation via Auto ... - OpenReview', 'content': '660 Ari Holtzman, Jan Buys, Li Du, Maxwell Forbes, and 661 Yejin Choi. 2020. The curious case of neural text de-662 generation. In International Conference on Learning 663 Representations.\\n664 9 Edward J Hu, Yelong Shen, Phillip Wallis, Zeyuan 665 Allen-Zhu, Yuanzhi Li, Shean Wang, Lu Wang, and 666 Weizhu Chen. 2022. LoRA: Low-rank adaptation of 667 large language models. In International Conference 668 on Learning Representations. [...] 279 Concretely, we first prompt the LLM and employ 280 top-p sampling (Holtzman et al., 2020) to sample 281 varying responses (to form the readers’ view from 282 diverse angles). Then, we compute their semantic 283 similarity to measure the responses’ consistency to 284 the source message. Lastly, we rank the responses 285 based on similarity to select the most relevant ones 286 as the auto-response for the remaining learning 287 4 process. The prompt is shown in Appendix D. [...] 14.18 14.57 0.66 83.55 11.59 8.52 8.66 0.37 81.27 LLaMA2-Response 17.21 11.81 12.30 0.56 83.12 11.37 8.03 8.46 0.37 80.43 LLaMA2-FT 18.37 12.13 13.11 0.61 82.01 11.21 8.11 8.27 0.31 80.81 RePALM 23.26 15.98 16.33 0.74 84.71 14.18 10.69 11.98 0.51 83.32 -w/o Response Augmentation 20.79 14.78 15.03 0.63 83.12 12.01 9.11 9.34 0.33 82.07 -w/o Dual-Reward Modeling 21.37 14.34 16.21 0.72 83.78 14.01 10.12 11.67 0.53 81.79 -w/o Reward Sampling 22.65 15.67 16.51 0.72 84.59 13.93 10.61 11.77 0.43 81.84', 'score': 0.55275756, 'raw_content': None}, {'url': 'https://x.com/universeinanegg?lang=en', 'title': 'Ari Holtzman (@universeinanegg) / X', 'content': \"Ari Holtzman's posts ... If you want a respite from OpenAI drama, how about joining academia? I'm starting Conceptualization Lab, recruiting PhDs & Postdocs! We\", 'score': 0.5402697, 'raw_content': None}, {'url': 'https://twitter.com/universeinanegg/status/1764113353113321929', 'title': 'Ari Holtzman on X: \"My biggest challenge in life has consistently ...', 'content': \"My biggest challenge in life has consistently been: what skills that I don't have a natural talent for are worth honing?\", 'score': 0.48264915, 'raw_content': None}], 'response_time': 2.82}), ToolMessage(content='[{\"url\": \"https://x.com/lukezettlemoyer?lang=en\", \"content\": \"New paper: Planning in latent space with a JEPA model trained with Variance-Covariance regularization.\"}, {\"url\": \"https://twitter.com/LukeZettlemoyer\", \"content\": \"Come work with me! We are looking to bring on more top talent to our language modeling workstream at Ai2 (@allen_ai ) building the open ecosystem.\"}, {\"url\": \"https://twitter.com/lukezettlemoyer/status/1003662931479941120\", \"content\": \"Come see Julian Michael presenting his work in question answer meaning representations, now at @NAACLHLT ! Image. 3:41 PM · Jun 4, 2018.\"}, {\"url\": \"https://www.mecs-press.org/ijieeb/ijieeb-v17-n2/v17n2-2.html\", \"content\": \"pretraining. Advances in neural information processing systems, 32, 2019.[25]Yinhan Liu, Myle Ott, Naman Goyal, Jingfei Du, Mandar Joshi, Danqi Chen, Omer Levy, Mike Lewis, Luke Zettlemoyer, and Veselin Stoyanov. Roberta: A robustly optimized bert pretraining approach. arXiv preprint arXiv:1907.11692, 2019.[26]Divyanshu Kakwani, Anoop Kunchukuttan, Satish Golla, Gokul N.C., Avik Bhattacharyya, Mitesh M. Khapra, and Pratyush Kumar. IndicNLPSuite: Monolingual Corpora, Evaluation Benchmarks and [...] Wenzek, Francisco Guzmán, Edouard Grave, Myle Ott, Luke Zettlemoyer, and Veselin Stoyanov. Unsupervised cross-lingual representation learning at scale. arXiv preprint arXiv:1911.02116, 2019.[16]Gopal Acharya and Dushyant Mahadik. Underpricing effect in initial public offerings: A systematic review and bibliometrics analysis. Available at SSRN 4541672, 2023.[17]Kelvin Du, Frank Xing, Rui Mao, and Erik Cambria. Financial sentiment analysis: Techniques and applications. ACM Computing Surveys, [...] Subscribe to receive issue release notifications and newsletters from\\\\n                MECS Press journals\"}, {\"url\": \"https://www.linkedin.com/in/luke-zettlemoyer-a0109b226\", \"content\": \"Experience: Facebook AI · Education: Massachusetts Institute of Technology · Location: Seattle · 500+ connections on LinkedIn. View Luke Zettlemoyer\\'s\"}]', name='tavily_search_results_json', id='ddfc8cf9-7345-4f86-968d-1bb6db75068b', tool_call_id='call_1YCNf0XIcmzxKh6xxVJhZxpT', artifact={'query': 'Luke Zettlemoyer latest tweet', 'follow_up_questions': None, 'answer': None, 'images': [], 'results': [{'url': 'https://x.com/lukezettlemoyer?lang=en', 'title': 'Luke Zettlemoyer (@LukeZettlemoyer) / X', 'content': 'New paper: Planning in latent space with a JEPA model trained with Variance-Covariance regularization.', 'score': 0.7043437, 'raw_content': None}, {'url': 'https://twitter.com/LukeZettlemoyer', 'title': 'Luke Zettlemoyer (@LukeZettlemoyer) / X', 'content': 'Come work with me! We are looking to bring on more top talent to our language modeling workstream at Ai2 (@allen_ai ) building the open ecosystem.', 'score': 0.65861565, 'raw_content': None}, {'url': 'https://twitter.com/lukezettlemoyer/status/1003662931479941120', 'title': 'Luke Zettlemoyer on X: \"Come see Julian Michael presenting his ...', 'content': 'Come see Julian Michael presenting his work in question answer meaning representations, now at @NAACLHLT ! Image. 3:41 PM · Jun 4, 2018.', 'score': 0.6147415, 'raw_content': None}, {'url': 'https://www.mecs-press.org/ijieeb/ijieeb-v17-n2/v17n2-2.html', 'title': 'Classification of Multilingual Financial Tweets Using an Ensemble ...', 'content': 'pretraining. Advances in neural information processing systems, 32, 2019.[25]Yinhan Liu, Myle Ott, Naman Goyal, Jingfei Du, Mandar Joshi, Danqi Chen, Omer Levy, Mike Lewis, Luke Zettlemoyer, and Veselin Stoyanov. Roberta: A robustly optimized bert pretraining approach. arXiv preprint arXiv:1907.11692, 2019.[26]Divyanshu Kakwani, Anoop Kunchukuttan, Satish Golla, Gokul N.C., Avik Bhattacharyya, Mitesh M. Khapra, and Pratyush Kumar. IndicNLPSuite: Monolingual Corpora, Evaluation Benchmarks and [...] Wenzek, Francisco Guzmán, Edouard Grave, Myle Ott, Luke Zettlemoyer, and Veselin Stoyanov. Unsupervised cross-lingual representation learning at scale. arXiv preprint arXiv:1911.02116, 2019.[16]Gopal Acharya and Dushyant Mahadik. Underpricing effect in initial public offerings: A systematic review and bibliometrics analysis. Available at SSRN 4541672, 2023.[17]Kelvin Du, Frank Xing, Rui Mao, and Erik Cambria. Financial sentiment analysis: Techniques and applications. ACM Computing Surveys, [...] Subscribe to receive issue release notifications and newsletters from\\n                MECS Press journals', 'score': 0.4465194, 'raw_content': None}, {'url': 'https://www.linkedin.com/in/luke-zettlemoyer-a0109b226', 'title': 'Luke Zettlemoyer - Facebook AI | LinkedIn', 'content': \"Experience: Facebook AI · Education: Massachusetts Institute of Technology · Location: Seattle · 500+ connections on LinkedIn. View Luke Zettlemoyer's\", 'score': 0.16083227, 'raw_content': None}], 'response_time': 2.71})]\n",
            "\n",
            "\n",
            "\n",
            "Receiving update from node: 'agent'\n",
            "[AIMessage(content='Here are the latest tweets or updates from the authors of the QLoRA paper:\\n\\n1. **Tim Dettmers**:\\n   - Latest Tweet: \"Perplexity Deep Research is quite close to OpenAI o3 on the Humanity Last Exam Benchmark despite being an order of magnitude faster and cheaper.\" [Twitter](https://twitter.com/Tim_Dettmers)\\n\\n2. **Artidoro Pagnoni**:\\n   - Latest Tweet: \"Introducing the Byte Latent Transformer (BLT) – An LLM architecture that scales better than Llama 3 using byte-patches instead.\" [Twitter](https://x.com/ArtidoroPagnoni/status/1867601413741981804)\\n\\n3. **Ari Holtzman**:\\n   - Latest Tweet: \"In other news, I\\'ll be joining @UChicagoCS and @DSI_UChicago in 2024 as an assistant professor and doing a postdoc @Meta in the meantime!\" [Twitter](https://x.com/aaholtzman?lang=en)\\n\\n4. **Luke Zettlemoyer**:\\n   - Latest Tweet: \"New paper: Planning in latent space with a JEPA model trained with Variance-Covariance regularization.\" [Twitter](https://x.com/lukezettlemoyer?lang=en)', additional_kwargs={'refusal': None}, response_metadata={'token_usage': {'completion_tokens': 269, 'prompt_tokens': 3787, 'total_tokens': 4056, 'completion_tokens_details': {'accepted_prediction_tokens': 0, 'audio_tokens': 0, 'reasoning_tokens': 0, 'rejected_prediction_tokens': 0}, 'prompt_tokens_details': {'audio_tokens': 0, 'cached_tokens': 1152}}, 'model_name': 'gpt-4o-2024-08-06', 'system_fingerprint': 'fp_17316073ab', 'finish_reason': 'stop', 'logprobs': None}, id='run-28764219-8d2b-476f-9aff-8e8f3d460b28-0', usage_metadata={'input_tokens': 3787, 'output_tokens': 269, 'total_tokens': 4056, 'input_token_details': {'audio': 0, 'cache_read': 1152}, 'output_token_details': {'audio': 0, 'reasoning': 0}})]\n",
            "\n",
            "\n",
            "\n"
          ]
        }
      ],
      "source": [
        "inputs = {\"messages\" : [HumanMessage(content=\"Search Arxiv for the QLoRA paper, then search each of the authors to find out their latest Tweet using Tavily!\")]}\n",
        "\n",
        "async for chunk in compiled_graph.astream(inputs, stream_mode=\"updates\"):\n",
        "    for node, values in chunk.items():\n",
        "        print(f\"Receiving update from node: '{node}'\")\n",
        "        if node == \"action\":\n",
        "          print(f\"Tool Used: {values['messages'][0].name}\")\n",
        "        print(values[\"messages\"])\n",
        "\n",
        "        print(\"\\n\\n\")"
      ]
    },
    {
      "cell_type": "markdown",
      "metadata": {
        "id": "CXzDlZVz1Hnf"
      },
      "source": [
        "#### 🏗️ Activity #2:\n",
        "\n",
        "Please write out the steps the agent took to arrive at the correct answer.  \n",
        "1. State object populated with the request  \n",
        "2. State object pass through agent node, where agent node added AIMessage with additional_kwargs and pass it throgh conditional edge  \n",
        "3. conditional edge found a tool call for arxiv search and call for action  \n",
        "4. Action node used arxiv tool search and provided response ToolMessage with authors other metadata  \n",
        "5. Agent node added repsone AI message with additional_kwargs to state object with tool call for tavily search for latest tweets with author names  \n",
        "6.  conditional edge found a tool call for tavily search and call for action  \n",
        "7. Action node used tavily search and provied response in ToolMessage with latest tweets for each author  \n",
        "8. Agent node added response with AI message with content and additional_kwargs with no tool call and passed to conitional edge    \n",
        "9. Conditional edge could not find a tool call and pass the state object to end where we see the output  "
      ]
    },
    {
      "cell_type": "markdown",
      "metadata": {},
      "source": [
        "# 🤝 Breakout Room #2"
      ]
    },
    {
      "cell_type": "code",
      "execution_count": null,
      "metadata": {},
      "outputs": [],
      "source": []
    },
    {
      "cell_type": "markdown",
      "metadata": {
        "id": "v7c8-Uyarh1v"
      },
      "source": [
        "## Part 1: LangSmith Evaluator"
      ]
    },
    {
      "cell_type": "markdown",
      "metadata": {
        "id": "pV3XeFOT1Sar"
      },
      "source": [
        "### Pre-processing for LangSmith"
      ]
    },
    {
      "cell_type": "markdown",
      "metadata": {
        "id": "wruQCuzewUuO"
      },
      "source": [
        "To do a little bit more preprocessing, let's wrap our LangGraph agent in a simple chain."
      ]
    },
    {
      "cell_type": "code",
      "execution_count": 19,
      "metadata": {
        "id": "oeXdQgbxwhTv"
      },
      "outputs": [],
      "source": [
        "def convert_inputs(input_object):\n",
        "  return {\"messages\" : [HumanMessage(content=input_object[\"question\"])]}\n",
        "\n",
        "def parse_output(input_state):\n",
        "  return input_state[\"messages\"][-1].content\n",
        "\n",
        "agent_chain = convert_inputs | compiled_graph | parse_output"
      ]
    },
    {
      "cell_type": "code",
      "execution_count": 18,
      "metadata": {
        "colab": {
          "base_uri": "https://localhost:8080/",
          "height": 105
        },
        "id": "orYxBZXSxJjZ",
        "outputId": "76be837b-6424-4516-8f63-07fbd8c25bf5"
      },
      "outputs": [
        {
          "data": {
            "text/plain": [
              "\"RAG stands for Retrieval-Augmented Generation. It is a technique used in natural language processing (NLP) that combines retrieval-based methods with generative models to improve the quality and accuracy of generated text. Here's a brief overview of how it works:\\n\\n1. **Retrieval**: In the first step, relevant documents or pieces of information are retrieved from a large corpus or database. This is typically done using a retrieval model that can efficiently search and rank documents based on their relevance to a given query or context.\\n\\n2. **Augmentation**: The retrieved information is then used to augment the input to a generative model. This means that the generative model has access to additional context or knowledge that can help it produce more accurate and contextually appropriate responses.\\n\\n3. **Generation**: Finally, a generative model, such as a transformer-based language model, uses the augmented input to generate a response or piece of text. The generative model can leverage the retrieved information to produce more informed and relevant outputs.\\n\\nRAG is particularly useful in scenarios where the generative model needs to produce responses that are grounded in factual information or when dealing with tasks that require access to a large amount of external knowledge. It is commonly used in applications like question answering, dialogue systems, and content generation.\""
            ]
          },
          "execution_count": 18,
          "metadata": {},
          "output_type": "execute_result"
        }
      ],
      "source": [
        "agent_chain.invoke({\"question\" : \"What is RAG?\"})"
      ]
    },
    {
      "cell_type": "markdown",
      "metadata": {
        "id": "f9UkCIqkpyZu"
      },
      "source": [
        "### Task 1: Creating An Evaluation Dataset\n",
        "\n",
        "Just as we saw last week, we'll want to create a dataset to test our Agent's ability to answer questions.\n",
        "\n",
        "In order to do this - we'll want to provide some questions and some answers. Let's look at how we can create such a dataset below.\n",
        "\n",
        "```python\n",
        "questions = [\n",
        "    \"What optimizer is used in QLoRA?\",\n",
        "    \"What data type was created in the QLoRA paper?\",\n",
        "    \"What is a Retrieval Augmented Generation system?\",\n",
        "    \"Who authored the QLoRA paper?\",\n",
        "    \"What is the most popular deep learning framework?\",\n",
        "    \"What significant improvements does the LoRA system make?\"\n",
        "]\n",
        "\n",
        "answers = [\n",
        "    {\"must_mention\" : [\"paged\", \"optimizer\"]},\n",
        "    {\"must_mention\" : [\"NF4\", \"NormalFloat\"]},\n",
        "    {\"must_mention\" : [\"ground\", \"context\"]},\n",
        "    {\"must_mention\" : [\"Tim\", \"Dettmers\"]},\n",
        "    {\"must_mention\" : [\"PyTorch\", \"TensorFlow\"]},\n",
        "    {\"must_mention\" : [\"reduce\", \"parameters\"]},\n",
        "]\n",
        "```"
      ]
    },
    {
      "cell_type": "markdown",
      "metadata": {
        "id": "VfMXF2KAsQxs"
      },
      "source": [
        "#### 🏗️ Activity #3:\n",
        "\n",
        "Please create a dataset in the above format with at least 5 questions.\n",
        "  \n",
        "questions = [  \n",
        "    \"What is the primary advantage of using QLoRA over full fine-tuning?\",  \n",
        "    \"How does PEFT (Parameter-Efficient Fine-Tuning) work with large language models?\",  \n",
        "    \"What is the difference between LoRA and QLoRA?\",  \n",
        "    \"What problem does quantization solve in large language models?\",    \n",
        "    \"What is the relationship between context length and transformer models?\",  \n",
        "    \"How do retrieval augmented generation systems handle factual accuracy?\",  \n",
        "    \"What are some challenges in evaluating large language models?\"  \n",
        "]  \n",
        "  \n",
        "answers = [  \n",
        "    {\"must_mention\": [\"memory\", \"efficient\", \"parameters\"]},  \n",
        "    {\"must_mention\": [\"adapters\", \"frozen\", \"trainable\"]},  \n",
        "    {\"must_mention\": [\"quantization\", \"precision\", \"memory\"]},  \n",
        "    {\"must_mention\": [\"memory\", \"footprint\", \"precision\"]},  \n",
        "    {\"must_mention\": [\"attention\", \"window\", \"tokens\"]},  \n",
        "    {\"must_mention\": [\"external\", \"knowledge\", \"sources\"]},  \n",
        "    {\"must_mention\": [\"bias\", \"hallucination\", \"metrics\"]}  \n",
        "]  "
      ]
    },
    {
      "cell_type": "code",
      "execution_count": 20,
      "metadata": {
        "id": "CbagRuJop83E"
      },
      "outputs": [],
      "source": [
        "questions = [\n",
        "    \"What optimizer is used in QLoRA?\",\n",
        "    \"What data type was created in the QLoRA paper?\",\n",
        "    \"What is a Retrieval Augmented Generation system?\",\n",
        "    \"Who authored the QLoRA paper?\",\n",
        "    \"What is the most popular deep learning framework?\",\n",
        "    \"What significant improvements does the LoRA system make?\"\n",
        "]\n",
        "\n",
        "answers = [\n",
        "    {\"must_mention\" : [\"paged\", \"optimizer\"]},\n",
        "    {\"must_mention\" : [\"NF4\", \"NormalFloat\"]},\n",
        "    {\"must_mention\" : [\"ground\", \"context\"]},\n",
        "    {\"must_mention\" : [\"Tim\", \"Dettmers\"]},\n",
        "    {\"must_mention\" : [\"PyTorch\", \"TensorFlow\"]},\n",
        "    {\"must_mention\" : [\"reduce\", \"parameters\"]},\n",
        "]"
      ]
    },
    {
      "cell_type": "markdown",
      "metadata": {
        "id": "z7QVFuAmsh7L"
      },
      "source": [
        "Now we can add our dataset to our LangSmith project using the following code which we saw last Thursday!"
      ]
    },
    {
      "cell_type": "code",
      "execution_count": 21,
      "metadata": {
        "id": "RLfrZrgSsn85"
      },
      "outputs": [
        {
          "data": {
            "text/plain": [
              "{'example_ids': ['c16031b8-c0c9-452c-8d52-7b48d73ced00',\n",
              "  'c1caf2b6-8568-487e-bff3-5a474280ad87',\n",
              "  '2c1c0a25-bf78-49ed-ba07-d95bb01bdcf3',\n",
              "  'a29e4724-3f85-4a6c-8d08-d764f69c4651',\n",
              "  '9c369d77-4e5a-433b-b68f-eef190343410',\n",
              "  '72d94224-7d32-4d53-a15c-f6d369790f4f'],\n",
              " 'count': 6}"
            ]
          },
          "execution_count": 21,
          "metadata": {},
          "output_type": "execute_result"
        }
      ],
      "source": [
        "from langsmith import Client\n",
        "\n",
        "client = Client()\n",
        "\n",
        "dataset_name = f\"Retrieval Augmented Generation - Evaluation Dataset - {uuid4().hex[0:8]}\"\n",
        "\n",
        "dataset = client.create_dataset(\n",
        "    dataset_name=dataset_name,\n",
        "    description=\"Questions about the QLoRA Paper to Evaluate RAG over the same paper.\"\n",
        ")\n",
        "\n",
        "client.create_examples(\n",
        "    inputs=[{\"question\" : q} for q in questions],\n",
        "    outputs=answers,\n",
        "    dataset_id=dataset.id,\n",
        ")"
      ]
    },
    {
      "cell_type": "markdown",
      "metadata": {
        "id": "ciV73F9Q04w0"
      },
      "source": [
        "#### ❓ Question #3:\n",
        "\n",
        "How are the correct answers associated with the questions?\n",
        "Ans: Correct Answers are associated with questions through matching indices in two list ('questions' and 'answers')  \n",
        "A list question corresponds to a list of answer.   \n",
        "for e.g questions[0] (\"What optimizer is used in QLoRA?\") corresponds to answers[0] (must mention \"paged\" and \"optimizer\")\n",
        "\n",
        "The client.create_examples() function maintains this positional relationship when creating the dataset examples in LangSmith, so each question is properly matched with its evaluation criteria.RetryClaude does not have the ability to run the code it generates yet.Claude can make mistakes. Please double-check responses.  \n",
        "\n",
        "The main concern is that this method relied on positional indexing, so if there is any misalignment with question and answer indices that might cause and issue. Better way to handle it with disctionary pair of ques and ans.\n",
        "\n",
        "> NOTE: Feel free to indicate if this is problematic or not"
      ]
    },
    {
      "cell_type": "markdown",
      "metadata": {
        "id": "-lRTXUrTtP9Y"
      },
      "source": [
        "### Task 2: Adding Evaluators\n",
        "\n",
        "Now we can add a custom evaluator to see if our responses contain the expected information.\n",
        "\n",
        "We'll be using a fairly naive exact-match process to determine if our response contains specific strings."
      ]
    },
    {
      "cell_type": "code",
      "execution_count": 22,
      "metadata": {
        "id": "QrAUXMFftlAY"
      },
      "outputs": [],
      "source": [
        "from langsmith.evaluation import EvaluationResult, run_evaluator\n",
        "\n",
        "@run_evaluator\n",
        "def must_mention(run, example) -> EvaluationResult:\n",
        "    prediction = run.outputs.get(\"output\") or \"\"\n",
        "    required = example.outputs.get(\"must_mention\") or []\n",
        "    score = all(phrase in prediction for phrase in required)\n",
        "    return EvaluationResult(key=\"must_mention\", score=score)"
      ]
    },
    {
      "cell_type": "markdown",
      "metadata": {
        "id": "PNtHORUh0jZY"
      },
      "source": [
        "#### ❓ Question #4:\n",
        "\n",
        "What are some ways you could improve this metric as-is?\n",
        "> NOTE: Alternatively you can suggest where gaps exist in this method.\n",
        "\n",
        "Ans: As above method looks good, simple but effective. It has some limitations like this evaluator is case sensitive so it would tream same word as different if it come across same words with upper or lower case letters. There are few ways it can be improved\n",
        "1. Case sensitivity: Convert text to lowercase when checking for phrases  \n",
        "\n",
        "    score = all(phrase.lower() in prediction.lower() for phrase in required)\n",
        "\n",
        "2. Synonyms/semantic matching: Accept alternative phrasings with similar meaning, We would need a dictionary of synonyms or embedding-based similarity    \n",
        "\n",
        "\n"
      ]
    },
    {
      "cell_type": "markdown",
      "metadata": {
        "id": "r1RJr349zhv7"
      },
      "source": [
        "Task 3: Evaluating\n",
        "\n",
        "All that is left to do is evaluate our agent's response!"
      ]
    },
    {
      "cell_type": "code",
      "execution_count": 23,
      "metadata": {
        "colab": {
          "base_uri": "https://localhost:8080/",
          "height": 118,
          "referenced_widgets": [
            "efcf57067cf743d8b4ce059a61cbe02e",
            "53e33aae3b97490c82aec7bbb0d6ebba",
            "ad84e0e971d3455db2efe7dd0d1f803e",
            "72adef9b70dd48198b7322b6c5b113cf",
            "8a61d045ffd44ac58f3f13eb10044836",
            "041e22a9b5514e36bd4d1dac01d5d398",
            "886d762f2a7c421382efb5502c6d42a1",
            "ab91fd625bbd43afbf8c6398193a88d0",
            "716557ad09874dcb989d75f7c74424cd",
            "77d4c0ebaae045b58efc4f789c9a2360",
            "0d622ccc56264fac8fd7508dbdbe6e29"
          ]
        },
        "id": "p5TeCUUkuGld",
        "outputId": "2f7d62a2-e78d-447a-d07b-f9e4d500fb79"
      },
      "outputs": [
        {
          "name": "stdout",
          "output_type": "stream",
          "text": [
            "View the evaluation results for experiment: 'RAG Pipeline - Evaluation - f273-1ab07254' at:\n",
            "https://smith.langchain.com/o/958971ef-386b-4c29-9daa-db720d891cdb/datasets/15a25aa0-ebeb-4fef-87a5-591ac27385d5/compare?selectedSessions=cb58e4a9-fdaa-45df-84ae-848d1c099af3\n",
            "\n",
            "\n"
          ]
        },
        {
          "data": {
            "application/vnd.jupyter.widget-view+json": {
              "model_id": "4e3fd7166d804f3a95f03e9c79a41cc4",
              "version_major": 2,
              "version_minor": 0
            },
            "text/plain": [
              "0it [00:00, ?it/s]"
            ]
          },
          "metadata": {},
          "output_type": "display_data"
        }
      ],
      "source": [
        "experiment_results = client.evaluate(\n",
        "    agent_chain,\n",
        "    data=dataset_name,\n",
        "    evaluators=[must_mention],\n",
        "    experiment_prefix=f\"RAG Pipeline - Evaluation - {uuid4().hex[0:4]}\",\n",
        "    metadata={\"version\": \"1.0.0\"},\n",
        ")"
      ]
    },
    {
      "cell_type": "code",
      "execution_count": 24,
      "metadata": {
        "colab": {
          "base_uri": "https://localhost:8080/",
          "height": 342
        },
        "id": "eeEqU7s05Byu",
        "outputId": "78395075-a05d-4ebd-c798-ed968b935318"
      },
      "outputs": [
        {
          "data": {
            "text/html": [
              "<div>\n",
              "<style scoped>\n",
              "    .dataframe tbody tr th:only-of-type {\n",
              "        vertical-align: middle;\n",
              "    }\n",
              "\n",
              "    .dataframe tbody tr th {\n",
              "        vertical-align: top;\n",
              "    }\n",
              "\n",
              "    .dataframe thead th {\n",
              "        text-align: right;\n",
              "    }\n",
              "</style>\n",
              "<table border=\"1\" class=\"dataframe\">\n",
              "  <thead>\n",
              "    <tr style=\"text-align: right;\">\n",
              "      <th></th>\n",
              "      <th>inputs.question</th>\n",
              "      <th>outputs.output</th>\n",
              "      <th>error</th>\n",
              "      <th>reference.must_mention</th>\n",
              "      <th>feedback.must_mention</th>\n",
              "      <th>execution_time</th>\n",
              "      <th>example_id</th>\n",
              "      <th>id</th>\n",
              "    </tr>\n",
              "  </thead>\n",
              "  <tbody>\n",
              "    <tr>\n",
              "      <th>0</th>\n",
              "      <td>What significant improvements does the LoRA sy...</td>\n",
              "      <td>The LoRA (Low-Rank Adaptation) system has made...</td>\n",
              "      <td>None</td>\n",
              "      <td>[reduce, parameters]</td>\n",
              "      <td>False</td>\n",
              "      <td>6.356871</td>\n",
              "      <td>2c1c0a25-bf78-49ed-ba07-d95bb01bdcf3</td>\n",
              "      <td>225fc56e-fc23-456a-9be5-f246552e2840</td>\n",
              "    </tr>\n",
              "    <tr>\n",
              "      <th>1</th>\n",
              "      <td>What is a Retrieval Augmented Generation system?</td>\n",
              "      <td>A Retrieval Augmented Generation (RAG) system ...</td>\n",
              "      <td>None</td>\n",
              "      <td>[ground, context]</td>\n",
              "      <td>True</td>\n",
              "      <td>4.521575</td>\n",
              "      <td>72d94224-7d32-4d53-a15c-f6d369790f4f</td>\n",
              "      <td>d66d03ac-640e-490c-8c96-2ac7dc97df40</td>\n",
              "    </tr>\n",
              "    <tr>\n",
              "      <th>2</th>\n",
              "      <td>What data type was created in the QLoRA paper?</td>\n",
              "      <td>In the QLoRA paper, a new data type called \"4-...</td>\n",
              "      <td>None</td>\n",
              "      <td>[NF4, NormalFloat]</td>\n",
              "      <td>True</td>\n",
              "      <td>3.867013</td>\n",
              "      <td>9c369d77-4e5a-433b-b68f-eef190343410</td>\n",
              "      <td>b1cd9f64-6993-4129-9036-00e9d979b147</td>\n",
              "    </tr>\n",
              "    <tr>\n",
              "      <th>3</th>\n",
              "      <td>What optimizer is used in QLoRA?</td>\n",
              "      <td>QLoRA uses \"paged optimizers\" to manage memory...</td>\n",
              "      <td>None</td>\n",
              "      <td>[paged, optimizer]</td>\n",
              "      <td>True</td>\n",
              "      <td>2.817402</td>\n",
              "      <td>a29e4724-3f85-4a6c-8d08-d764f69c4651</td>\n",
              "      <td>c97b2a10-173b-41f9-9208-5ebcb39dc4dd</td>\n",
              "    </tr>\n",
              "    <tr>\n",
              "      <th>4</th>\n",
              "      <td>Who authored the QLoRA paper?</td>\n",
              "      <td>The QLoRA paper titled \"Accurate LoRA-Finetuni...</td>\n",
              "      <td>None</td>\n",
              "      <td>[Tim, Dettmers]</td>\n",
              "      <td>False</td>\n",
              "      <td>2.616421</td>\n",
              "      <td>c16031b8-c0c9-452c-8d52-7b48d73ced00</td>\n",
              "      <td>d439657c-25a5-49b8-8ad7-89fc2ac0e1a9</td>\n",
              "    </tr>\n",
              "    <tr>\n",
              "      <th>5</th>\n",
              "      <td>What is the most popular deep learning framework?</td>\n",
              "      <td>The most popular deep learning framework in 20...</td>\n",
              "      <td>None</td>\n",
              "      <td>[PyTorch, TensorFlow]</td>\n",
              "      <td>False</td>\n",
              "      <td>6.539037</td>\n",
              "      <td>c1caf2b6-8568-487e-bff3-5a474280ad87</td>\n",
              "      <td>f433be82-528b-483c-ba09-4749f2a1df7f</td>\n",
              "    </tr>\n",
              "  </tbody>\n",
              "</table>\n",
              "</div>"
            ],
            "text/plain": [
              "<ExperimentResults RAG Pipeline - Evaluation - f273-1ab07254>"
            ]
          },
          "execution_count": 24,
          "metadata": {},
          "output_type": "execute_result"
        }
      ],
      "source": [
        "experiment_results"
      ]
    },
    {
      "cell_type": "markdown",
      "metadata": {
        "id": "jhTNe4kWrplB"
      },
      "source": [
        "## Part 2: LangGraph with Helpfulness:"
      ]
    },
    {
      "cell_type": "markdown",
      "metadata": {
        "id": "w1wKRddbIY_S"
      },
      "source": [
        "### Task 3: Adding Helpfulness Check and \"Loop\" Limits\n",
        "\n",
        "Now that we've done evaluation - let's see if we can add an extra step where we review the content we've generated to confirm if it fully answers the user's query!\n",
        "\n",
        "We're going to make a few key adjustments to account for this:\n",
        "\n",
        "1. We're going to add an artificial limit on how many \"loops\" the agent can go through - this will help us to avoid the potential situation where we never exit the loop.\n",
        "2. We'll add to our existing conditional edge to obtain the behaviour we desire."
      ]
    },
    {
      "cell_type": "markdown",
      "metadata": {
        "id": "npTYJ8ayR5B3"
      },
      "source": [
        "First, let's define our state again - we can check the length of the state object, so we don't need additional state for this."
      ]
    },
    {
      "cell_type": "code",
      "execution_count": 25,
      "metadata": {
        "id": "-LQ84YhyJG0w"
      },
      "outputs": [],
      "source": [
        "class AgentState(TypedDict):\n",
        "  messages: Annotated[list, add_messages]"
      ]
    },
    {
      "cell_type": "markdown",
      "metadata": {
        "id": "sD7EV0HqSQcb"
      },
      "source": [
        "Now we can set our graph up! This process will be almost entirely the same - with the inclusion of one additional node/conditional edge!"
      ]
    },
    {
      "cell_type": "markdown",
      "metadata": {
        "id": "oajBwLkFVi1N"
      },
      "source": [
        "#### 🏗️ Activity #5:\n",
        "\n",
        "Please write markdown for the following cells to explain what each is doing."
      ]
    },
    {
      "cell_type": "markdown",
      "metadata": {
        "id": "M6rN7feNVn9f"
      },
      "source": [
        "##### YOUR MARKDOWN HERE"
      ]
    },
    {
      "cell_type": "markdown",
      "metadata": {},
      "source": [
        "* Creates a new state graph using StateGraph(AgentState)  \n",
        "* Adds two main nodes to the graph:\n",
        "    * \"agent\" node: Handles the model calls and decision making\n",
        "    * \"action\" node: Executes tool operations when needed"
      ]
    },
    {
      "cell_type": "code",
      "execution_count": 37,
      "metadata": {
        "colab": {
          "base_uri": "https://localhost:8080/"
        },
        "id": "6r6XXA5FJbVf",
        "outputId": "ff713041-e498-4f0f-a875-a03502b87729"
      },
      "outputs": [
        {
          "data": {
            "text/plain": [
              "<langgraph.graph.state.StateGraph at 0x7ff99a09a780>"
            ]
          },
          "execution_count": 37,
          "metadata": {},
          "output_type": "execute_result"
        }
      ],
      "source": [
        "graph_with_helpfulness_check = StateGraph(AgentState)\n",
        "\n",
        "graph_with_helpfulness_check.add_node(\"agent\", call_model)\n",
        "graph_with_helpfulness_check.add_node(\"action\", tool_node)"
      ]
    },
    {
      "cell_type": "markdown",
      "metadata": {
        "id": "XZ22o2mWVrfp"
      },
      "source": [
        "##### YOUR MARKDOWN HERE"
      ]
    },
    {
      "cell_type": "markdown",
      "metadata": {},
      "source": [
        "* Set up and entry point to set which node will first which is agent in this case"
      ]
    },
    {
      "cell_type": "code",
      "execution_count": 38,
      "metadata": {
        "colab": {
          "base_uri": "https://localhost:8080/"
        },
        "id": "HNWHwWxuRiLY",
        "outputId": "295f5a35-ceff-452a-ffb8-c52eada6a816"
      },
      "outputs": [
        {
          "data": {
            "text/plain": [
              "<langgraph.graph.state.StateGraph at 0x7ff99a09a780>"
            ]
          },
          "execution_count": 38,
          "metadata": {},
          "output_type": "execute_result"
        }
      ],
      "source": [
        "graph_with_helpfulness_check.set_entry_point(\"agent\")"
      ]
    },
    {
      "cell_type": "markdown",
      "metadata": {
        "id": "rsXeF6xlaXOZ"
      },
      "source": [
        "##### YOUR MARKDOWN HERE"
      ]
    },
    {
      "cell_type": "markdown",
      "metadata": {},
      "source": [
        "* The tool_call_or_helpful function is defined to setup the next step in the conversation flow \n",
        "* Fist if loop check if the last message requires tool call and direct it to action node\n",
        "* if len(state[\"messages\"]) > 10 is for preventing infinite loops and limiting cycle lenth to 10\n",
        "* prompt template is used for structured promp to evaluate response quality\n",
        "* gpt-4 llm model is used to determine if response is helpful\n",
        "* eturns \"end\" if helpful, \"continue\" if not"
      ]
    },
    {
      "cell_type": "code",
      "execution_count": 39,
      "metadata": {
        "id": "z_Sq3A9SaV1O"
      },
      "outputs": [],
      "source": [
        "from langchain_core.prompts import PromptTemplate\n",
        "from langchain_core.output_parsers import StrOutputParser\n",
        "\n",
        "def tool_call_or_helpful(state):\n",
        "  last_message = state[\"messages\"][-1]\n",
        "\n",
        "  if last_message.tool_calls:\n",
        "    return \"action\"\n",
        "\n",
        "  initial_query = state[\"messages\"][0]\n",
        "  final_response = state[\"messages\"][-1]\n",
        "\n",
        "  if len(state[\"messages\"]) > 10:\n",
        "    return \"END\"\n",
        "\n",
        "  prompt_template = \"\"\"\\\n",
        "  Given an initial query and a final response, determine if the final response is extremely helpful or not. Please indicate helpfulness with a 'Y' and unhelpfulness as an 'N'.\n",
        "\n",
        "  Initial Query:\n",
        "  {initial_query}\n",
        "\n",
        "  Final Response:\n",
        "  {final_response}\"\"\"\n",
        "\n",
        "  prompt_template = PromptTemplate.from_template(prompt_template)\n",
        "\n",
        "  helpfulness_check_model = ChatOpenAI(model=\"gpt-4\")\n",
        "\n",
        "  helpfulness_chain = prompt_template | helpfulness_check_model | StrOutputParser()\n",
        "\n",
        "  helpfulness_response = helpfulness_chain.invoke({\"initial_query\" : initial_query.content, \"final_response\" : final_response.content})\n",
        "\n",
        "  if \"Y\" in helpfulness_response:\n",
        "    return \"end\"\n",
        "  else:\n",
        "    return \"continue\""
      ]
    },
    {
      "cell_type": "markdown",
      "metadata": {
        "id": "Fz1u9Vf4SHxJ"
      },
      "source": [
        "#### 🏗️ Activity #4:\n",
        "\n",
        "Please write what is happening in our `tool_call_or_helpful` function!  \n",
        "\n",
        "The tool_call_or_helpful function is controlling the flow of conversation and making sure agent provides helpful response but not going in infinite loop cycle.  \n",
        "This function evaluates whether a conversation with an agent should continue, end, or take another action. Here's what it does:  \n",
        "\n",
        "1. It checks if the last message contains tool calls - if yes, it returns \"action\" to use a tool.  \n",
        "2. If no tool calls, it checks if the conversation is getting too long (more than 10 messages) - if yes, it forces an end with \"END\".  \n",
        "3. Also, it evaluates the helpfulness of the final response compared to the initial query:  \n",
        "    It creates a prompt that compares the initial user query with the final agent response  \n",
        "    It sends this to GPT-4 to judge whether the response is helpful  \n",
        "    If GPT-4 indicates helpfulness (contains \"Y\"), it returns \"end\" to conclude the conversation  \n",
        "    If not helpful, it returns \"continue\" to keep the conversation going  \n",
        "Basically, it's a decision node for a LangGraph that determines the next step based on tool usage, conversation length, and response quality  "
      ]
    },
    {
      "cell_type": "markdown",
      "metadata": {
        "id": "6BhnBW2YVsJO"
      },
      "source": [
        "##### YOUR MARKDOWN HERE"
      ]
    },
    {
      "cell_type": "markdown",
      "metadata": {},
      "source": [
        "* Adding conditional edge to a LangGraph based on results from tool_call_or_helpful\n",
        "    *   returns \"continue\" The execution loops back to the \"agent\" node, continuing the conversation\n",
        "    *   returns \"action\" - The flow proceeds to an \"action\" node\n",
        "    *   returns \"end\" - The graph execution terminates  "
      ]
    },
    {
      "cell_type": "code",
      "execution_count": 40,
      "metadata": {
        "colab": {
          "base_uri": "https://localhost:8080/"
        },
        "id": "aVTKnWMbP_8T",
        "outputId": "7f729b1f-311c-4084-ceaf-0da437900c85"
      },
      "outputs": [
        {
          "data": {
            "text/plain": [
              "<langgraph.graph.state.StateGraph at 0x7ff99a09a780>"
            ]
          },
          "execution_count": 40,
          "metadata": {},
          "output_type": "execute_result"
        }
      ],
      "source": [
        "graph_with_helpfulness_check.add_conditional_edges(\n",
        "    \"agent\",\n",
        "    tool_call_or_helpful,\n",
        "    {\n",
        "        \"continue\" : \"agent\",\n",
        "        \"action\" : \"action\",\n",
        "        \"end\" : END\n",
        "    }\n",
        ")"
      ]
    },
    {
      "cell_type": "markdown",
      "metadata": {
        "id": "ZGDLEWOIVtK0"
      },
      "source": [
        "##### YOUR MARKDOWN HERE"
      ]
    },
    {
      "cell_type": "markdown",
      "metadata": {},
      "source": [
        "* Adding edge from action node to agent node"
      ]
    },
    {
      "cell_type": "code",
      "execution_count": 41,
      "metadata": {
        "colab": {
          "base_uri": "https://localhost:8080/"
        },
        "id": "cbDK2MbuREgU",
        "outputId": "21a64c20-27a1-4e0e-afde-a639abaa8b55"
      },
      "outputs": [
        {
          "data": {
            "text/plain": [
              "<langgraph.graph.state.StateGraph at 0x7ff99a09a780>"
            ]
          },
          "execution_count": 41,
          "metadata": {},
          "output_type": "execute_result"
        }
      ],
      "source": [
        "graph_with_helpfulness_check.add_edge(\"action\", \"agent\")"
      ]
    },
    {
      "cell_type": "markdown",
      "metadata": {
        "id": "rSI8AOaEVvT-"
      },
      "source": [
        "##### YOUR MARKDOWN HERE"
      ]
    },
    {
      "cell_type": "markdown",
      "metadata": {},
      "source": [
        "* Compile the graph"
      ]
    },
    {
      "cell_type": "code",
      "execution_count": 42,
      "metadata": {
        "id": "oQldl8ERQ8lf"
      },
      "outputs": [],
      "source": [
        "agent_with_helpfulness_check = graph_with_helpfulness_check.compile()"
      ]
    },
    {
      "cell_type": "markdown",
      "metadata": {
        "id": "F67FGCMRVwGz"
      },
      "source": [
        "##### YOUR MARKDOWN HERE"
      ]
    },
    {
      "cell_type": "markdown",
      "metadata": {},
      "source": [
        "* It initializes with a human message asking three ML-related questions  \n",
        "* It streams the execution of the graph with astream()  \n",
        "* For each update in the stream:  \n",
        "    It prints which node is generating the update  \n",
        "    It prints the messages at that point in the conversation  \n",
        "    It adds spacing between updates  "
      ]
    },
    {
      "cell_type": "code",
      "execution_count": 43,
      "metadata": {
        "colab": {
          "base_uri": "https://localhost:8080/"
        },
        "id": "B3oo8E-PRK1T",
        "outputId": "f152dea8-96ad-4d29-d8b2-a064c96a8bd3"
      },
      "outputs": [
        {
          "name": "stdout",
          "output_type": "stream",
          "text": [
            "Receiving update from node: 'agent'\n",
            "[AIMessage(content='', additional_kwargs={'tool_calls': [{'id': 'call_BYmxRjvTTKX7mSfrkPd3b1KF', 'function': {'arguments': '{\"query\": \"LoRA machine learning\"}', 'name': 'arxiv'}, 'type': 'function'}, {'id': 'call_49DX8vEE7zroysEdeIkgJCGN', 'function': {'arguments': '{\"query\": \"Tim Dettmers\"}', 'name': 'tavily_search_results_json'}, 'type': 'function'}, {'id': 'call_MKr6pbtGu9UYh23NOPryyL4f', 'function': {'arguments': '{\"query\": \"Attention mechanism in machine learning\"}', 'name': 'arxiv'}, 'type': 'function'}], 'refusal': None}, response_metadata={'token_usage': {'completion_tokens': 73, 'prompt_tokens': 177, 'total_tokens': 250, 'completion_tokens_details': {'accepted_prediction_tokens': 0, 'audio_tokens': 0, 'reasoning_tokens': 0, 'rejected_prediction_tokens': 0}, 'prompt_tokens_details': {'audio_tokens': 0, 'cached_tokens': 0}}, 'model_name': 'gpt-4o-2024-08-06', 'system_fingerprint': 'fp_a6889ffe71', 'finish_reason': 'tool_calls', 'logprobs': None}, id='run-ed389a0d-7867-4235-aa80-b725364b4dae-0', tool_calls=[{'name': 'arxiv', 'args': {'query': 'LoRA machine learning'}, 'id': 'call_BYmxRjvTTKX7mSfrkPd3b1KF', 'type': 'tool_call'}, {'name': 'tavily_search_results_json', 'args': {'query': 'Tim Dettmers'}, 'id': 'call_49DX8vEE7zroysEdeIkgJCGN', 'type': 'tool_call'}, {'name': 'arxiv', 'args': {'query': 'Attention mechanism in machine learning'}, 'id': 'call_MKr6pbtGu9UYh23NOPryyL4f', 'type': 'tool_call'}], usage_metadata={'input_tokens': 177, 'output_tokens': 73, 'total_tokens': 250, 'input_token_details': {'audio': 0, 'cache_read': 0}, 'output_token_details': {'audio': 0, 'reasoning': 0}})]\n",
            "\n",
            "\n",
            "\n",
            "Receiving update from node: 'action'\n",
            "[ToolMessage(content=\"Published: 2024-10-28\\nTitle: KD-LoRA: A Hybrid Approach to Efficient Fine-Tuning with LoRA and Knowledge Distillation\\nAuthors: Rambod Azimi, Rishav Rishav, Marek Teichmann, Samira Ebrahimi Kahou\\nSummary: Large language models (LLMs) have demonstrated remarkable performance across\\nvarious downstream tasks. However, the high computational and memory\\nrequirements of LLMs are a major bottleneck. To address this,\\nparameter-efficient fine-tuning (PEFT) methods such as low-rank adaptation\\n(LoRA) have been proposed to reduce computational costs while ensuring minimal\\nloss in performance. Additionally, knowledge distillation (KD) has been a\\npopular choice for obtaining compact student models from teacher models. In\\nthis work, we present KD-LoRA, a novel fine-tuning method that combines LoRA\\nwith KD. Our results demonstrate that KD-LoRA achieves performance comparable\\nto full fine-tuning (FFT) and LoRA while significantly reducing resource\\nrequirements. Specifically, KD-LoRA retains 98% of LoRA's performance on the\\nGLUE benchmark, while being 40% more compact. Additionally, KD-LoRA reduces GPU\\nmemory usage by 30% compared to LoRA, while decreasing inference time by 30%\\ncompared to both FFT and LoRA. We evaluate KD-LoRA across three encoder-only\\nmodels: BERT, RoBERTa, and DeBERTaV3. Code is available at\\nhttps://github.com/rambodazimi/KD-LoRA.\\n\\nPublished: 2024-04-07\\nTitle: A Note on LoRA\\nAuthors: Vlad Fomenko, Han Yu, Jongho Lee, Stanley Hsieh, Weizhu Chen\\nSummary: LoRA (Low-Rank Adaptation) has emerged as a preferred method for efficiently\\nadapting Large Language Models (LLMs) with remarkable simplicity and efficacy.\\nThis note extends the original LoRA paper by offering new perspectives that\\nwere not initially discussed and presents a series of insights for deploying\\nLoRA at scale. Without introducing new experiments, we aim to improve the\\nunderstanding and application of LoRA.\\n\\nPublished: 2024-06-18\\nTitle: LoRA-drop: Efficient LoRA Parameter Pruning based on Output Evaluation\\nAuthors: Hongyun Zhou, Xiangyu Lu, Wang Xu, Conghui Zhu, Tiejun Zhao, Muyun Yang\\nSummary: Low-Rank Adaptation (LoRA) is currently the most commonly used\\nParameter-efficient fine-tuning (PEFT) method, it introduces auxiliary\\nparameters for each layer to fine-tune the pre-trained model under limited\\ncomputing resources. However, it still faces resource consumption challenges\\nduring training when scaling up to larger models. Most previous studies have\\ntackled this issue by using pruning techniques, which involve removing LoRA\\nparameters deemed unimportant. Nonetheless, these efforts only analyze LoRA\\nparameter features to evaluate their importance, such as parameter count, size,\\nand gradient. In fact, the output of LoRA (product of LoRA parameter and hidden\\nstate), directly impacts the final results. Preliminary experiments indicate\\nthat a fraction of LoRA elements possesses significantly high output values,\\nsubstantially influencing the layer output. Motivated by the observation, we\\npropose LoRA-drop. Concretely, LoRA-drop evaluates the importance of LoRA based\\non the LoRA output. Then we retain LoRA for important layers and the other\\nlayers share the same LoRA. We conduct abundant experiments with models of\\ndifferent scales on NLU and NLG tasks. Results demonstrate that LoRA-drop can\\nachieve performance comparable to full fine-tuning and LoRA, while retaining\\n50\\\\% of the LoRA parameters on average.\", name='arxiv', id='5410144c-0ca0-433f-a6ff-7ca34f90a821', tool_call_id='call_BYmxRjvTTKX7mSfrkPd3b1KF'), ToolMessage(content='[{\"url\": \"https://ai2050.schmidtsciences.org/fellow/tim-dettmers/\", \"content\": \"Tim Dettmers is an Assistant Professor at Carnegie Mellon University and a Research Scientist at the Allen Institute for AI, and his research focuses on making\"}, {\"url\": \"https://developer.nvidia.com/blog/author/tdettmers/\", \"content\": \"Tim Dettmers is a masters student in informatics at the University of Lugano where he works on deep learning research. Before that he studied applied\"}, {\"url\": \"https://www.interconnects.ai/p/tim-dettmers\", \"content\": \"Tim Dettmers does not need an introduction for most people building open-source AI. If you are part of that minority, you’re in for a treat. Tim is the lead developer behind most of the open-source tools for quantization: QLoRA, bitsandbytes, 4 and 8 bit inference, and plenty more. He recently finished his Ph.D. at the University of Washington, is now a researcher at the Allen Institute for AI, and is starting as a professor at Carnegie Mellon University in fall of 2025. [...] Nathan Lambert [00:00:00]: Hey, welcome back to Interconnects. This episode is an exciting one. It\\'s with Tim Dettmers.Okay, Tim, welcome to our bootleg in-person AI2 office recording studio we might get barged into, but I\\'m just excited to pick your brain. I mean, we eat lunch together and we talk, and it\\'s obvious that we agree on a lot of things. We have a unique perspective on a lot of things and it challenges normal worldview. So it\\'s good to just share it with people. I\\'ve got this [...] Tim is a joy to talk to. He thinks independently on all the AI issues of today, bringing new perspectives that challenge the status quo. At the same time, he’s sincere and very helpful to work with, working hard to uplift those around him and the academic community. There’s a reason he’s so loved in the open-source AI community. We cover:\\\\n\\\\nGeneral vibes in open-source,\\\\n\\\\nAgents, SWE-Bench, and using open models for tasks like this,\\\\n\\\\nHow to be a GPU poor academic and have huge impact,\"}, {\"url\": \"https://timdettmers.com/about/\", \"content\": \"Skip links\\\\n\\\\nTim Dettmers\\\\n\\\\nMaking deep learning accessible.\\\\n\\\\nHeader Right\\\\n\\\\nBlog Posts Topics\\\\n\\\\nMain navigation\\\\n\\\\nAbout Me\\\\n\\\\nResearch Interests Publications Awards & Honors Service\\\\n\\\\nGoogle Scholar\\\\n\\\\nfirstname.lastname@gmail.com\\\\n\\\\nI am a research scientist at the Allen Institute for Artificial Intelligence (Ai2) and an incoming Assistant Professor at Carnegie Mellon University (CMU). I am the creator and maintainer of bitsandbytes. [...] I have a PhD from University of Washington advised by Luke Zettlemoyer working on efficient deep learning at the intersection between machine learning, natural language processing, and computer systems with a focus on quantization and sparsity. My main research goal is to empower everyone to make AI their own. I do this by making large models accessible through my research (QLoRA, LLM.int8(), k-bit inference scaling laws, Petals, SWARM) and by developing software that makes it easy to use my [...] University while working as a software engineer in the automation industry.\"}, {\"url\": \"https://csd.cmu.edu/people/faculty/tim-dettmers\", \"content\": \"Main navigation\\\\n\\\\nBack to Main Menu\\\\n\\\\nAbout\\\\n\\\\t\\\\t\\\\t\\\\t\\\\t\\\\t\\\\t\\\\t\\\\t\\\\t\\\\t\\\\t\\\\tMain page\\\\n\\\\nBack to Main Menu\\\\n\\\\nAdmissions\\\\n\\\\t\\\\t\\\\t\\\\t\\\\t\\\\t\\\\t\\\\t\\\\t\\\\t\\\\t\\\\t\\\\tMain page\\\\n\\\\nBack to Main Menu\\\\n\\\\nAcademics\\\\n\\\\t\\\\t\\\\t\\\\t\\\\t\\\\t\\\\t\\\\t\\\\t\\\\t\\\\t\\\\t\\\\tMain page\\\\n\\\\nBack to Main Menu\\\\n\\\\nPeople\\\\n\\\\t\\\\t\\\\t\\\\t\\\\t\\\\t\\\\t\\\\t\\\\t\\\\t\\\\t\\\\t\\\\tMain page\\\\n\\\\nBack to Main Menu\\\\n\\\\nResearch\\\\n\\\\t\\\\t\\\\t\\\\t\\\\t\\\\t\\\\t\\\\t\\\\t\\\\t\\\\t\\\\t\\\\tMain page\\\\n\\\\nBreadcrumb\\\\n\\\\nTim Dettmers\\\\n\\\\nAssistant Professor\\\\n\\\\nWebsite\\\\n\\\\nGoogle Scholars Link\\\\n\\\\nEmail\\\\n\\\\t\\\\t\\\\t\\\\t\\\\t\\\\n\\\\t\\\\t\\\\t\\\\t\\\\t\\\\n              dettmers@cmu.edu\"}]', name='tavily_search_results_json', id='fc5b5548-6e18-4a32-8893-58dbe135f6b3', tool_call_id='call_49DX8vEE7zroysEdeIkgJCGN', artifact={'query': 'Tim Dettmers', 'follow_up_questions': None, 'answer': None, 'images': [], 'results': [{'url': 'https://ai2050.schmidtsciences.org/fellow/tim-dettmers/', 'title': 'Tim Dettmers - AI2050 - Schmidt Sciences', 'content': 'Tim Dettmers is an Assistant Professor at Carnegie Mellon University and a Research Scientist at the Allen Institute for AI, and his research focuses on making', 'score': 0.9067276, 'raw_content': None}, {'url': 'https://developer.nvidia.com/blog/author/tdettmers/', 'title': 'Author: Tim Dettmers | NVIDIA Technical Blog', 'content': 'Tim Dettmers is a masters student in informatics at the University of Lugano where he works on deep learning research. Before that he studied applied', 'score': 0.8795718, 'raw_content': None}, {'url': 'https://www.interconnects.ai/p/tim-dettmers', 'title': 'Interviewing Tim Dettmers on open-source AI - Interconnects', 'content': \"Tim Dettmers does not need an introduction for most people building open-source AI. If you are part of that minority, you’re in for a treat. Tim is the lead developer behind most of the open-source tools for quantization: QLoRA, bitsandbytes, 4 and 8 bit inference, and plenty more. He recently finished his Ph.D. at the University of Washington, is now a researcher at the Allen Institute for AI, and is starting as a professor at Carnegie Mellon University in fall of 2025. [...] Nathan Lambert [00:00:00]: Hey, welcome back to Interconnects. This episode is an exciting one. It's with Tim Dettmers.Okay, Tim, welcome to our bootleg in-person AI2 office recording studio we might get barged into, but I'm just excited to pick your brain. I mean, we eat lunch together and we talk, and it's obvious that we agree on a lot of things. We have a unique perspective on a lot of things and it challenges normal worldview. So it's good to just share it with people. I've got this [...] Tim is a joy to talk to. He thinks independently on all the AI issues of today, bringing new perspectives that challenge the status quo. At the same time, he’s sincere and very helpful to work with, working hard to uplift those around him and the academic community. There’s a reason he’s so loved in the open-source AI community. We cover:\\n\\nGeneral vibes in open-source,\\n\\nAgents, SWE-Bench, and using open models for tasks like this,\\n\\nHow to be a GPU poor academic and have huge impact,\", 'score': 0.7591723, 'raw_content': None}, {'url': 'https://timdettmers.com/about/', 'title': 'About Me - Tim Dettmers', 'content': 'Skip links\\n\\nTim Dettmers\\n\\nMaking deep learning accessible.\\n\\nHeader Right\\n\\nBlog Posts Topics\\n\\nMain navigation\\n\\nAbout Me\\n\\nResearch Interests Publications Awards & Honors Service\\n\\nGoogle Scholar\\n\\nfirstname.lastname@gmail.com\\n\\nI am a research scientist at the Allen Institute for Artificial Intelligence (Ai2) and an incoming Assistant Professor at Carnegie Mellon University (CMU). I am the creator and maintainer of bitsandbytes. [...] I have a PhD from University of Washington advised by Luke Zettlemoyer working on efficient deep learning at the intersection between machine learning, natural language processing, and computer systems with a focus on quantization and sparsity. My main research goal is to empower everyone to make AI their own. I do this by making large models accessible through my research (QLoRA, LLM.int8(), k-bit inference scaling laws, Petals, SWARM) and by developing software that makes it easy to use my [...] University while working as a software engineer in the automation industry.', 'score': 0.67037153, 'raw_content': None}, {'url': 'https://csd.cmu.edu/people/faculty/tim-dettmers', 'title': 'Tim Dettmers | Carnegie Mellon University Computer Science ...', 'content': 'Main navigation\\n\\nBack to Main Menu\\n\\nAbout\\n\\t\\t\\t\\t\\t\\t\\t\\t\\t\\t\\t\\t\\tMain page\\n\\nBack to Main Menu\\n\\nAdmissions\\n\\t\\t\\t\\t\\t\\t\\t\\t\\t\\t\\t\\t\\tMain page\\n\\nBack to Main Menu\\n\\nAcademics\\n\\t\\t\\t\\t\\t\\t\\t\\t\\t\\t\\t\\t\\tMain page\\n\\nBack to Main Menu\\n\\nPeople\\n\\t\\t\\t\\t\\t\\t\\t\\t\\t\\t\\t\\t\\tMain page\\n\\nBack to Main Menu\\n\\nResearch\\n\\t\\t\\t\\t\\t\\t\\t\\t\\t\\t\\t\\t\\tMain page\\n\\nBreadcrumb\\n\\nTim Dettmers\\n\\nAssistant Professor\\n\\nWebsite\\n\\nGoogle Scholars Link\\n\\nEmail\\n\\t\\t\\t\\t\\t\\n\\t\\t\\t\\t\\t\\n              dettmers@cmu.edu', 'score': 0.6580885, 'raw_content': None}], 'response_time': 3.0}), ToolMessage(content='Published: 2022-03-27\\nTitle: A General Survey on Attention Mechanisms in Deep Learning\\nAuthors: Gianni Brauwers, Flavius Frasincar\\nSummary: Attention is an important mechanism that can be employed for a variety of\\ndeep learning models across many different domains and tasks. This survey\\nprovides an overview of the most important attention mechanisms proposed in the\\nliterature. The various attention mechanisms are explained by means of a\\nframework consisting of a general attention model, uniform notation, and a\\ncomprehensive taxonomy of attention mechanisms. Furthermore, the various\\nmeasures for evaluating attention models are reviewed, and methods to\\ncharacterize the structure of attention models based on the proposed framework\\nare discussed. Last, future work in the field of attention models is\\nconsidered.\\n\\nPublished: 2022-07-04\\nTitle: Attention mechanisms for physiological signal deep learning: which attention should we take?\\nAuthors: Seong-A Park, Hyung-Chul Lee, Chul-Woo Jung, Hyun-Lim Yang\\nSummary: Attention mechanisms are widely used to dramatically improve deep learning\\nmodel performance in various fields. However, their general ability to improve\\nthe performance of physiological signal deep learning model is immature. In\\nthis study, we experimentally analyze four attention mechanisms (e.g.,\\nsqueeze-and-excitation, non-local, convolutional block attention module, and\\nmulti-head self-attention) and three convolutional neural network (CNN)\\narchitectures (e.g., VGG, ResNet, and Inception) for two representative\\nphysiological signal prediction tasks: the classification for predicting\\nhypotension and the regression for predicting cardiac output (CO). We evaluated\\nmultiple combinations for performance and convergence of physiological signal\\ndeep learning model. Accordingly, the CNN models with the spatial attention\\nmechanism showed the best performance in the classification problem, whereas\\nthe channel attention mechanism achieved the lowest error in the regression\\nproblem. Moreover, the performance and convergence of the CNN models with\\nattention mechanisms were better than stand-alone self-attention models in both\\nproblems. Hence, we verified that convolutional operation and attention\\nmechanisms are complementary and provide faster convergence time, despite the\\nstand-alone self-attention models requiring fewer parameters.\\n\\nPublished: 2018-10-17\\nTitle: An Analysis of Attention Mechanisms: The Case of Word Sense Disambiguation in Neural Machine Translation\\nAuthors: Gongbo Tang, Rico Sennrich, Joakim Nivre\\nSummary: Recent work has shown that the encoder-decoder attention mechanisms in neural\\nmachine translation (NMT) are different from the word alignment in statistical\\nmachine translation. In this paper, we focus on analyzing encoder-decoder\\nattention mechanisms, in the case of word sense disambiguation (WSD) in NMT\\nmodels. We hypothesize that attention mechanisms pay more attention to context\\ntokens when translating ambiguous words. We explore the attention distribution\\npatterns when translating ambiguous nouns. Counter-intuitively, we find that\\nattention mechanisms are likely to distribute more attention to the ambiguous\\nnoun itself rather than context tokens, in comparison to other nouns. We\\nconclude that attention mechanism is not the main mechanism used by NMT models\\nto incorporate contextual information for WSD. The experimental results suggest\\nthat NMT models learn to encode contextual information necessary for WSD in the\\nencoder hidden states. For the attention mechanism in Transformer models, we\\nreveal that the first few layers gradually learn to \"align\" source and target\\ntokens and the last few layers learn to extract features from the related but\\nunaligned context tokens.', name='arxiv', id='cd1464e8-88af-41b5-ab82-b4b20bd5fd91', tool_call_id='call_MKr6pbtGu9UYh23NOPryyL4f')]\n",
            "\n",
            "\n",
            "\n",
            "Receiving update from node: 'agent'\n",
            "[AIMessage(content='### LoRA in Machine Learning\\nLoRA, or Low-Rank Adaptation, is a method used for efficiently adapting large language models (LLMs) with minimal computational resources. It introduces auxiliary parameters for each layer to fine-tune pre-trained models, making it a popular parameter-efficient fine-tuning (PEFT) method. Recent advancements include KD-LoRA, which combines LoRA with knowledge distillation to reduce resource requirements while maintaining performance. LoRA-drop is another approach that prunes LoRA parameters based on output evaluation to further enhance efficiency.\\n\\n### Tim Dettmers\\nTim Dettmers is a prominent figure in the AI community, known for his work in making deep learning more accessible. He is an Assistant Professor at Carnegie Mellon University and a Research Scientist at the Allen Institute for AI. Dettmers has contributed significantly to the development of open-source tools for AI, particularly in the areas of quantization and efficient deep learning. His research focuses on making large models accessible and empowering individuals to utilize AI effectively.\\n\\n### Attention Mechanism in Machine Learning\\nAttention mechanisms are crucial in deep learning models, allowing them to focus on specific parts of the input data. They are widely used across various domains to improve model performance. Attention mechanisms can be categorized into different types, such as squeeze-and-excitation, non-local, convolutional block attention module, and multi-head self-attention. These mechanisms help models to better understand and process information by focusing on relevant parts of the input, leading to improved performance and faster convergence in tasks like neural machine translation and physiological signal prediction.', additional_kwargs={'refusal': None}, response_metadata={'token_usage': {'completion_tokens': 316, 'prompt_tokens': 2735, 'total_tokens': 3051, 'completion_tokens_details': {'accepted_prediction_tokens': 0, 'audio_tokens': 0, 'reasoning_tokens': 0, 'rejected_prediction_tokens': 0}, 'prompt_tokens_details': {'audio_tokens': 0, 'cached_tokens': 0}}, 'model_name': 'gpt-4o-2024-08-06', 'system_fingerprint': 'fp_a6889ffe71', 'finish_reason': 'stop', 'logprobs': None}, id='run-847aad61-c3ae-4a3c-880f-68f7d8eb8c1e-0', usage_metadata={'input_tokens': 2735, 'output_tokens': 316, 'total_tokens': 3051, 'input_token_details': {'audio': 0, 'cache_read': 0}, 'output_token_details': {'audio': 0, 'reasoning': 0}})]\n",
            "\n",
            "\n",
            "\n"
          ]
        }
      ],
      "source": [
        "inputs = {\"messages\" : [HumanMessage(content=\"Related to machine learning, what is LoRA? Also, who is Tim Dettmers? Also, what is Attention?\")]}\n",
        "\n",
        "async for chunk in agent_with_helpfulness_check.astream(inputs, stream_mode=\"updates\"):\n",
        "    for node, values in chunk.items():\n",
        "        print(f\"Receiving update from node: '{node}'\")\n",
        "        print(values[\"messages\"])\n",
        "        print(\"\\n\\n\")"
      ]
    },
    {
      "cell_type": "markdown",
      "metadata": {
        "id": "yVmZPs6lnpsM"
      },
      "source": [
        "### Task 4: LangGraph for the \"Patterns\" of GenAI\n",
        "\n",
        "Let's ask our system about the 4 patterns of Generative AI:\n",
        "\n",
        "1. Prompt Engineering\n",
        "2. RAG\n",
        "3. Fine-tuning\n",
        "4. Agents"
      ]
    },
    {
      "cell_type": "code",
      "execution_count": 44,
      "metadata": {
        "id": "ZoLl7GlXoae-"
      },
      "outputs": [],
      "source": [
        "patterns = [\"prompt engineering\", \"RAG\", \"fine-tuning\", \"LLM-based agents\"]"
      ]
    },
    {
      "cell_type": "code",
      "execution_count": 45,
      "metadata": {
        "colab": {
          "base_uri": "https://localhost:8080/"
        },
        "id": "Zkh0YJuCp3Zl",
        "outputId": "d847426e-71b3-47e6-b1ae-351a78d68d1e"
      },
      "outputs": [
        {
          "name": "stdout",
          "output_type": "stream",
          "text": [
            "**Prompt Engineering: Definition and Overview**\n",
            "\n",
            "Prompt engineering is the process of creating and refining prompts to improve the accuracy and effectiveness of generative AI models. It involves crafting specific instructions or prompts for AI models to follow, enabling them to generate desired outputs. This technique is crucial for optimizing the performance of large language models (LLMs) and generative AI tools, which can create text, images, video, and more. Prompt engineering is used to guide AI models in tasks such as content generation, translation, summarization, and more. It is an iterative process that may require repeated prompting to achieve the desired results. The field is rapidly expanding and is considered a critical skill in the age of AI, offering significant opportunities for innovation and efficiency in various industries.\n",
            "\n",
            "**History of Prompt Engineering**\n",
            "\n",
            "Prompt engineering has its roots in the early days of natural language processing (NLP) and has evolved alongside the development of AI systems. The release of GPT-3 by OpenAI in 2020 marked a significant milestone, showcasing the potential of large-scale pretrained models and highlighting the importance of crafting effective prompts to guide model behavior. The evolution of prompt engineering has been closely tied to advancements in AI, such as the introduction of attention mechanisms in 2015 and reinforcement learning techniques in 2017. These developments have significantly improved the fluency, relevance, and adaptability of language model outputs. Today, prompt engineering is a critical component of deploying AI systems across various applications, addressing ethical and usability concerns while harnessing the capabilities of large pretrained models.\n",
            "\n",
            "\n",
            "\n",
            "Retrieval-Augmented Generation (RAG) is a technology that combines retrieval techniques with generative models to enhance the capabilities of language models. It was introduced in a landmark paper in 2020, which marked its entry into the field of AI and machine learning. RAG has since been a catalyst for numerous scholarly articles and real-world implementations, allowing models to access up-to-date knowledge and improve the accuracy and contextual relevance of generated outputs.\n",
            "\n",
            "RAG systems have evolved over time, incorporating advanced retrievers and large language models (LLMs), and have been characterized by successive enhancements in both retrieval techniques and generative models. The introduction of RAG was a pivotal step towards creating more sophisticated AI systems capable of accessing and leveraging a broader range of external knowledge.\n",
            "\n",
            "For more detailed information, you can refer to the following resources:\n",
            "- [Slite on RAG](https://slite.com/learn/rag)\n",
            "- [Glean Blog on RAG](https://www.glean.com/blog/rag-retrieval-augmented-generation)\n",
            "- [Medium Article on RAG in 2024](https://medium.com/@infiniflowai/the-rise-and-evolution-of-rag-in-2024-a-year-in-review-9a0dbc9ea5c9)\n",
            "\n",
            "Additionally, recent academic papers have explored various aspects of RAG, such as modular frameworks and enhanced retrieval processes, further contributing to its development and application in knowledge-intensive tasks.\n",
            "\n",
            "\n",
            "\n",
            "Fine-tuning in machine learning is a process where a pretrained model is further trained on a smaller, targeted dataset to adapt it for more specialized tasks. This technique is part of transfer learning and involves making small adjustments to the model's parameters to improve its performance on specific tasks, often by modifying or adding certain layers while keeping most of the original model's structure intact. Fine-tuning allows the model to maintain its original capabilities while being tailored to new, specific use cases.\n",
            "\n",
            "The concept of fine-tuning has been around for some time, but it gained significant attention with the rise of deep learning and transfer learning techniques. It became particularly prominent with the development of large pretrained models like BERT and GPT, which demonstrated the effectiveness of fine-tuning for various natural language processing tasks.\n",
            "\n",
            "For more detailed historical insights, you can refer to resources like [TechTarget's article on fine-tuning](https://www.techtarget.com/searchenterpriseai/definition/fine-tuning) and [Dataversity's brief history of machine learning](https://www.dataversity.net/a-brief-history-of-machine-learning/). Additionally, academic papers such as those on [differentially-private fine-tuning](https://arxiv.org/abs/2402.029) and [reward-agnostic fine-tuning](https://arxiv.org/abs/2305.017) provide insights into the ongoing research and development in this area.\n",
            "\n",
            "\n",
            "\n",
            "LLM-based agents, or Large Language Model-based agents, are systems that utilize large language models to perform complex tasks by integrating modules like planning, memory, and tool usage. These agents act as the \"brain\" to control operations needed to complete tasks or user requests. They represent a significant advancement in AI, bridging the gap between reasoning and action, enabling systems to interact with their environment in real-time.\n",
            "\n",
            "The concept of LLM-based agents gained significant attention with the popularization of OpenAI's ChatGPT in 2022. Since then, various methods and techniques have been developed to enhance their utilization and address their limitations. These agents have evolved from basic text-based models to advanced reasoning agents capable of handling complex tasks beyond simple question-answering, such as digital automation and web interaction.\n",
            "\n",
            "\n",
            "\n"
          ]
        }
      ],
      "source": [
        "for pattern in patterns:\n",
        "  what_is_string = f\"What is {pattern} and when did it break onto the scene??\"\n",
        "  inputs = {\"messages\" : [HumanMessage(content=what_is_string)]}\n",
        "  messages = agent_with_helpfulness_check.invoke(inputs)\n",
        "  print(messages[\"messages\"][-1].content)\n",
        "  print(\"\\n\\n\")"
      ]
    }
  ],
  "metadata": {
    "colab": {
      "provenance": []
    },
    "kernelspec": {
      "display_name": ".venv",
      "language": "python",
      "name": "python3"
    },
    "language_info": {
      "codemirror_mode": {
        "name": "ipython",
        "version": 3
      },
      "file_extension": ".py",
      "mimetype": "text/x-python",
      "name": "python",
      "nbconvert_exporter": "python",
      "pygments_lexer": "ipython3",
      "version": "3.13.2"
    },
    "widgets": {
      "application/vnd.jupyter.widget-state+json": {
        "041e22a9b5514e36bd4d1dac01d5d398": {
          "model_module": "@jupyter-widgets/base",
          "model_module_version": "1.2.0",
          "model_name": "LayoutModel",
          "state": {
            "_model_module": "@jupyter-widgets/base",
            "_model_module_version": "1.2.0",
            "_model_name": "LayoutModel",
            "_view_count": null,
            "_view_module": "@jupyter-widgets/base",
            "_view_module_version": "1.2.0",
            "_view_name": "LayoutView",
            "align_content": null,
            "align_items": null,
            "align_self": null,
            "border": null,
            "bottom": null,
            "display": null,
            "flex": null,
            "flex_flow": null,
            "grid_area": null,
            "grid_auto_columns": null,
            "grid_auto_flow": null,
            "grid_auto_rows": null,
            "grid_column": null,
            "grid_gap": null,
            "grid_row": null,
            "grid_template_areas": null,
            "grid_template_columns": null,
            "grid_template_rows": null,
            "height": null,
            "justify_content": null,
            "justify_items": null,
            "left": null,
            "margin": null,
            "max_height": null,
            "max_width": null,
            "min_height": null,
            "min_width": null,
            "object_fit": null,
            "object_position": null,
            "order": null,
            "overflow": null,
            "overflow_x": null,
            "overflow_y": null,
            "padding": null,
            "right": null,
            "top": null,
            "visibility": null,
            "width": null
          }
        },
        "0d622ccc56264fac8fd7508dbdbe6e29": {
          "model_module": "@jupyter-widgets/controls",
          "model_module_version": "1.5.0",
          "model_name": "DescriptionStyleModel",
          "state": {
            "_model_module": "@jupyter-widgets/controls",
            "_model_module_version": "1.5.0",
            "_model_name": "DescriptionStyleModel",
            "_view_count": null,
            "_view_module": "@jupyter-widgets/base",
            "_view_module_version": "1.2.0",
            "_view_name": "StyleView",
            "description_width": ""
          }
        },
        "53e33aae3b97490c82aec7bbb0d6ebba": {
          "model_module": "@jupyter-widgets/controls",
          "model_module_version": "1.5.0",
          "model_name": "HTMLModel",
          "state": {
            "_dom_classes": [],
            "_model_module": "@jupyter-widgets/controls",
            "_model_module_version": "1.5.0",
            "_model_name": "HTMLModel",
            "_view_count": null,
            "_view_module": "@jupyter-widgets/controls",
            "_view_module_version": "1.5.0",
            "_view_name": "HTMLView",
            "description": "",
            "description_tooltip": null,
            "layout": "IPY_MODEL_041e22a9b5514e36bd4d1dac01d5d398",
            "placeholder": "​",
            "style": "IPY_MODEL_886d762f2a7c421382efb5502c6d42a1",
            "value": ""
          }
        },
        "716557ad09874dcb989d75f7c74424cd": {
          "model_module": "@jupyter-widgets/controls",
          "model_module_version": "1.5.0",
          "model_name": "ProgressStyleModel",
          "state": {
            "_model_module": "@jupyter-widgets/controls",
            "_model_module_version": "1.5.0",
            "_model_name": "ProgressStyleModel",
            "_view_count": null,
            "_view_module": "@jupyter-widgets/base",
            "_view_module_version": "1.2.0",
            "_view_name": "StyleView",
            "bar_color": null,
            "description_width": ""
          }
        },
        "72adef9b70dd48198b7322b6c5b113cf": {
          "model_module": "@jupyter-widgets/controls",
          "model_module_version": "1.5.0",
          "model_name": "HTMLModel",
          "state": {
            "_dom_classes": [],
            "_model_module": "@jupyter-widgets/controls",
            "_model_module_version": "1.5.0",
            "_model_name": "HTMLModel",
            "_view_count": null,
            "_view_module": "@jupyter-widgets/controls",
            "_view_module_version": "1.5.0",
            "_view_name": "HTMLView",
            "description": "",
            "description_tooltip": null,
            "layout": "IPY_MODEL_77d4c0ebaae045b58efc4f789c9a2360",
            "placeholder": "​",
            "style": "IPY_MODEL_0d622ccc56264fac8fd7508dbdbe6e29",
            "value": " 6/? [00:36&lt;00:00,  5.78s/it]"
          }
        },
        "77d4c0ebaae045b58efc4f789c9a2360": {
          "model_module": "@jupyter-widgets/base",
          "model_module_version": "1.2.0",
          "model_name": "LayoutModel",
          "state": {
            "_model_module": "@jupyter-widgets/base",
            "_model_module_version": "1.2.0",
            "_model_name": "LayoutModel",
            "_view_count": null,
            "_view_module": "@jupyter-widgets/base",
            "_view_module_version": "1.2.0",
            "_view_name": "LayoutView",
            "align_content": null,
            "align_items": null,
            "align_self": null,
            "border": null,
            "bottom": null,
            "display": null,
            "flex": null,
            "flex_flow": null,
            "grid_area": null,
            "grid_auto_columns": null,
            "grid_auto_flow": null,
            "grid_auto_rows": null,
            "grid_column": null,
            "grid_gap": null,
            "grid_row": null,
            "grid_template_areas": null,
            "grid_template_columns": null,
            "grid_template_rows": null,
            "height": null,
            "justify_content": null,
            "justify_items": null,
            "left": null,
            "margin": null,
            "max_height": null,
            "max_width": null,
            "min_height": null,
            "min_width": null,
            "object_fit": null,
            "object_position": null,
            "order": null,
            "overflow": null,
            "overflow_x": null,
            "overflow_y": null,
            "padding": null,
            "right": null,
            "top": null,
            "visibility": null,
            "width": null
          }
        },
        "886d762f2a7c421382efb5502c6d42a1": {
          "model_module": "@jupyter-widgets/controls",
          "model_module_version": "1.5.0",
          "model_name": "DescriptionStyleModel",
          "state": {
            "_model_module": "@jupyter-widgets/controls",
            "_model_module_version": "1.5.0",
            "_model_name": "DescriptionStyleModel",
            "_view_count": null,
            "_view_module": "@jupyter-widgets/base",
            "_view_module_version": "1.2.0",
            "_view_name": "StyleView",
            "description_width": ""
          }
        },
        "8a61d045ffd44ac58f3f13eb10044836": {
          "model_module": "@jupyter-widgets/base",
          "model_module_version": "1.2.0",
          "model_name": "LayoutModel",
          "state": {
            "_model_module": "@jupyter-widgets/base",
            "_model_module_version": "1.2.0",
            "_model_name": "LayoutModel",
            "_view_count": null,
            "_view_module": "@jupyter-widgets/base",
            "_view_module_version": "1.2.0",
            "_view_name": "LayoutView",
            "align_content": null,
            "align_items": null,
            "align_self": null,
            "border": null,
            "bottom": null,
            "display": null,
            "flex": null,
            "flex_flow": null,
            "grid_area": null,
            "grid_auto_columns": null,
            "grid_auto_flow": null,
            "grid_auto_rows": null,
            "grid_column": null,
            "grid_gap": null,
            "grid_row": null,
            "grid_template_areas": null,
            "grid_template_columns": null,
            "grid_template_rows": null,
            "height": null,
            "justify_content": null,
            "justify_items": null,
            "left": null,
            "margin": null,
            "max_height": null,
            "max_width": null,
            "min_height": null,
            "min_width": null,
            "object_fit": null,
            "object_position": null,
            "order": null,
            "overflow": null,
            "overflow_x": null,
            "overflow_y": null,
            "padding": null,
            "right": null,
            "top": null,
            "visibility": null,
            "width": null
          }
        },
        "ab91fd625bbd43afbf8c6398193a88d0": {
          "model_module": "@jupyter-widgets/base",
          "model_module_version": "1.2.0",
          "model_name": "LayoutModel",
          "state": {
            "_model_module": "@jupyter-widgets/base",
            "_model_module_version": "1.2.0",
            "_model_name": "LayoutModel",
            "_view_count": null,
            "_view_module": "@jupyter-widgets/base",
            "_view_module_version": "1.2.0",
            "_view_name": "LayoutView",
            "align_content": null,
            "align_items": null,
            "align_self": null,
            "border": null,
            "bottom": null,
            "display": null,
            "flex": null,
            "flex_flow": null,
            "grid_area": null,
            "grid_auto_columns": null,
            "grid_auto_flow": null,
            "grid_auto_rows": null,
            "grid_column": null,
            "grid_gap": null,
            "grid_row": null,
            "grid_template_areas": null,
            "grid_template_columns": null,
            "grid_template_rows": null,
            "height": null,
            "justify_content": null,
            "justify_items": null,
            "left": null,
            "margin": null,
            "max_height": null,
            "max_width": null,
            "min_height": null,
            "min_width": null,
            "object_fit": null,
            "object_position": null,
            "order": null,
            "overflow": null,
            "overflow_x": null,
            "overflow_y": null,
            "padding": null,
            "right": null,
            "top": null,
            "visibility": null,
            "width": "20px"
          }
        },
        "ad84e0e971d3455db2efe7dd0d1f803e": {
          "model_module": "@jupyter-widgets/controls",
          "model_module_version": "1.5.0",
          "model_name": "FloatProgressModel",
          "state": {
            "_dom_classes": [],
            "_model_module": "@jupyter-widgets/controls",
            "_model_module_version": "1.5.0",
            "_model_name": "FloatProgressModel",
            "_view_count": null,
            "_view_module": "@jupyter-widgets/controls",
            "_view_module_version": "1.5.0",
            "_view_name": "ProgressView",
            "bar_style": "success",
            "description": "",
            "description_tooltip": null,
            "layout": "IPY_MODEL_ab91fd625bbd43afbf8c6398193a88d0",
            "max": 1,
            "min": 0,
            "orientation": "horizontal",
            "style": "IPY_MODEL_716557ad09874dcb989d75f7c74424cd",
            "value": 1
          }
        },
        "efcf57067cf743d8b4ce059a61cbe02e": {
          "model_module": "@jupyter-widgets/controls",
          "model_module_version": "1.5.0",
          "model_name": "HBoxModel",
          "state": {
            "_dom_classes": [],
            "_model_module": "@jupyter-widgets/controls",
            "_model_module_version": "1.5.0",
            "_model_name": "HBoxModel",
            "_view_count": null,
            "_view_module": "@jupyter-widgets/controls",
            "_view_module_version": "1.5.0",
            "_view_name": "HBoxView",
            "box_style": "",
            "children": [
              "IPY_MODEL_53e33aae3b97490c82aec7bbb0d6ebba",
              "IPY_MODEL_ad84e0e971d3455db2efe7dd0d1f803e",
              "IPY_MODEL_72adef9b70dd48198b7322b6c5b113cf"
            ],
            "layout": "IPY_MODEL_8a61d045ffd44ac58f3f13eb10044836"
          }
        }
      }
    }
  },
  "nbformat": 4,
  "nbformat_minor": 0
}
