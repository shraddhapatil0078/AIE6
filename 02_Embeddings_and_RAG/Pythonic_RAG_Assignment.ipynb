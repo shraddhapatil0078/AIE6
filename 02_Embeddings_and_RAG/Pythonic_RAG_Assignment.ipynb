{
  "cells": [
    {
      "cell_type": "markdown",
      "metadata": {
        "id": "lElF3o5PR6ys"
      },
      "source": [
        "# Your First RAG Application\n",
        "\n",
        "In this notebook, we'll walk you through each of the components that are involved in a simple RAG application.\n",
        "\n",
        "We won't be leveraging any fancy tools, just the OpenAI Python SDK, Numpy, and some classic Python.\n",
        "\n",
        "> NOTE: This was done with Python 3.11.4.\n",
        "\n",
        "> NOTE: There might be [compatibility issues](https://github.com/wandb/wandb/issues/7683) if you're on NVIDIA driver >552.44 As an interim solution - you can rollback your drivers to the 552.44."
      ]
    },
    {
      "cell_type": "markdown",
      "metadata": {
        "id": "5CtcL8P8R6yt"
      },
      "source": [
        "## Table of Contents:\n",
        "\n",
        "- Task 1: Imports and Utilities\n",
        "- Task 2: Documents\n",
        "- Task 3: Embeddings and Vectors\n",
        "- Task 4: Prompts\n",
        "- Task 5: Retrieval Augmented Generation\n",
        "  - 🚧 Activity #1: Augment RAG"
      ]
    },
    {
      "cell_type": "markdown",
      "metadata": {
        "id": "1Dz6GYilR6yt"
      },
      "source": [
        "Let's look at a rather complicated looking visual representation of a basic RAG application.\n",
        "\n",
        "<img src=\"https://i.imgur.com/vD8b016.png\" />"
      ]
    },
    {
      "cell_type": "markdown",
      "metadata": {
        "id": "PjmC0KFtR6yt"
      },
      "source": [
        "## Task 1: Imports and Utility\n",
        "\n",
        "We're just doing some imports and enabling `async` to work within the Jupyter environment here, nothing too crazy!"
      ]
    },
    {
      "cell_type": "code",
      "execution_count": 1,
      "metadata": {
        "id": "Z1dyrG4hR6yt"
      },
      "outputs": [],
      "source": [
        "from aimakerspace.text_utils import TextFileLoader, CharacterTextSplitter\n",
        "from aimakerspace.vectordatabase import VectorDatabase\n",
        "import asyncio"
      ]
    },
    {
      "cell_type": "code",
      "execution_count": 2,
      "metadata": {
        "id": "9OrFZRnER6yt"
      },
      "outputs": [],
      "source": [
        "import nest_asyncio\n",
        "nest_asyncio.apply()"
      ]
    },
    {
      "cell_type": "markdown",
      "metadata": {
        "id": "M0jGnpQsR6yu"
      },
      "source": [
        "## Task 2: Documents\n",
        "\n",
        "We'll be concerning ourselves with this part of the flow in the following section:\n",
        "\n",
        "<img src=\"https://i.imgur.com/jTm9gjk.png\" />"
      ]
    },
    {
      "cell_type": "markdown",
      "metadata": {
        "id": "-SFPWvRUR6yu"
      },
      "source": [
        "### Loading Source Documents\n",
        "\n",
        "So, first things first, we need some documents to work with.\n",
        "\n",
        "While we could work directly with the `.txt` files (or whatever file-types you wanted to extend this to) we can instead do some batch processing of those documents at the beginning in order to store them in a more machine compatible format.\n",
        "\n",
        "In this case, we're going to parse our text file into a single document in memory.\n",
        "\n",
        "Let's look at the relevant bits of the `TextFileLoader` class:\n",
        "\n",
        "```python\n",
        "def load_file(self):\n",
        "        with open(self.path, \"r\", encoding=self.encoding) as f:\n",
        "            self.documents.append(f.read())\n",
        "```\n",
        "\n",
        "We're simply loading the document using the built in `open` method, and storing that output in our `self.documents` list.\n",
        "\n",
        "> NOTE: We're using blogs from PMarca (Marc Andreessen) as our sample data. This data is largely irrelevant as we want to focus on the mechanisms of RAG, which includes out data's shape and quality - but not specifically what the contents of the data are. \n"
      ]
    },
    {
      "cell_type": "code",
      "execution_count": 3,
      "metadata": {
        "colab": {
          "base_uri": "https://localhost:8080/"
        },
        "id": "Ia2sUEuGR6yu",
        "outputId": "84937ecc-c35f-4c4a-a4ab-9da72625954c"
      },
      "outputs": [
        {
          "data": {
            "text/plain": [
              "1"
            ]
          },
          "execution_count": 3,
          "metadata": {},
          "output_type": "execute_result"
        }
      ],
      "source": [
        "#text_loader = TextFileLoader(\"data/PMarcaBlogs.txt\")\n",
        "#documents = text_loader.load_documents()\n",
        "pdf_loader = TextFileLoader(\"data/budget_speech.pdf\")\n",
        "documents = pdf_loader.load_documents()\n",
        "len(documents)"
      ]
    },
    {
      "cell_type": "code",
      "execution_count": 4,
      "metadata": {
        "colab": {
          "base_uri": "https://localhost:8080/"
        },
        "id": "bV-tj5WFR6yu",
        "outputId": "674eb315-1ff3-4597-bcf5-38ece0a812ac"
      },
      "outputs": [
        {
          "name": "stdout",
          "output_type": "stream",
          "text": [
            "GOVERNMENT OF INDIA\n",
            "BUDGET 2025-2026\n",
            "SPEECH\n",
            "OF\n",
            "NIRMALA SITHARAMAN\n",
            "MINISTER OF FINANCE\n",
            "February 1,  2\n"
          ]
        }
      ],
      "source": [
        "print(documents[0][:100])"
      ]
    },
    {
      "cell_type": "markdown",
      "metadata": {
        "id": "nHlTvCzYR6yu"
      },
      "source": [
        "### Splitting Text Into Chunks\n",
        "\n",
        "As we can see, there is one massive document.\n",
        "\n",
        "We'll want to chunk the document into smaller parts so it's easier to pass the most relevant snippets to the LLM.\n",
        "\n",
        "There is no fixed way to split/chunk documents - and you'll need to rely on some intuition as well as knowing your data *very* well in order to build the most robust system.\n",
        "\n",
        "For this toy example, we'll just split blindly on length.\n",
        "\n",
        ">There's an opportunity to clear up some terminology here, for this course we will be stick to the following:\n",
        ">\n",
        ">- \"source documents\" : The `.txt`, `.pdf`, `.html`, ..., files that make up the files and information we start with in its raw format\n",
        ">- \"document(s)\" : single (or more) text object(s)\n",
        ">- \"corpus\" : the combination of all of our documents"
      ]
    },
    {
      "cell_type": "markdown",
      "metadata": {
        "id": "2G6Voc0jR6yv"
      },
      "source": [
        "As you can imagine (though it's not specifically true in this toy example) the idea of splitting documents is to break them into managable sized chunks that retain the most relevant local context."
      ]
    },
    {
      "cell_type": "code",
      "execution_count": 5,
      "metadata": {
        "colab": {
          "base_uri": "https://localhost:8080/"
        },
        "id": "UMC4tsEmR6yv",
        "outputId": "08689c0b-57cd-4040-942a-8193e997f5cb"
      },
      "outputs": [
        {
          "data": {
            "text/plain": [
              "117"
            ]
          },
          "execution_count": 5,
          "metadata": {},
          "output_type": "execute_result"
        }
      ],
      "source": [
        "text_splitter = CharacterTextSplitter()\n",
        "split_documents = text_splitter.split_texts(documents)\n",
        "len(split_documents)"
      ]
    },
    {
      "cell_type": "markdown",
      "metadata": {
        "id": "W2wKT0WLR6yv"
      },
      "source": [
        "Let's take a look at some of the documents we've managed to split."
      ]
    },
    {
      "cell_type": "code",
      "execution_count": 6,
      "metadata": {
        "colab": {
          "base_uri": "https://localhost:8080/"
        },
        "id": "vcYMwWJoR6yv",
        "outputId": "20d69876-feca-4826-b4be-32915276987a"
      },
      "outputs": [
        {
          "data": {
            "text/plain": [
              "['GOVERNMENT OF INDIA\\nBUDGET 2025-2026\\nSPEECH\\nOF\\nNIRMALA SITHARAMAN\\nMINISTER OF FINANCE\\nFebruary 1,  2025 \\nCONTENTS  \\n \\nPART – A \\n Page No.  \\nIntroduction  1 \\nBudget Theme  1 \\nAgriculture as the 1st engine  3 \\nMSMEs as the 2nd engine  6 \\nInvestment as the 3rd engine  8 \\nA. Investing in People  8 \\nB. Investing in  the Economy  10 \\nC. Investing in Innovation  14 \\nExports as the 4th engine  15 \\nReforms as the Fuel  16 \\nFiscal Policy  18 \\n \\n \\nPART – B \\nIndirect taxes  20 \\nDirect Taxes   23 \\n \\nAnnexure to Part -A 29 \\nAnnexure to Part -B 31 \\n \\n   \\n \\nBudget 202 5-2026 \\n \\nSpeech of  \\nNirmala Sitharaman  \\nMinister of Finance  \\nFebruary 1 , 202 5 \\nHon’ble Speaker,  \\n I present the Budget for 2025 -26. \\nIntroduction  \\n1. This Budget continues our Government ’s efforts to:  \\na) accelerate growth,  \\nb) secure inclusive development,  \\nc) invigorate private sector investments,  \\nd) uplift household sentiments, and \\ne) enhance spending power of India’s rising middle class.  \\n2. Together, we embark on a ']"
            ]
          },
          "execution_count": 6,
          "metadata": {},
          "output_type": "execute_result"
        }
      ],
      "source": [
        "split_documents[0:1]"
      ]
    },
    {
      "cell_type": "markdown",
      "metadata": {
        "id": "HOU-RFP_R6yv"
      },
      "source": [
        "## Task 3: Embeddings and Vectors\n",
        "\n",
        "Next, we have to convert our corpus into a \"machine readable\" format as we explored in the Embedding Primer notebook.\n",
        "\n",
        "Today, we're going to talk about the actual process of creating, and then storing, these embeddings, and how we can leverage that to intelligently add context to our queries."
      ]
    },
    {
      "cell_type": "markdown",
      "metadata": {},
      "source": [
        "### OpenAI API Key\n",
        "\n",
        "In order to access OpenAI's APIs, we'll need to provide our OpenAI API Key!\n",
        "\n",
        "You can work through the folder \"OpenAI API Key Setup\" for more information on this process if you don't already have an API Key!"
      ]
    },
    {
      "cell_type": "code",
      "execution_count": 7,
      "metadata": {},
      "outputs": [],
      "source": [
        "import os\n",
        "import openai\n",
        "from getpass import getpass\n",
        "\n",
        "openai.api_key = getpass(\"OpenAI API Key: \")\n",
        "os.environ[\"OPENAI_API_KEY\"] = openai.api_key"
      ]
    },
    {
      "cell_type": "markdown",
      "metadata": {},
      "source": [
        "### Vector Database\n",
        "\n",
        "Let's set up our vector database to hold all our documents and their embeddings!"
      ]
    },
    {
      "cell_type": "markdown",
      "metadata": {
        "id": "kDQrfAR1R6yv"
      },
      "source": [
        "While this is all baked into 1 call - we can look at some of the code that powers this process to get a better understanding:\n",
        "\n",
        "Let's look at our `VectorDatabase().__init__()`:\n",
        "\n",
        "```python\n",
        "def __init__(self, embedding_model: EmbeddingModel = None):\n",
        "        self.vectors = defaultdict(np.array)\n",
        "        self.embedding_model = embedding_model or EmbeddingModel()\n",
        "```\n",
        "\n",
        "As you can see - our vectors are merely stored as a dictionary of `np.array` objects.\n",
        "\n",
        "Secondly, our `VectorDatabase()` has a default `EmbeddingModel()` which is a wrapper for OpenAI's `text-embedding-3-small` model.\n",
        "\n",
        "> **Quick Info About `text-embedding-3-small`**:\n",
        "> - It has a context window of **8191** tokens\n",
        "> - It returns vectors with dimension **1536**"
      ]
    },
    {
      "cell_type": "markdown",
      "metadata": {
        "id": "L273pRdeR6yv"
      },
      "source": [
        "#### ❓Question #1:\n",
        "\n",
        "The default embedding dimension of `text-embedding-3-small` is 1536, as noted above. \n",
        "\n",
        "1. Is there any way to modify this dimension?  \n",
        "2. What technique does OpenAI use to achieve this?  \n",
        "\n",
        "\n",
        "> NOTE: Check out this [API documentation](https://platform.openai.com/docs/api-reference/embeddings/create) for the answer to question #1, and [this documentation](https://platform.openai.com/docs/guides/embeddings/use-cases) for an answer to question #2!"
      ]
    },
    {
      "cell_type": "markdown",
      "metadata": {},
      "source": [
        "**Q. 1 Is there any way to modify this dimentions?**  \n",
        "*Ans:* Yes, By default, the length of the embedding vector is 1536 for'text-embedding-3-small' model. OpenAI allows you to request a custom embedding dimension using the *dimensions* parameter when making API calls. You can specify any integer value between 1 and 1536 (the default maximum dimension). \n",
        " \n",
        "{  \n",
        "  \"input\": \"Your text here\",  \n",
        "  \"model\": \"text-embedding-3-small\",  \n",
        "  \"dimensions\": 256  // Or any value between 1-1536  \n",
        "}  \n",
        "\n",
        "Note: Dimension parameter only supported in 'text-embedding-3' and later models\n",
        "\n",
        "\n",
        "**2. What technique does OpenAI use to achieve this?**  \n",
        "*Ans:* OpenAI achieves dimension reduction using a technique called \"matrix projection.\" The full model produces the complete 1536-dimension embedding, but when a smaller dimension is requested, it applies a linear transformation (essentially multiplying by a projection matrix) to map the full embedding down to the requested size while preserving as much of the semantic information as possible.  \n",
        "\n",
        "This approach is more sophisticated than simple truncation, as it preserves more of the embedding's semantic properties across the reduced dimensions. The projection matrices are carefully designed during training to maintain the quality of the embeddings even at reduced dimensions.  "
      ]
    },
    {
      "cell_type": "markdown",
      "metadata": {
        "id": "w5FZY7K3R6yv"
      },
      "source": [
        "We can call the `async_get_embeddings` method of our `EmbeddingModel()` on a list of `str` and receive a list of `float` back!\n",
        "\n",
        "```python\n",
        "async def async_get_embeddings(self, list_of_text: List[str]) -> List[List[float]]:\n",
        "        return await aget_embeddings(\n",
        "            list_of_text=list_of_text, engine=self.embeddings_model_name\n",
        "        )\n",
        "```"
      ]
    },
    {
      "cell_type": "markdown",
      "metadata": {
        "id": "cSct6X0aR6yv"
      },
      "source": [
        "We cast those to `np.array` when we build our `VectorDatabase()`:\n",
        "\n",
        "```python\n",
        "async def abuild_from_list(self, list_of_text: List[str]) -> \"VectorDatabase\":\n",
        "        embeddings = await self.embedding_model.async_get_embeddings(list_of_text)\n",
        "        for text, embedding in zip(list_of_text, embeddings):\n",
        "            self.insert(text, np.array(embedding))\n",
        "        return self\n",
        "```\n",
        "\n",
        "And that's all we need to do!"
      ]
    },
    {
      "cell_type": "code",
      "execution_count": 8,
      "metadata": {
        "id": "O4KoLbVDR6yv"
      },
      "outputs": [],
      "source": [
        "vector_db = VectorDatabase()\n",
        "vector_db = asyncio.run(vector_db.abuild_from_list(split_documents))"
      ]
    },
    {
      "cell_type": "markdown",
      "metadata": {
        "id": "SSZwaGvpR6yv"
      },
      "source": [
        "#### ❓Question #2:\n",
        "\n",
        "What are the benefits of using an `async` approach to collecting our embeddings?\n",
        "\n",
        "> NOTE: Determining the core difference between `async` and `sync` will be useful! If you get stuck - ask ChatGPT!"
      ]
    },
    {
      "cell_type": "markdown",
      "metadata": {},
      "source": [
        "**Q.2 What are the benefits of using an `async` approach to collecting our embeddings?**  \n",
        "**Ans:**    \n",
        "\n",
        "***Synchronous (Sync):*** Executes operations one after another. When one task starts, your program waits for it to complete before moving to the next task. This creates a sequential, blocking pattern.  \n",
        "***Asynchronous (Async):*** Allows multiple operations to progress in parallel. When a task would normally cause waiting (like an API call), your program can \"pause\" that task and work on something else, returning to the first task when it's ready.  \n",
        "\n",
        "**Benifits** \n",
        "- Can process multiple embeddings requests concurrently. As we are embedding a list of texts, async lets you call the embedding function on all of them in parallel, rather than waiting for each one to finish one-by-one.\n",
        "- Reduce wait time, instead of blocking while waiting for API response, code can perform other tasks.\n",
        "- Efficient resource usage, while waiting for embedding responses, CPU isn't idle, it can process other parts of code\n",
        "- Better Scalability - As your dataset grows, async becomes increasingly beneficial. Processing 1,000 texts synchronously could take minutes, while async might complete in seconds."
      ]
    },
    {
      "cell_type": "markdown",
      "metadata": {
        "id": "nRBdIt-xR6yw"
      },
      "source": [
        "So, to review what we've done so far in natural language:\n",
        "\n",
        "1. We load source documents\n",
        "2. We split those source documents into smaller chunks (documents)\n",
        "3. We send each of those documents to the `text-embedding-3-small` OpenAI API endpoint\n",
        "4. We store each of the text representations with the vector representations as keys/values in a dictionary"
      ]
    },
    {
      "cell_type": "markdown",
      "metadata": {
        "id": "4-vWANZyR6yw"
      },
      "source": [
        "### Semantic Similarity\n",
        "\n",
        "The next step is to be able to query our `VectorDatabase()` with a `str` and have it return to us vectors and text that is most relevant from our corpus.\n",
        "\n",
        "We're going to use the following process to achieve this in our toy example:\n",
        "\n",
        "1. We need to embed our query with the same `EmbeddingModel()` as we used to construct our `VectorDatabase()`\n",
        "2. We loop through every vector in our `VectorDatabase()` and use a distance measure to compare how related they are\n",
        "3. We return a list of the top `k` closest vectors, with their text representations\n",
        "\n",
        "There's some very heavy optimization that can be done at each of these steps - but let's just focus on the basic pattern in this notebook.\n",
        "\n",
        "> We are using [cosine similarity](https://www.engati.com/glossary/cosine-similarity) as a distance metric in this example - but there are many many distance metrics you could use - like [these](https://flavien-vidal.medium.com/similarity-distances-for-natural-language-processing-16f63cd5ba55)\n",
        "\n",
        "> We are using a rather inefficient way of calculating relative distance between the query vector and all other vectors - there are more advanced approaches that are much more efficient, like [ANN](https://towardsdatascience.com/comprehensive-guide-to-approximate-nearest-neighbors-algorithms-8b94f057d6b6)"
      ]
    },
    {
      "cell_type": "code",
      "execution_count": 17,
      "metadata": {
        "colab": {
          "base_uri": "https://localhost:8080/"
        },
        "id": "76d96uavR6yw",
        "outputId": "bbfccc31-20a2-41c7-c14d-46554a43ed2d"
      },
      "outputs": [
        {
          "data": {
            "text/plain": [
              "[(' and build our ecosystem for solar PV cells, EV batteries, motors \\nand controllers, electrolyzers, wind turbines, very high voltage transmission \\nequipment and grid scale batteries.   \\nInvestment as the 3rd engine  \\n39. Now, I move to Investment as the 3rd engine, which encompasses \\ninvesting in people, investing in the economy and investing in innovation.  \\nA. Investing in People  \\nSaksham Anganwadi and Poshan 2.0  \\n40. The Saksham Anganwadi and Poshan 2.0 programme provides \\nnutritional support to more than 8 crore children, 1 crore pregnant women and \\nlactating mothers all over the country, and about 20 lakh adolescent girls in \\naspirational districts and the north -east re gion. The cost norms for the \\nnutritional support will be enhanced appropriately.  \\nAtal Tinkering Labs  \\n41. Fifty thousand Atal Tinkering Labs will be set up in Government  schools \\nin next 5 years to cultivate the spirit of curiosity and innovation, and foster a \\nscientific temper among young minds.  \\nBroadban',\n",
              "  np.float64(0.5245948919983173)),\n",
              " ('ng urban poor and \\nvulnerable groups. A scheme for socio -economic upliftment of urban workers \\nwill be implemented to help them improve their incomes, have sustainable \\nlivelihoods and a better quality of life.    \\nPM SVANidhi  \\n50. PM SVANidhi scheme has benefitted more than 68 lakh street vendors \\ngiving them respite from high -interest informal sector loans. Building on this \\nsuccess, the scheme will be revamped with enhanced loans from banks, UPI \\nlinked credit cards with ` 30,000 limit, and capacity building support.  \\nSocial Security Scheme for Welfare of Online Platform Workers  \\n51. Gig workers of online platforms provide great dynamism to the new -\\nage services economy.  Recognising their contribution, our Government  will \\narrange for their identity cards and registration on the e -Shram portal. They \\nwill be provided healthcare under PM Jan Arogya Yojana. This measure is likely \\nto assist nearly 1 crore gig -workers.   \\nB. Investing in the Economy  \\nPublic Private Partnersh',\n",
              "  np.float64(0.4574042529325608)),\n",
              " ('lass families who were \\npaying EMIs on loans taken for apartments, while also paying rent for their \\ncurrent dwellings.  \\n73. Building on this success, SWAMIH Fund 2 will be established as a \\nblended finance facility with contribution from the Government , banks and \\nprivate investors. This fund of ` 15,000 crore will aim for expeditious \\ncompletion of another 1 lakh units.    \\nPM Gati Shakti Data for Private Sector  \\n74. For furthering PPPs and assisting the private sector in project planning, \\naccess to relevant data and maps from the PM Gati Shakti portal will be \\nprovided.        \\nTourism for employment -led growth  \\n75. Top 50 tourist destination sites in the country will be developed in \\npartnership with states through a challenge mode. Land for building key \\ninfrastructure will have to be provided by states. Hotels in those destinations \\nwill be included in the infrastruct ure HML.   \\n76. The following measures will be taken for facilitating employment -led \\ngrowth:  \\n1) Organiz',\n",
              "  np.float64(0.42738943289852244))]"
            ]
          },
          "execution_count": 17,
          "metadata": {},
          "output_type": "execute_result"
        }
      ],
      "source": [
        "#vector_db.search_by_text(\"What is the 'Michael Eisner Memorial Weak Executive Problem'?\", k=3)\n",
        "vector_db.search_by_text(\"Saksham Anganwadi and Poshan 2.0\", k=3)"
      ]
    },
    {
      "cell_type": "markdown",
      "metadata": {
        "id": "TehsfIiKR6yw"
      },
      "source": [
        "## Task 4: Prompts\n",
        "\n",
        "In the following section, we'll be looking at the role of prompts - and how they help us to guide our application in the right direction.\n",
        "\n",
        "In this notebook, we're going to rely on the idea of \"zero-shot in-context learning\".\n",
        "\n",
        "This is a lot of words to say: \"We will ask it to perform our desired task in the prompt, and provide no examples.\""
      ]
    },
    {
      "cell_type": "markdown",
      "metadata": {
        "id": "yXpA0UveR6yw"
      },
      "source": [
        "### XYZRolePrompt\n",
        "\n",
        "Before we do that, let's stop and think a bit about how OpenAI's chat models work.\n",
        "\n",
        "We know they have roles - as is indicated in the following API [documentation](https://platform.openai.com/docs/api-reference/chat/create#chat/create-messages)\n",
        "\n",
        "There are three roles, and they function as follows (taken directly from [OpenAI](https://platform.openai.com/docs/guides/gpt/chat-completions-api)):\n",
        "\n",
        "- `{\"role\" : \"system\"}` : The system message helps set the behavior of the assistant. For example, you can modify the personality of the assistant or provide specific instructions about how it should behave throughout the conversation. However note that the system message is optional and the model’s behavior without a system message is likely to be similar to using a generic message such as \"You are a helpful assistant.\"\n",
        "- `{\"role\" : \"user\"}` : The user messages provide requests or comments for the assistant to respond to.\n",
        "- `{\"role\" : \"assistant\"}` : Assistant messages store previous assistant responses, but can also be written by you to give examples of desired behavior.\n",
        "\n",
        "The main idea is this:\n",
        "\n",
        "1. You start with a system message that outlines how the LLM should respond, what kind of behaviours you can expect from it, and more\n",
        "2. Then, you can provide a few examples in the form of \"assistant\"/\"user\" pairs\n",
        "3. Then, you prompt the model with the true \"user\" message.\n",
        "\n",
        "In this example, we'll be forgoing the 2nd step for simplicities sake."
      ]
    },
    {
      "cell_type": "markdown",
      "metadata": {
        "id": "gdZ2KWKSR6yw"
      },
      "source": [
        "#### Utility Functions\n",
        "\n",
        "You'll notice that we're using some utility functions from the `aimakerspace` module - let's take a peek at these and see what they're doing!"
      ]
    },
    {
      "cell_type": "markdown",
      "metadata": {
        "id": "GFbeJDDsR6yw"
      },
      "source": [
        "##### XYZRolePrompt"
      ]
    },
    {
      "cell_type": "markdown",
      "metadata": {
        "id": "5mojJSE3R6yw"
      },
      "source": [
        "Here we have our `system`, `user`, and `assistant` role prompts.\n",
        "\n",
        "Let's take a peek at what they look like:\n",
        "\n",
        "```python\n",
        "class BasePrompt:\n",
        "    def __init__(self, prompt):\n",
        "        \"\"\"\n",
        "        Initializes the BasePrompt object with a prompt template.\n",
        "\n",
        "        :param prompt: A string that can contain placeholders within curly braces\n",
        "        \"\"\"\n",
        "        self.prompt = prompt\n",
        "        self._pattern = re.compile(r\"\\{([^}]+)\\}\")\n",
        "\n",
        "    def format_prompt(self, **kwargs):\n",
        "        \"\"\"\n",
        "        Formats the prompt string using the keyword arguments provided.\n",
        "\n",
        "        :param kwargs: The values to substitute into the prompt string\n",
        "        :return: The formatted prompt string\n",
        "        \"\"\"\n",
        "        matches = self._pattern.findall(self.prompt)\n",
        "        return self.prompt.format(**{match: kwargs.get(match, \"\") for match in matches})\n",
        "\n",
        "    def get_input_variables(self):\n",
        "        \"\"\"\n",
        "        Gets the list of input variable names from the prompt string.\n",
        "\n",
        "        :return: List of input variable names\n",
        "        \"\"\"\n",
        "        return self._pattern.findall(self.prompt)\n",
        "```\n",
        "\n",
        "Then we have our `RolePrompt` which laser focuses us on the role pattern found in most API endpoints for LLMs.\n",
        "\n",
        "```python\n",
        "class RolePrompt(BasePrompt):\n",
        "    def __init__(self, prompt, role: str):\n",
        "        \"\"\"\n",
        "        Initializes the RolePrompt object with a prompt template and a role.\n",
        "\n",
        "        :param prompt: A string that can contain placeholders within curly braces\n",
        "        :param role: The role for the message ('system', 'user', or 'assistant')\n",
        "        \"\"\"\n",
        "        super().__init__(prompt)\n",
        "        self.role = role\n",
        "\n",
        "    def create_message(self, **kwargs):\n",
        "        \"\"\"\n",
        "        Creates a message dictionary with a role and a formatted message.\n",
        "\n",
        "        :param kwargs: The values to substitute into the prompt string\n",
        "        :return: Dictionary containing the role and the formatted message\n",
        "        \"\"\"\n",
        "        return {\"role\": self.role, \"content\": self.format_prompt(**kwargs)}\n",
        "```\n",
        "\n",
        "We'll look at how the `SystemRolePrompt` is constructed to get a better idea of how that extension works:\n",
        "\n",
        "```python\n",
        "class SystemRolePrompt(RolePrompt):\n",
        "    def __init__(self, prompt: str):\n",
        "        super().__init__(prompt, \"system\")\n",
        "```\n",
        "\n",
        "That pattern is repeated for our `UserRolePrompt` and our `AssistantRolePrompt` as well."
      ]
    },
    {
      "cell_type": "markdown",
      "metadata": {
        "id": "D361R6sMR6yw"
      },
      "source": [
        "##### ChatOpenAI"
      ]
    },
    {
      "cell_type": "markdown",
      "metadata": {
        "id": "HJVQ2Pm8R6yw"
      },
      "source": [
        "Next we have our model, which is converted to a format analagous to libraries like LangChain and LlamaIndex.\n",
        "\n",
        "Let's take a peek at how that is constructed:\n",
        "\n",
        "```python\n",
        "class ChatOpenAI:\n",
        "    def __init__(self, model_name: str = \"gpt-4o-mini\"):\n",
        "        self.model_name = model_name\n",
        "        self.openai_api_key = os.getenv(\"OPENAI_API_KEY\")\n",
        "        if self.openai_api_key is None:\n",
        "            raise ValueError(\"OPENAI_API_KEY is not set\")\n",
        "\n",
        "    def run(self, messages, text_only: bool = True):\n",
        "        if not isinstance(messages, list):\n",
        "            raise ValueError(\"messages must be a list\")\n",
        "\n",
        "        openai.api_key = self.openai_api_key\n",
        "        response = openai.ChatCompletion.create(\n",
        "            model=self.model_name, messages=messages\n",
        "        )\n",
        "\n",
        "        if text_only:\n",
        "            return response.choices[0].message.content\n",
        "\n",
        "        return response\n",
        "```"
      ]
    },
    {
      "cell_type": "markdown",
      "metadata": {
        "id": "qCU7FfhIR6yw"
      },
      "source": [
        "#### ❓ Question #3:\n",
        "\n",
        "When calling the OpenAI API - are there any ways we can achieve more reproducible outputs?\n",
        "\n",
        "> NOTE: Check out [this section](https://platform.openai.com/docs/guides/text-generation/) of the OpenAI documentation for the answer!"
      ]
    },
    {
      "cell_type": "markdown",
      "metadata": {},
      "source": [
        "**Q.3 When calling the OpenAI API - are there any ways we can achieve more reproducible outputs?**  \n",
        "**Ans:**  \n",
        "* Seed -> Open AI Models like gpt-4, gpt-3.5 supports seed parameter, which controls randomness and generates same output (given the same input + temperature) \n",
        "* Temperature ->  lower temperature makes responses more repeatable.\n",
        "* Top_p: Set to a lower value like 0.1 to reduce randomness\n",
        "* Frequency penalty and presence penalty: Set to 0 to prevent arbitrary variations\n",
        "* For structured data, enabling JSON mode forces the model to return valid, consistently structured JSON:\n"
      ]
    },
    {
      "cell_type": "markdown",
      "metadata": {
        "id": "c5wcjMLCR6yw"
      },
      "source": [
        "### Creating and Prompting OpenAI's `gpt-4o-mini`!\n",
        "\n",
        "Let's tie all these together and use it to prompt `gpt-4o-mini`!"
      ]
    },
    {
      "cell_type": "code",
      "execution_count": 11,
      "metadata": {
        "id": "WIfpIot7R6yw"
      },
      "outputs": [],
      "source": [
        "from aimakerspace.openai_utils.prompts import (\n",
        "    UserRolePrompt,\n",
        "    SystemRolePrompt,\n",
        "    AssistantRolePrompt,\n",
        ")\n",
        "\n",
        "from aimakerspace.openai_utils.chatmodel import ChatOpenAI\n",
        "\n",
        "chat_openai = ChatOpenAI()\n",
        "user_prompt_template = \"{content}\"\n",
        "user_role_prompt = UserRolePrompt(user_prompt_template)\n",
        "system_prompt_template = (\n",
        "    \"You are an expert in {expertise}, you always answer in a kind way.\"\n",
        ")\n",
        "system_role_prompt = SystemRolePrompt(system_prompt_template)\n",
        "\n",
        "messages = [\n",
        "    system_role_prompt.create_message(expertise=\"Python\"),\n",
        "    user_role_prompt.create_message(\n",
        "        content=\"What is the best way to write a loop?\"\n",
        "    ),\n",
        "]\n",
        "\n",
        "response = chat_openai.run(messages)"
      ]
    },
    {
      "cell_type": "code",
      "execution_count": 12,
      "metadata": {
        "colab": {
          "base_uri": "https://localhost:8080/"
        },
        "id": "dHo7lssNR6yw",
        "outputId": "1d3823fa-bb6b-45f6-ddba-b41686388324"
      },
      "outputs": [
        {
          "name": "stdout",
          "output_type": "stream",
          "text": [
            "The best way to write a loop in Python depends on what you want to achieve. Python offers several types of loops, most commonly `for` loops and `while` loops. Here are some guidelines for writing clear and efficient loops:\n",
            "\n",
            "### 1. **Using `for` loops**:\n",
            "`for` loops are often used when you have a known range or collection to iterate over. Here’s a basic example of a `for` loop:\n",
            "\n",
            "```python\n",
            "# Example: Iterating over a list\n",
            "fruits = ['apple', 'banana', 'cherry']\n",
            "for fruit in fruits:\n",
            "    print(fruit)\n",
            "```\n",
            "\n",
            "### 2. **Using `while` loops**:\n",
            "`while` loops are used when the number of iterations is not known beforehand, and you want to loop until a certain condition is met.\n",
            "\n",
            "```python\n",
            "# Example: Using a while loop\n",
            "count = 0\n",
            "while count < 5:\n",
            "    print(count)\n",
            "    count += 1\n",
            "```\n",
            "\n",
            "### 3. **Avoiding Infinite Loops**:\n",
            "Be careful when using `while` loops. Always ensure that there is a clear exit condition to prevent infinite loops.\n",
            "\n",
            "### 4. **Using Loop Control Statements**:\n",
            "You can use `break` to exit the loop early and `continue` to skip the current iteration and move to the next one.\n",
            "\n",
            "```python\n",
            "# Example with break and continue\n",
            "for number in range(10):\n",
            "    if number == 5:\n",
            "        break  # Exit the loop\n",
            "    elif number % 2 == 0:\n",
            "        continue  # Skip this iteration\n",
            "    print(number)\n",
            "```\n",
            "\n",
            "### 5. **Using List Comprehensions**:\n",
            "For certain cases, list comprehensions can provide a more concise way to create lists.\n",
            "\n",
            "```python\n",
            "# Example: Using a list comprehension\n",
            "squares = [x**2 for x in range(10)]\n",
            "print(squares)\n",
            "```\n",
            "\n",
            "### 6. **Looping with Enumerate**:\n",
            "If you need both the index and the value from a list, you can use `enumerate()`.\n",
            "\n",
            "```python\n",
            "# Example: Using enumerate\n",
            "for index, fruit in enumerate(fruits):\n",
            "    print(f\"{index}: {fruit}\")\n",
            "```\n",
            "\n",
            "### 7. **Keep It Readable**:\n",
            "Always prioritize readability in your loops. Use descriptive variable names and, if necessary, add comments to explain complex logic.\n",
            "\n",
            "By following these practices, you should be able to write loops that are both effective and easy to understand! If you have a specific scenario in mind, feel free to share, and I’d be glad to help with a more tailored example.\n"
          ]
        }
      ],
      "source": [
        "print(response)"
      ]
    },
    {
      "cell_type": "markdown",
      "metadata": {
        "id": "r2nxxhB2R6yy"
      },
      "source": [
        "## Task 5: Retrieval Augmented Generation\n",
        "\n",
        "Now we can create a RAG prompt - which will help our system behave in a way that makes sense!\n",
        "\n",
        "There is much you could do here, many tweaks and improvements to be made!"
      ]
    },
    {
      "cell_type": "code",
      "execution_count": 14,
      "metadata": {
        "id": "D1hamzGaR6yy"
      },
      "outputs": [],
      "source": [
        "RAG_PROMPT_TEMPLATE = \"\"\" \\\n",
        "Use the provided context to answer the user's query.\n",
        "\n",
        "You may not answer the user's query unless there is specific context in the following text.\n",
        "\n",
        "If you do not know the answer, or cannot answer, please respond with \"I don't know\".\n",
        "\"\"\"\n",
        "\n",
        "rag_prompt = SystemRolePrompt(RAG_PROMPT_TEMPLATE)\n",
        "\n",
        "USER_PROMPT_TEMPLATE = \"\"\" \\\n",
        "Context:\n",
        "{context}\n",
        "\n",
        "User Query:\n",
        "{user_query}\n",
        "\"\"\"\n",
        "\n",
        "\n",
        "user_prompt = UserRolePrompt(USER_PROMPT_TEMPLATE)\n",
        "\n",
        "class RetrievalAugmentedQAPipeline:\n",
        "    def __init__(self, llm: ChatOpenAI(), vector_db_retriever: VectorDatabase) -> None:\n",
        "        self.llm = llm\n",
        "        self.vector_db_retriever = vector_db_retriever\n",
        "\n",
        "    def run_pipeline(self, user_query: str) -> str:\n",
        "        context_list = self.vector_db_retriever.search_by_text(user_query, k=4)\n",
        "\n",
        "        context_prompt = \"\"\n",
        "        for context in context_list:\n",
        "            context_prompt += context[0] + \"\\n\"\n",
        "\n",
        "        formatted_system_prompt = rag_prompt.create_message()\n",
        "\n",
        "        formatted_user_prompt = user_prompt.create_message(user_query=user_query, context=context_prompt)\n",
        "\n",
        "        return {\"response\" : self.llm.run([formatted_system_prompt, formatted_user_prompt]), \"context\" : context_list}"
      ]
    },
    {
      "cell_type": "markdown",
      "metadata": {
        "id": "zZIJI19uR6yz"
      },
      "source": [
        "#### ❓ Question #4:\n",
        "\n",
        "What prompting strategies could you use to make the LLM have a more thoughtful, detailed response?\n",
        "\n",
        "What is that strategy called?\n",
        "\n",
        "> NOTE: You can look through [\"Accessing GPT-3.5-turbo Like a Developer\"](https://colab.research.google.com/drive/1mOzbgf4a2SP5qQj33ZxTz2a01-5eXqk2?usp=sharing) for an answer to this question if you get stuck!"
      ]
    },
    {
      "cell_type": "markdown",
      "metadata": {},
      "source": [
        "**Q.4 What prompting strategies could you use to make the LLM have a more thoughtful, detailed response?**\n",
        "\n",
        "**What is that strategy called?**\n",
        "\n",
        "**Ans:**  Chain-of-Thought Prompting   \n",
        "This is the primary strategy for encouraging more thoughtful, detailed responses. It involves explicitly asking the model to work through its reasoning step by step before arriving at a conclusion.\n",
        "Instead of: \"What's the answer to this math problem?\"  \n",
        "Use: \"Think through this math problem step by step, showing your reasoning at each stage before giving the final answer.\"  \n",
        "\n",
        "Chain-of-thought prompting significantly improves performance on complex reasoning tasks by:  \n",
        "* Breaking complex problems into smaller, more manageable parts\n",
        "* Allowing the model to catch errors in its own reasoning\n",
        "* Providing transparency into how the model reached its conclusion\n",
        "* Encouraging deeper exploration of the problem space\n",
        "\n",
        "Other effective strategies include:  \n",
        "  \n",
        "Few-shot exemplars - Providing examples of detailed responses you want to see  \n",
        "Role prompting - \"Respond as an expert who carefully considers all aspects of this question\"  "
      ]
    },
    {
      "cell_type": "code",
      "execution_count": 2,
      "metadata": {
        "id": "kqbE9fZ6R6yz"
      },
      "outputs": [
        {
          "ename": "NameError",
          "evalue": "name 'RetrievalAugmentedQAPipeline' is not defined",
          "output_type": "error",
          "traceback": [
            "\u001b[0;31m---------------------------------------------------------------------------\u001b[0m",
            "\u001b[0;31mNameError\u001b[0m                                 Traceback (most recent call last)",
            "Cell \u001b[0;32mIn[2], line 1\u001b[0m\n\u001b[0;32m----> 1\u001b[0m retrieval_augmented_qa_pipeline \u001b[38;5;241m=\u001b[39m \u001b[43mRetrievalAugmentedQAPipeline\u001b[49m(\n\u001b[1;32m      2\u001b[0m     vector_db_retriever\u001b[38;5;241m=\u001b[39mvector_db,\n\u001b[1;32m      3\u001b[0m     llm\u001b[38;5;241m=\u001b[39mchat_openai\n\u001b[1;32m      4\u001b[0m )\n",
            "\u001b[0;31mNameError\u001b[0m: name 'RetrievalAugmentedQAPipeline' is not defined"
          ]
        }
      ],
      "source": [
        "retrieval_augmented_qa_pipeline = RetrievalAugmentedQAPipeline(\n",
        "    vector_db_retriever=vector_db,\n",
        "    llm=chat_openai\n",
        ")"
      ]
    },
    {
      "cell_type": "code",
      "execution_count": 19,
      "metadata": {
        "colab": {
          "base_uri": "https://localhost:8080/"
        },
        "id": "jAGhaCGOR6yz",
        "outputId": "e4fb3a1b-d2bc-4e18-ec31-dc0adf767163"
      },
      "outputs": [
        {
          "data": {
            "text/plain": [
              "{'response': 'The Saksham Anganwadi and Poshan 2.0 programme provides nutritional support to more than 8 crore children, 1 crore pregnant women and lactating mothers all over the country, and about 20 lakh adolescent girls in aspirational districts and the north-east region. The cost norms for the nutritional support will be enhanced appropriately.',\n",
              " 'context': [(' and build our ecosystem for solar PV cells, EV batteries, motors \\nand controllers, electrolyzers, wind turbines, very high voltage transmission \\nequipment and grid scale batteries.   \\nInvestment as the 3rd engine  \\n39. Now, I move to Investment as the 3rd engine, which encompasses \\ninvesting in people, investing in the economy and investing in innovation.  \\nA. Investing in People  \\nSaksham Anganwadi and Poshan 2.0  \\n40. The Saksham Anganwadi and Poshan 2.0 programme provides \\nnutritional support to more than 8 crore children, 1 crore pregnant women and \\nlactating mothers all over the country, and about 20 lakh adolescent girls in \\naspirational districts and the north -east re gion. The cost norms for the \\nnutritional support will be enhanced appropriately.  \\nAtal Tinkering Labs  \\n41. Fifty thousand Atal Tinkering Labs will be set up in Government  schools \\nin next 5 years to cultivate the spirit of curiosity and innovation, and foster a \\nscientific temper among young minds.  \\nBroadban',\n",
              "   np.float64(0.5246425410446514)),\n",
              "  ('ng urban poor and \\nvulnerable groups. A scheme for socio -economic upliftment of urban workers \\nwill be implemented to help them improve their incomes, have sustainable \\nlivelihoods and a better quality of life.    \\nPM SVANidhi  \\n50. PM SVANidhi scheme has benefitted more than 68 lakh street vendors \\ngiving them respite from high -interest informal sector loans. Building on this \\nsuccess, the scheme will be revamped with enhanced loans from banks, UPI \\nlinked credit cards with ` 30,000 limit, and capacity building support.  \\nSocial Security Scheme for Welfare of Online Platform Workers  \\n51. Gig workers of online platforms provide great dynamism to the new -\\nage services economy.  Recognising their contribution, our Government  will \\narrange for their identity cards and registration on the e -Shram portal. They \\nwill be provided healthcare under PM Jan Arogya Yojana. This measure is likely \\nto assist nearly 1 crore gig -workers.   \\nB. Investing in the Economy  \\nPublic Private Partnersh',\n",
              "   np.float64(0.4573260716471887)),\n",
              "  ('lass families who were \\npaying EMIs on loans taken for apartments, while also paying rent for their \\ncurrent dwellings.  \\n73. Building on this success, SWAMIH Fund 2 will be established as a \\nblended finance facility with contribution from the Government , banks and \\nprivate investors. This fund of ` 15,000 crore will aim for expeditious \\ncompletion of another 1 lakh units.    \\nPM Gati Shakti Data for Private Sector  \\n74. For furthering PPPs and assisting the private sector in project planning, \\naccess to relevant data and maps from the PM Gati Shakti portal will be \\nprovided.        \\nTourism for employment -led growth  \\n75. Top 50 tourist destination sites in the country will be developed in \\npartnership with states through a challenge mode. Land for building key \\ninfrastructure will have to be provided by states. Hotels in those destinations \\nwill be included in the infrastruct ure HML.   \\n76. The following measures will be taken for facilitating employment -led \\ngrowth:  \\n1) Organiz',\n",
              "   np.float64(0.42731072754473903)),\n",
              "  ('ecialized measures, the programme will cover 100 districts with low \\nproductivity, moderate crop intensity and below -average credit parameters. It \\naims to (1) enhance agricultural  productivity, (2) adopt crop diversification and \\nsustainable agriculture practices, (3) augment post -harvest stor age at the \\npanchayat and block level, (4) improve irrigation facilities, and (5) facilitate \\navailability of long -term and short -term credit. This programme is likely to help \\n1.7 crore farmers.  \\nBuilding Rural Prosperity and Resilience  \\n11. A comprehensive multi -sectoral ‘Rural Prosperity and Resilience’ \\nprogramme will be launched in partnership with states. This will address under -\\nemployment in agriculture through skilling, investment, technology, and \\ninvigorating the rural economy. The goal  is to generate ample opportunities in \\nrural areas so that migration is an option, but not a necessity.  \\n12. The programme will focus on rural women, young farmers, rural youth, \\nmarginal an',\n",
              "   np.float64(0.41652425003363386))]}"
            ]
          },
          "execution_count": 19,
          "metadata": {},
          "output_type": "execute_result"
        }
      ],
      "source": [
        "# retrieval_augmented_qa_pipeline.run_pipeline(\"What is the 'Michael Eisner Memorial Weak Executive Problem'?\")\n",
        "retrieval_augmented_qa_pipeline.run_pipeline(\"Saksham Anganwadi and Poshan 2.0\")"
      ]
    },
    {
      "cell_type": "code",
      "execution_count": 3,
      "metadata": {},
      "outputs": [
        {
          "data": {
            "image/png": "[encoded data removed]",
            "text/plain": [
              "<IPython.core.display.Image object>"
            ]
          },
          "execution_count": 3,
          "metadata": {},
          "output_type": "execute_result"
        }
      ],
      "source": [
        "from IPython.display import Image\n",
        "Image(filename='images/RAG Process Diagram.png')"
      ]
    },
    {
      "cell_type": "markdown",
      "metadata": {},
      "source": [
        "### 🏗️ Activity #1:\n",
        "\n",
        "Enhance your RAG application in some way! \n",
        "\n",
        "Suggestions are: \n",
        "\n",
        "- Allow it to work with PDF files\n",
        "- Implement a new distance metric\n",
        "- Add metadata support to the vector database\n",
        "\n",
        "While these are suggestions, you should feel free to make whatever augmentations you desire! \n",
        "\n",
        "> NOTE: These additions might require you to work within the `aimakerspace` library - that's expected!"
      ]
    },
    {
      "cell_type": "markdown",
      "metadata": {},
      "source": [
        "**Using New Distance Metric**\n",
        "Eucledian Distance - Computes the Eucledian (L2) distance between two Vectors"
      ]
    },
    {
      "cell_type": "code",
      "execution_count": null,
      "metadata": {},
      "outputs": [],
      "source": [
        "import numpy as np\n",
        "def euclidean_distance(vector_a: np.array, vector_b: np.array) -> float:\n",
        "    \"\"\"Computes the Euclidean (L2) distance between two vectors.\n",
        "    \n",
        "    Returns a value >= 0, where 0 means vectors are identical.\n",
        "    Lower values indicate greater similarity.\n",
        "    \"\"\"\n",
        "    return np.linalg.norm(vector_a - vector_b)\n"
      ]
    },
    {
      "cell_type": "code",
      "execution_count": 22,
      "metadata": {},
      "outputs": [
        {
          "name": "stdout",
          "output_type": "stream",
          "text": [
            "Closest 2 vector(s): [('I like to eat broccoli and bananas.', np.float64(1.0743919730919849)), ('I ate a banana and spinach smoothie for breakfast.', np.float64(1.18577649219102))]\n",
            "Retrieved vector: [-0.00360005 -0.07098462 -0.02816089 ...  0.01615882 -0.02056681\n",
            "  0.00407682]\n",
            "Closest 2 text(s): ['I like to eat broccoli and bananas.', 'I ate a banana and spinach smoothie for breakfast.']\n"
          ]
        }
      ],
      "source": [
        "import numpy as np\n",
        "from collections import defaultdict\n",
        "from typing import List, Tuple, Callable\n",
        "from aimakerspace.openai_utils.embedding import EmbeddingModel\n",
        "import asyncio\n",
        "\n",
        "# Replaced the cosine similarity with euclidean_distance function:\n",
        "def euclidean_distance(vector_a: np.array, vector_b: np.array) -> float:\n",
        "    \"\"\"Computes the Euclidean (L2) distance between two vectors.\"\"\"\n",
        "    return np.linalg.norm(vector_a - vector_b)\n",
        "\n",
        "\n",
        "class VectorDatabase:\n",
        "    def __init__(self, embedding_model: EmbeddingModel = None):\n",
        "        self.vectors = defaultdict(np.array)\n",
        "        self.embedding_model = embedding_model or EmbeddingModel()\n",
        "\n",
        "    def insert(self, key: str, vector: np.array) -> None:\n",
        "        self.vectors[key] = vector\n",
        "\n",
        "    def search(\n",
        "        self,\n",
        "        query_vector: np.array,\n",
        "        k: int,\n",
        "        distance_measure: Callable = euclidean_distance,\n",
        "    ) -> List[Tuple[str, float]]:\n",
        "        scores = [\n",
        "            (key, distance_measure(query_vector, vector))\n",
        "            for key, vector in self.vectors.items()\n",
        "        ]\n",
        "        return sorted(scores, key=lambda x: x[1])[:k]  # sort by distance, lower is better\n",
        "\n",
        "    def search_by_text(\n",
        "        self,\n",
        "        query_text: str,\n",
        "        k: int,\n",
        "        distance_measure: Callable = euclidean_distance,\n",
        "        return_as_text: bool = False,\n",
        "    ) -> List[Tuple[str, float]]:\n",
        "        query_vector = self.embedding_model.get_embedding(query_text)\n",
        "        results = self.search(query_vector, k, distance_measure)\n",
        "        return [result[0] for result in results] if return_as_text else results\n",
        "\n",
        "    def retrieve_from_key(self, key: str) -> np.array:\n",
        "        return self.vectors.get(key, None)\n",
        "\n",
        "    async def abuild_from_list(self, list_of_text: List[str]) -> \"VectorDatabase\":\n",
        "        embeddings = await self.embedding_model.async_get_embeddings(list_of_text)\n",
        "        for text, embedding in zip(list_of_text, embeddings):\n",
        "            self.insert(text, np.array(embedding))\n",
        "        return self\n",
        "\n",
        "\n",
        "    list_of_text = [\n",
        "        \"I like to eat broccoli and bananas.\",\n",
        "        \"I ate a banana and spinach smoothie for breakfast.\",\n",
        "        \"Chinchillas and kittens are cute.\",\n",
        "        \"My sister adopted a kitten yesterday.\",\n",
        "        \"Look at this cute hamster munching on a piece of broccoli.\",\n",
        "    ]\n",
        "\n",
        "    vector_db = VectorDatabase()\n",
        "    vector_db = asyncio.run(vector_db.abuild_from_list(list_of_text))\n",
        "    k = 2\n",
        "\n",
        "    searched_vector = vector_db.search_by_text(\"I think fruit is awesome!\", k=k)\n",
        "    print(f\"Closest {k} vector(s):\", searched_vector)\n",
        "\n",
        "    retrieved_vector = vector_db.retrieve_from_key(\n",
        "        \"I like to eat broccoli and bananas.\"\n",
        "    )\n",
        "    print(\"Retrieved vector:\", retrieved_vector)\n",
        "\n",
        "    relevant_texts = vector_db.search_by_text(\n",
        "        \"I think fruit is awesome!\", k=k, return_as_text=True\n",
        "    )\n",
        "    print(f\"Closest {k} text(s):\", relevant_texts)\n"
      ]
    }
  ],
  "metadata": {
    "colab": {
      "provenance": []
    },
    "kernelspec": {
      "display_name": ".venv",
      "language": "python",
      "name": "python3"
    },
    "language_info": {
      "codemirror_mode": {
        "name": "ipython",
        "version": 3
      },
      "file_extension": ".py",
      "mimetype": "text/x-python",
      "name": "python",
      "nbconvert_exporter": "python",
      "pygments_lexer": "ipython3",
      "version": "3.13.2"
    },
    "orig_nbformat": 4,
    "widgets": {
      "application/vnd.jupyter.widget-state+json": {
        "1ce393d9afcf427d9d352259c5d32678": {
          "model_module": "@jupyter-widgets/controls",
          "model_module_version": "1.5.0",
          "model_name": "FloatProgressModel",
          "state": {
            "_dom_classes": [],
            "_model_module": "@jupyter-widgets/controls",
            "_model_module_version": "1.5.0",
            "_model_name": "FloatProgressModel",
            "_view_count": null,
            "_view_module": "@jupyter-widgets/controls",
            "_view_module_version": "1.5.0",
            "_view_name": "ProgressView",
            "bar_style": "",
            "description": "",
            "description_tooltip": null,
            "layout": "IPY_MODEL_4e6efd99f7d346e485b002fb0fa85cc7",
            "max": 1,
            "min": 0,
            "orientation": "horizontal",
            "style": "IPY_MODEL_3dfb67c39958461da6071e4c19c3fa41",
            "value": 1
          }
        },
        "3a4ba348cb004f8ab7b2b1395539c81b": {
          "model_module": "@jupyter-widgets/controls",
          "model_module_version": "1.5.0",
          "model_name": "LabelModel",
          "state": {
            "_dom_classes": [],
            "_model_module": "@jupyter-widgets/controls",
            "_model_module_version": "1.5.0",
            "_model_name": "LabelModel",
            "_view_count": null,
            "_view_module": "@jupyter-widgets/controls",
            "_view_module_version": "1.5.0",
            "_view_name": "LabelView",
            "description": "",
            "description_tooltip": null,
            "layout": "IPY_MODEL_d2ea5009dd16442cb5d8a0ac468e50a8",
            "placeholder": "​",
            "style": "IPY_MODEL_5f00135fe1044051a50ee5e841cbb8e3",
            "value": "0.018 MB of 0.018 MB uploaded\r"
          }
        },
        "3dfb67c39958461da6071e4c19c3fa41": {
          "model_module": "@jupyter-widgets/controls",
          "model_module_version": "1.5.0",
          "model_name": "ProgressStyleModel",
          "state": {
            "_model_module": "@jupyter-widgets/controls",
            "_model_module_version": "1.5.0",
            "_model_name": "ProgressStyleModel",
            "_view_count": null,
            "_view_module": "@jupyter-widgets/base",
            "_view_module_version": "1.2.0",
            "_view_name": "StyleView",
            "bar_color": null,
            "description_width": ""
          }
        },
        "4e6efd99f7d346e485b002fb0fa85cc7": {
          "model_module": "@jupyter-widgets/base",
          "model_module_version": "1.2.0",
          "model_name": "LayoutModel",
          "state": {
            "_model_module": "@jupyter-widgets/base",
            "_model_module_version": "1.2.0",
            "_model_name": "LayoutModel",
            "_view_count": null,
            "_view_module": "@jupyter-widgets/base",
            "_view_module_version": "1.2.0",
            "_view_name": "LayoutView",
            "align_content": null,
            "align_items": null,
            "align_self": null,
            "border": null,
            "bottom": null,
            "display": null,
            "flex": null,
            "flex_flow": null,
            "grid_area": null,
            "grid_auto_columns": null,
            "grid_auto_flow": null,
            "grid_auto_rows": null,
            "grid_column": null,
            "grid_gap": null,
            "grid_row": null,
            "grid_template_areas": null,
            "grid_template_columns": null,
            "grid_template_rows": null,
            "height": null,
            "justify_content": null,
            "justify_items": null,
            "left": null,
            "margin": null,
            "max_height": null,
            "max_width": null,
            "min_height": null,
            "min_width": null,
            "object_fit": null,
            "object_position": null,
            "order": null,
            "overflow": null,
            "overflow_x": null,
            "overflow_y": null,
            "padding": null,
            "right": null,
            "top": null,
            "visibility": null,
            "width": null
          }
        },
        "56a8e24025594e5e9ff3b8581c344691": {
          "model_module": "@jupyter-widgets/base",
          "model_module_version": "1.2.0",
          "model_name": "LayoutModel",
          "state": {
            "_model_module": "@jupyter-widgets/base",
            "_model_module_version": "1.2.0",
            "_model_name": "LayoutModel",
            "_view_count": null,
            "_view_module": "@jupyter-widgets/base",
            "_view_module_version": "1.2.0",
            "_view_name": "LayoutView",
            "align_content": null,
            "align_items": null,
            "align_self": null,
            "border": null,
            "bottom": null,
            "display": null,
            "flex": null,
            "flex_flow": null,
            "grid_area": null,
            "grid_auto_columns": null,
            "grid_auto_flow": null,
            "grid_auto_rows": null,
            "grid_column": null,
            "grid_gap": null,
            "grid_row": null,
            "grid_template_areas": null,
            "grid_template_columns": null,
            "grid_template_rows": null,
            "height": null,
            "justify_content": null,
            "justify_items": null,
            "left": null,
            "margin": null,
            "max_height": null,
            "max_width": null,
            "min_height": null,
            "min_width": null,
            "object_fit": null,
            "object_position": null,
            "order": null,
            "overflow": null,
            "overflow_x": null,
            "overflow_y": null,
            "padding": null,
            "right": null,
            "top": null,
            "visibility": null,
            "width": null
          }
        },
        "5f00135fe1044051a50ee5e841cbb8e3": {
          "model_module": "@jupyter-widgets/controls",
          "model_module_version": "1.5.0",
          "model_name": "DescriptionStyleModel",
          "state": {
            "_model_module": "@jupyter-widgets/controls",
            "_model_module_version": "1.5.0",
            "_model_name": "DescriptionStyleModel",
            "_view_count": null,
            "_view_module": "@jupyter-widgets/base",
            "_view_module_version": "1.2.0",
            "_view_name": "StyleView",
            "description_width": ""
          }
        },
        "bb904e05ece143c79ecc4f20de482f45": {
          "model_module": "@jupyter-widgets/controls",
          "model_module_version": "1.5.0",
          "model_name": "VBoxModel",
          "state": {
            "_dom_classes": [],
            "_model_module": "@jupyter-widgets/controls",
            "_model_module_version": "1.5.0",
            "_model_name": "VBoxModel",
            "_view_count": null,
            "_view_module": "@jupyter-widgets/controls",
            "_view_module_version": "1.5.0",
            "_view_name": "VBoxView",
            "box_style": "",
            "children": [
              "IPY_MODEL_3a4ba348cb004f8ab7b2b1395539c81b",
              "IPY_MODEL_1ce393d9afcf427d9d352259c5d32678"
            ],
            "layout": "IPY_MODEL_56a8e24025594e5e9ff3b8581c344691"
          }
        },
        "d2ea5009dd16442cb5d8a0ac468e50a8": {
          "model_module": "@jupyter-widgets/base",
          "model_module_version": "1.2.0",
          "model_name": "LayoutModel",
          "state": {
            "_model_module": "@jupyter-widgets/base",
            "_model_module_version": "1.2.0",
            "_model_name": "LayoutModel",
            "_view_count": null,
            "_view_module": "@jupyter-widgets/base",
            "_view_module_version": "1.2.0",
            "_view_name": "LayoutView",
            "align_content": null,
            "align_items": null,
            "align_self": null,
            "border": null,
            "bottom": null,
            "display": null,
            "flex": null,
            "flex_flow": null,
            "grid_area": null,
            "grid_auto_columns": null,
            "grid_auto_flow": null,
            "grid_auto_rows": null,
            "grid_column": null,
            "grid_gap": null,
            "grid_row": null,
            "grid_template_areas": null,
            "grid_template_columns": null,
            "grid_template_rows": null,
            "height": null,
            "justify_content": null,
            "justify_items": null,
            "left": null,
            "margin": null,
            "max_height": null,
            "max_width": null,
            "min_height": null,
            "min_width": null,
            "object_fit": null,
            "object_position": null,
            "order": null,
            "overflow": null,
            "overflow_x": null,
            "overflow_y": null,
            "padding": null,
            "right": null,
            "top": null,
            "visibility": null,
            "width": null
          }
        }
      }
    }
  },
  "nbformat": 4,
  "nbformat_minor": 0
}
